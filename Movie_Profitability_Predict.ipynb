{
  "nbformat": 4,
  "nbformat_minor": 0,
  "metadata": {
    "colab": {
      "name": "0416_2.ipynb",
      "version": "0.3.2",
      "provenance": []
    },
    "kernelspec": {
      "name": "python3",
      "display_name": "Python 3"
    },
    "accelerator": "GPU"
  },
  "cells": [
    {
      "cell_type": "markdown",
      "metadata": {
        "id": "view-in-github",
        "colab_type": "text"
      },
      "source": [
        "[View in Colaboratory](https://colab.research.google.com/github/xinliupitt/Projects/blob/master/0416_2.ipynb)"
      ]
    },
    {
      "metadata": {
        "id": "k3ceXcqLeS5M",
        "colab_type": "code",
        "colab": {}
      },
      "cell_type": "code",
      "source": [
        "import numpy as np # https://docs.scipy.org/doc/numpy/reference/\n",
        "import pandas as pd # https://pandas.pydata.org/pandas-docs/stable/\n",
        "from pandas.plotting import scatter_matrix\n",
        "import matplotlib.pyplot as plt\n",
        "from sklearn import model_selection\n",
        "from sklearn.metrics import classification_report\n",
        "from sklearn.metrics import confusion_matrix\n",
        "from sklearn.metrics import accuracy_score\n",
        "from sklearn.linear_model import LogisticRegression\n",
        "from sklearn.tree import DecisionTreeClassifier\n",
        "from sklearn.neighbors import KNeighborsClassifier\n",
        "from sklearn.discriminant_analysis import LinearDiscriminantAnalysis\n",
        "from sklearn.naive_bayes import GaussianNB\n",
        "from sklearn.svm import SVC\n",
        "from sklearn.ensemble import RandomForestClassifier\n",
        "from sklearn.preprocessing import PolynomialFeatures\n",
        "from sklearn.pipeline import make_pipeline\n",
        "from sklearn.feature_selection import RFE\n",
        "import seaborn as sns\n",
        "import math"
      ],
      "execution_count": 0,
      "outputs": []
    },
    {
      "metadata": {
        "id": "ulI6vPZFeWul",
        "colab_type": "code",
        "colab": {
          "base_uri": "https://localhost:8080/",
          "height": 34
        },
        "outputId": "a59cbdec-f2b3-432e-c518-c52907ecd1dc"
      },
      "cell_type": "code",
      "source": [
        "import tensorflow as tf\n",
        "tf.test.gpu_device_name()"
      ],
      "execution_count": 2,
      "outputs": [
        {
          "output_type": "execute_result",
          "data": {
            "text/plain": [
              "'/device:GPU:0'"
            ]
          },
          "metadata": {
            "tags": []
          },
          "execution_count": 2
        }
      ]
    },
    {
      "metadata": {
        "id": "eKPmsSdmebkE",
        "colab_type": "code",
        "colab": {}
      },
      "cell_type": "code",
      "source": [
        "!pip install -U -q PyDrive\n",
        " \n",
        "from pydrive.auth import GoogleAuth\n",
        "from pydrive.drive import GoogleDrive\n",
        "from google.colab import auth\n",
        "from oauth2client.client import GoogleCredentials\n",
        " \n",
        "# 1. Authenticate and create the PyDrive client.\n",
        "auth.authenticate_user()\n",
        "gauth = GoogleAuth()\n",
        "gauth.credentials = GoogleCredentials.get_application_default()\n",
        "drive = GoogleDrive(gauth)"
      ],
      "execution_count": 0,
      "outputs": []
    },
    {
      "metadata": {
        "id": "T7lTMrbQedmT",
        "colab_type": "code",
        "colab": {
          "base_uri": "https://localhost:8080/",
          "height": 255
        },
        "outputId": "8e47b182-e700-4c4c-f2a3-a1e9f8ca36bc"
      },
      "cell_type": "code",
      "source": [
        "file_list = drive.ListFile({'q': \"'1vghYJblRUxy5dtuGjBhfULjzorpeRz2A' in parents and trashed=false\"}).GetList()\n",
        "for file1 in file_list:\n",
        "  print('title: %s, id: %s' % (file1['title'], file1['id']))"
      ],
      "execution_count": 4,
      "outputs": [
        {
          "output_type": "stream",
          "text": [
            "title: 0416_2.ipynb, id: 1uAv0YKNDu0rZSkIy0yJuqgM-9TqgQeJo\n",
            "title: 0417_House.ipynb, id: 19QZbIhaq6emuP6XrHWP8-dFCv04El5ej\n",
            "title: 0416.ipynb, id: 1UKDd_j4f32FNN7cWf35XbevgsxeW8aav\n",
            "title: 0415_Corrected_2.ipynb, id: 1Z9G5NalmB3KyEFnqV69T0qGyyPyxBARd\n",
            "title: 0415.ipynb, id: 1PSvyfaVn00nx3Zc0hc4f0HdbqLMrpFPc\n",
            "title: 0415_Corrected.ipynb, id: 1_cq7xdviFTDN05S0WvPLYPs_9KvgW2I5\n",
            "title: 0414_House.ipynb, id: 1nqqlpVU2DtHOBDP24Hb51R0UBI4p9qRk\n",
            "title: HousePrice_Progress.ipynb, id: 1BeFgZ-pZd8XVKqkrUidQtMzR5VfkHFEb\n",
            "title: train.csv, id: 14TDFgAbfmwr5PcvhiZM1vTnB2xLwszxM\n",
            "title: test.csv, id: 1ltkGSVLvUKXB3TjzjGCwbWQukz4hu6Ve\n",
            "title: 0413.ipynb, id: 1CgQv2RAhHE6dMrBdWbwPgOKgZR8QQYHl\n",
            "title: movie_metadata.csv, id: 1rX03SO_GIxPSLDbIole671LBYne3sp0g\n",
            "title: IMDB_0411.ipynb, id: 1d02DJ1KMEvhNobQXTbI-5HvEJ3PC7r5T\n",
            "title: IMDB_0328.ipynb, id: 1URA1g7B7n_sXWQg5_Wj52A9_geaDEi9K\n"
          ],
          "name": "stdout"
        }
      ]
    },
    {
      "metadata": {
        "id": "JX18YV8tefux",
        "colab_type": "code",
        "colab": {}
      },
      "cell_type": "code",
      "source": [
        "train_downloaded = drive.CreateFile({'id': '1rX03SO_GIxPSLDbIole671LBYne3sp0g'})\n",
        "train_downloaded.GetContentFile('movie_metadata.csv')"
      ],
      "execution_count": 0,
      "outputs": []
    },
    {
      "metadata": {
        "id": "_eCvv90jeiop",
        "colab_type": "code",
        "colab": {}
      },
      "cell_type": "code",
      "source": [
        "mov=pd.read_csv('movie_metadata.csv')"
      ],
      "execution_count": 0,
      "outputs": []
    },
    {
      "metadata": {
        "id": "ZMkk9TA1ekyp",
        "colab_type": "code",
        "colab": {
          "base_uri": "https://localhost:8080/",
          "height": 153
        },
        "outputId": "e9423489-a03b-4e91-82e1-ffcb14618e5a"
      },
      "cell_type": "code",
      "source": [
        "print(mov.columns.values)"
      ],
      "execution_count": 7,
      "outputs": [
        {
          "output_type": "stream",
          "text": [
            "['color' 'director_name' 'num_critic_for_reviews' 'duration'\n",
            " 'director_facebook_likes' 'actor_3_facebook_likes' 'actor_2_name'\n",
            " 'actor_1_facebook_likes' 'gross' 'genres' 'actor_1_name' 'movie_title'\n",
            " 'num_voted_users' 'cast_total_facebook_likes' 'actor_3_name'\n",
            " 'facenumber_in_poster' 'plot_keywords' 'movie_imdb_link'\n",
            " 'num_user_for_reviews' 'language' 'country' 'content_rating' 'budget'\n",
            " 'title_year' 'actor_2_facebook_likes' 'imdb_score' 'aspect_ratio'\n",
            " 'movie_facebook_likes']\n"
          ],
          "name": "stdout"
        }
      ]
    },
    {
      "metadata": {
        "id": "Oiqxkue7fFDD",
        "colab_type": "code",
        "colab": {}
      },
      "cell_type": "code",
      "source": [
        "mov.drop([\"aspect_ratio\", \"movie_imdb_link\"], inplace=True, axis=1) # attributes not related to imdb score"
      ],
      "execution_count": 0,
      "outputs": []
    },
    {
      "metadata": {
        "id": "hAu-wx_efJ3q",
        "colab_type": "code",
        "colab": {}
      },
      "cell_type": "code",
      "source": [
        "mov.drop([\"num_critic_for_reviews\", \"num_voted_users\",\"num_user_for_reviews\",\"movie_facebook_likes\",\"imdb_score\"], inplace=True, axis=1) # attributes cannot be known before a movie is shot\n",
        "# gross is not dropped here for further use"
      ],
      "execution_count": 0,
      "outputs": []
    },
    {
      "metadata": {
        "id": "jRcRv66BfdrU",
        "colab_type": "code",
        "colab": {
          "base_uri": "https://localhost:8080/",
          "height": 102
        },
        "outputId": "077315d9-7513-45dc-aab8-6b77e6515151"
      },
      "cell_type": "code",
      "source": [
        "print(mov.columns.values)"
      ],
      "execution_count": 10,
      "outputs": [
        {
          "output_type": "stream",
          "text": [
            "['color' 'director_name' 'duration' 'director_facebook_likes'\n",
            " 'actor_3_facebook_likes' 'actor_2_name' 'actor_1_facebook_likes' 'gross'\n",
            " 'genres' 'actor_1_name' 'movie_title' 'cast_total_facebook_likes'\n",
            " 'actor_3_name' 'facenumber_in_poster' 'plot_keywords' 'language'\n",
            " 'country' 'content_rating' 'budget' 'title_year' 'actor_2_facebook_likes']\n"
          ],
          "name": "stdout"
        }
      ]
    },
    {
      "metadata": {
        "id": "qGg2cxPHfig5",
        "colab_type": "code",
        "colab": {}
      },
      "cell_type": "code",
      "source": [
        "mov.dropna(subset=['gross','content_rating','budget'],how='all',inplace=True)"
      ],
      "execution_count": 0,
      "outputs": []
    },
    {
      "metadata": {
        "id": "19b1VS2GfoPk",
        "colab_type": "code",
        "colab": {}
      },
      "cell_type": "code",
      "source": [
        "mov = mov.drop( mov[ (mov.content_rating=='TV-14') | (mov.content_rating=='TV-PG') | \n",
        "                     (mov.content_rating=='TV-MA') |(mov.content_rating=='TV-G')|\n",
        "                     (mov.content_rating=='TV-Y') |(mov.content_rating=='TV-Y7')].index)"
      ],
      "execution_count": 0,
      "outputs": []
    },
    {
      "metadata": {
        "id": "BDkmwmyffu_m",
        "colab_type": "code",
        "colab": {}
      },
      "cell_type": "code",
      "source": [
        "values = {'content_rating': \"Unrated\"}\n",
        "mov=mov.fillna(value=values)"
      ],
      "execution_count": 0,
      "outputs": []
    },
    {
      "metadata": {
        "id": "VhZCPz7TfyIt",
        "colab_type": "code",
        "colab": {}
      },
      "cell_type": "code",
      "source": [
        "mov.drop( mov[ (np.isnan(mov.gross)==True) & (np.isnan(mov.budget)==True) &\n",
        "          ((mov.content_rating==\"Unrated\")|(mov.content_rating==\"Not Rated\"))].index, inplace=True)"
      ],
      "execution_count": 0,
      "outputs": []
    },
    {
      "metadata": {
        "id": "0cxrXN7XeRfQ",
        "colab_type": "code",
        "colab": {}
      },
      "cell_type": "code",
      "source": [
        "mov.drop( mov[ (np.isnan(mov.gross)==True) | (np.isnan(mov.budget)==True)].index, inplace=True)"
      ],
      "execution_count": 0,
      "outputs": []
    },
    {
      "metadata": {
        "id": "Ezs1MU7zf1J9",
        "colab_type": "code",
        "colab": {}
      },
      "cell_type": "code",
      "source": [
        "mov.reset_index(drop=True, inplace=True)"
      ],
      "execution_count": 0,
      "outputs": []
    },
    {
      "metadata": {
        "id": "9Ewj0-SqiDNH",
        "colab_type": "code",
        "colab": {}
      },
      "cell_type": "code",
      "source": [
        "numeric_features=mov._get_numeric_data().columns.values.tolist()\n",
        "\n",
        "text_features=mov.columns.values.tolist()\n",
        "text_features=[i for i in text_features if i not in numeric_features]\n",
        "\n",
        "\n",
        "\n",
        "string_features=[\"movie_title\", \"plot_keywords\",\"genres\"]\n",
        "\n",
        "categorical_features=[i for i in text_features if i not in string_features]"
      ],
      "execution_count": 0,
      "outputs": []
    },
    {
      "metadata": {
        "id": "6Xml5mdnJ42r",
        "colab_type": "code",
        "colab": {
          "base_uri": "https://localhost:8080/",
          "height": 187
        },
        "outputId": "a760964a-5697-44cd-847d-fd8ae6bee14a"
      },
      "cell_type": "code",
      "source": [
        "numeric_features"
      ],
      "execution_count": 19,
      "outputs": [
        {
          "output_type": "execute_result",
          "data": {
            "text/plain": [
              "['duration',\n",
              " 'director_facebook_likes',\n",
              " 'actor_3_facebook_likes',\n",
              " 'actor_1_facebook_likes',\n",
              " 'gross',\n",
              " 'cast_total_facebook_likes',\n",
              " 'facenumber_in_poster',\n",
              " 'budget',\n",
              " 'title_year',\n",
              " 'actor_2_facebook_likes']"
            ]
          },
          "metadata": {
            "tags": []
          },
          "execution_count": 19
        }
      ]
    },
    {
      "metadata": {
        "id": "_36tR7se-RD1",
        "colab_type": "code",
        "colab": {
          "base_uri": "https://localhost:8080/",
          "height": 204
        },
        "outputId": "6b931eec-4841-4d2b-adbf-303fbf14fc61"
      },
      "cell_type": "code",
      "source": [
        "text_features"
      ],
      "execution_count": 18,
      "outputs": [
        {
          "output_type": "execute_result",
          "data": {
            "text/plain": [
              "['color',\n",
              " 'director_name',\n",
              " 'actor_2_name',\n",
              " 'genres',\n",
              " 'actor_1_name',\n",
              " 'movie_title',\n",
              " 'actor_3_name',\n",
              " 'plot_keywords',\n",
              " 'language',\n",
              " 'country',\n",
              " 'content_rating']"
            ]
          },
          "metadata": {
            "tags": []
          },
          "execution_count": 18
        }
      ]
    },
    {
      "metadata": {
        "id": "Rsy2OAxkgJ04",
        "colab_type": "code",
        "colab": {}
      },
      "cell_type": "code",
      "source": [
        "from sklearn.preprocessing import Imputer\n",
        "from sklearn.preprocessing import StandardScaler \n",
        "imp=Imputer(missing_values=\"NaN\", strategy=\"mean\",axis=0) # here the strategy is subject to change.\n",
        "mov[numeric_features]=imp.fit_transform(mov[numeric_features])\n",
        "\n",
        "\n",
        "\n"
      ],
      "execution_count": 0,
      "outputs": []
    },
    {
      "metadata": {
        "id": "94Zcuto6hN2z",
        "colab_type": "code",
        "colab": {}
      },
      "cell_type": "code",
      "source": [
        "mov=pd.concat([mov,(mov['gross']-mov['budget'])/mov['budget']],axis=1)"
      ],
      "execution_count": 0,
      "outputs": []
    },
    {
      "metadata": {
        "id": "GuT2jIiujbXF",
        "colab_type": "code",
        "colab": {}
      },
      "cell_type": "code",
      "source": [
        "mov['gross_RoI']=mov[0]"
      ],
      "execution_count": 0,
      "outputs": []
    },
    {
      "metadata": {
        "id": "Gphi__mCkzok",
        "colab_type": "code",
        "colab": {}
      },
      "cell_type": "code",
      "source": [
        "mov.drop([0], inplace=True, axis=1)"
      ],
      "execution_count": 0,
      "outputs": []
    },
    {
      "metadata": {
        "id": "kKp8QQi9lW61",
        "colab_type": "code",
        "colab": {}
      },
      "cell_type": "code",
      "source": [
        "# convert to 100% cutoff -> 1.0\n",
        "mov['gross_RoI_cut']=mov['gross_RoI']\n",
        "for i, num in enumerate(mov.loc[:,'gross_RoI']):\n",
        "  if num>=1.0:\n",
        "    mov.loc[i,'gross_RoI_cut']=1\n",
        "  else:\n",
        "    mov.loc[i,'gross_RoI_cut']=0"
      ],
      "execution_count": 0,
      "outputs": []
    },
    {
      "metadata": {
        "id": "bTjjB1NKibEl",
        "colab_type": "code",
        "colab": {}
      },
      "cell_type": "code",
      "source": [
        "mov.drop([\"gross\"], inplace=True, axis=1)"
      ],
      "execution_count": 0,
      "outputs": []
    },
    {
      "metadata": {
        "id": "2UwN8bAGiuPX",
        "colab_type": "code",
        "colab": {}
      },
      "cell_type": "code",
      "source": [
        "mov.drop([\"gross_RoI\"], inplace=True, axis=1)\n",
        "# scl=StandardScaler() # do we really need this? Will we try PCA?\n",
        "# mov[numeric_features]=scl.fit_transform(mov[numeric_features])"
      ],
      "execution_count": 0,
      "outputs": []
    },
    {
      "metadata": {
        "id": "nDRkZ9FylCha",
        "colab_type": "code",
        "colab": {}
      },
      "cell_type": "code",
      "source": [
        "labels=mov[\"gross_RoI_cut\"]\n",
        "mov.drop([\"gross_RoI_cut\"], inplace=True, axis=1)"
      ],
      "execution_count": 0,
      "outputs": []
    },
    {
      "metadata": {
        "id": "jfOLyb7fkASc",
        "colab_type": "code",
        "colab": {}
      },
      "cell_type": "code",
      "source": [
        "numeric_features.remove('gross')"
      ],
      "execution_count": 0,
      "outputs": []
    },
    {
      "metadata": {
        "id": "CQrt-iCXnXoK",
        "colab_type": "code",
        "colab": {
          "base_uri": "https://localhost:8080/",
          "height": 170
        },
        "outputId": "c7bb5d3a-3209-4eea-ced3-9934dd908185"
      },
      "cell_type": "code",
      "source": [
        "numeric_features"
      ],
      "execution_count": 31,
      "outputs": [
        {
          "output_type": "execute_result",
          "data": {
            "text/plain": [
              "['duration',\n",
              " 'director_facebook_likes',\n",
              " 'actor_3_facebook_likes',\n",
              " 'actor_1_facebook_likes',\n",
              " 'cast_total_facebook_likes',\n",
              " 'facenumber_in_poster',\n",
              " 'budget',\n",
              " 'title_year',\n",
              " 'actor_2_facebook_likes']"
            ]
          },
          "metadata": {
            "tags": []
          },
          "execution_count": 31
        }
      ]
    },
    {
      "metadata": {
        "id": "ADOFe81joj-Z",
        "colab_type": "code",
        "colab": {}
      },
      "cell_type": "code",
      "source": [
        "# we only to analyze 'director_facebook_likes','actor_3_facebook_likes','cast_total_facebook_likes',\n",
        "# 'budget','title_year'"
      ],
      "execution_count": 0,
      "outputs": []
    },
    {
      "metadata": {
        "id": "95HiO4gnunoH",
        "colab_type": "code",
        "colab": {
          "base_uri": "https://localhost:8080/",
          "height": 153
        },
        "outputId": "cc68e221-e1ca-4789-cf1a-2458523847c8"
      },
      "cell_type": "code",
      "source": [
        "categorical_features"
      ],
      "execution_count": 33,
      "outputs": [
        {
          "output_type": "execute_result",
          "data": {
            "text/plain": [
              "['color',\n",
              " 'director_name',\n",
              " 'actor_2_name',\n",
              " 'actor_1_name',\n",
              " 'actor_3_name',\n",
              " 'language',\n",
              " 'country',\n",
              " 'content_rating']"
            ]
          },
          "metadata": {
            "tags": []
          },
          "execution_count": 33
        }
      ]
    },
    {
      "metadata": {
        "id": "ZO0aH7zDvV4G",
        "colab_type": "code",
        "colab": {}
      },
      "cell_type": "code",
      "source": [
        "for feat in categorical_features:\n",
        "    mov=pd.concat([mov, pd.get_dummies(mov[feat], prefix=feat, dummy_na=True)],axis=1)"
      ],
      "execution_count": 0,
      "outputs": []
    },
    {
      "metadata": {
        "id": "KOoI5aTSvfcZ",
        "colab_type": "code",
        "colab": {}
      },
      "cell_type": "code",
      "source": [
        "cat_dummies=[i for i in mov.columns.values.tolist() if i not in numeric_features]\n",
        "cat_dummies=[i for i in cat_dummies if i not in text_features]"
      ],
      "execution_count": 0,
      "outputs": []
    },
    {
      "metadata": {
        "id": "4B2NXV4Ovpf6",
        "colab_type": "code",
        "colab": {}
      },
      "cell_type": "code",
      "source": [
        "num_features_2 =['director_facebook_likes','actor_3_facebook_likes','cast_total_facebook_likes','budget','title_year','facenumber_in_poster','duration']"
      ],
      "execution_count": 0,
      "outputs": []
    },
    {
      "metadata": {
        "id": "LBjDsPvGgKGU",
        "colab_type": "code",
        "colab": {}
      },
      "cell_type": "code",
      "source": [
        "mov[\"genres\"]=mov[\"genres\"].fillna(\"None\")"
      ],
      "execution_count": 0,
      "outputs": []
    },
    {
      "metadata": {
        "id": "dc_fuU1SoZZP",
        "colab_type": "code",
        "colab": {}
      },
      "cell_type": "code",
      "source": [
        "from sklearn.feature_extraction.text import CountVectorizer\n",
        "def token(text):\n",
        "    return(text.split(\"|\"))\n",
        "cv=CountVectorizer(max_features=200,tokenizer=token )\n",
        "genres_words=cv.fit_transform(mov[\"genres\"])\n",
        "genres_words=genres_words.toarray()\n",
        "genres_words\n",
        "words_for_genres = cv.get_feature_names()\n",
        "genres_words_Df=pd.DataFrame(genres_words, columns=words_for_genres)\n"
      ],
      "execution_count": 0,
      "outputs": []
    },
    {
      "metadata": {
        "id": "iC1UZCi6rExG",
        "colab_type": "code",
        "colab": {}
      },
      "cell_type": "code",
      "source": [
        "genres_list=genres_words_Df.columns.tolist()"
      ],
      "execution_count": 0,
      "outputs": []
    },
    {
      "metadata": {
        "id": "8l_D3syL5I80",
        "colab_type": "code",
        "colab": {}
      },
      "cell_type": "code",
      "source": [
        "from sklearn.feature_extraction.text import CountVectorizer\n",
        "mov[\"plot_keywords\"]=mov[\"plot_keywords\"].fillna(\"None\")\n",
        "\n",
        "def token(text):\n",
        "    return(text.split(\"|\"))\n",
        "\n",
        "cv=CountVectorizer(max_features=200,tokenizer=token )\n",
        "plot_keywords_words=cv.fit_transform(mov[\"plot_keywords\"])\n",
        "\n",
        "plot_keywords_words=plot_keywords_words.toarray()\n",
        "\n",
        "words = cv.get_feature_names()\n",
        "words=[\"Keyword_\"+w for w in words]\n",
        "\n",
        "keywords=pd.DataFrame(plot_keywords_words, columns=words)"
      ],
      "execution_count": 0,
      "outputs": []
    },
    {
      "metadata": {
        "id": "VDljibO95uAM",
        "colab_type": "code",
        "colab": {
          "base_uri": "https://localhost:8080/",
          "height": 153
        },
        "outputId": "d44d267c-ee18-4bc9-ccf2-eab31381bc7e"
      },
      "cell_type": "code",
      "source": [
        "keys=[w for w in words if keywords[w].sum()>70] \n",
        "### takes the keywords that concern at least 80 (totally arbitrary) of the movies\n",
        "len(keys)\n",
        "keys"
      ],
      "execution_count": 41,
      "outputs": [
        {
          "output_type": "execute_result",
          "data": {
            "text/plain": [
              "['Keyword_alien',\n",
              " 'Keyword_death',\n",
              " 'Keyword_friend',\n",
              " 'Keyword_high school',\n",
              " 'Keyword_love',\n",
              " 'Keyword_murder',\n",
              " 'Keyword_new york city',\n",
              " 'Keyword_police']"
            ]
          },
          "metadata": {
            "tags": []
          },
          "execution_count": 41
        }
      ]
    },
    {
      "metadata": {
        "id": "tKE3dPek5xDf",
        "colab_type": "code",
        "colab": {}
      },
      "cell_type": "code",
      "source": [
        "mov=pd.concat([mov, genres_words_Df,keywords[keys]],axis=1)"
      ],
      "execution_count": 0,
      "outputs": []
    },
    {
      "metadata": {
        "id": "3aoZxkhZqr--",
        "colab_type": "code",
        "colab": {}
      },
      "cell_type": "code",
      "source": [
        "from sklearn.feature_selection import SelectKBest\n",
        "from sklearn.feature_selection import chi2\n",
        "test = SelectKBest(score_func=chi2, k=21)\n",
        "fit = test.fit(mov[num_features_2+cat_dummies+genres_list+keys], labels)"
      ],
      "execution_count": 0,
      "outputs": []
    },
    {
      "metadata": {
        "id": "jBfbow48wpgr",
        "colab_type": "code",
        "colab": {
          "base_uri": "https://localhost:8080/",
          "height": 17034
        },
        "outputId": "375d3067-3b24-4c9f-c9d3-d28938431ae5"
      },
      "cell_type": "code",
      "source": [
        "sorted(fit.scores_.tolist(),reverse=True)"
      ],
      "execution_count": 44,
      "outputs": [
        {
          "output_type": "execute_result",
          "data": {
            "text/plain": [
              "[17107359222.013714,\n",
              " 19579.77725663301,\n",
              " 6958.938004345486,\n",
              " 122.70269655063962,\n",
              " 20.230299918295916,\n",
              " 15.467380452777238,\n",
              " 14.994604316546763,\n",
              " 12.66903780861601,\n",
              " 12.495503597122303,\n",
              " 10.583238586379263,\n",
              " 10.503976497561478,\n",
              " 9.996402877697843,\n",
              " 9.996402877697843,\n",
              " 9.996402877697843,\n",
              " 9.996402877697843,\n",
              " 9.238009412110642,\n",
              " 8.81294365371323,\n",
              " 8.81294365371323,\n",
              " 8.81294365371323,\n",
              " 8.81294365371323,\n",
              " 8.668786185562151,\n",
              " 7.596170196293874,\n",
              " 7.497302158273381,\n",
              " 7.497302158273381,\n",
              " 7.497302158273381,\n",
              " 7.497302158273381,\n",
              " 7.497302158273381,\n",
              " 7.497302158273381,\n",
              " 7.497302158273381,\n",
              " 7.497302158273381,\n",
              " 7.497302158273381,\n",
              " 7.497302158273381,\n",
              " 7.497302158273381,\n",
              " 7.497302158273381,\n",
              " 7.497302158273381,\n",
              " 7.497302158273381,\n",
              " 7.497302158273381,\n",
              " 7.497302158273381,\n",
              " 7.497302158273381,\n",
              " 7.497302158273381,\n",
              " 7.497302158273381,\n",
              " 7.497302158273381,\n",
              " 7.497302158273381,\n",
              " 7.497302158273381,\n",
              " 7.497302158273381,\n",
              " 7.497302158273381,\n",
              " 7.497302158273381,\n",
              " 7.497302158273381,\n",
              " 7.497302158273381,\n",
              " 7.497302158273381,\n",
              " 7.497302158273381,\n",
              " 7.497302158273381,\n",
              " 7.497302158273381,\n",
              " 7.497302158273381,\n",
              " 7.497302158273381,\n",
              " 7.497302158273381,\n",
              " 7.436046890818494,\n",
              " 6.718749938516263,\n",
              " 6.477151089491847,\n",
              " 6.477151089491847,\n",
              " 6.477151089491847,\n",
              " 6.477151089491847,\n",
              " 6.477151089491847,\n",
              " 6.477151089491847,\n",
              " 6.477151089491847,\n",
              " 6.477151089491847,\n",
              " 6.477151089491847,\n",
              " 6.396546814365708,\n",
              " 6.396546814365708,\n",
              " 6.296870533183283,\n",
              " 6.296870533183283,\n",
              " 6.296870533183283,\n",
              " 6.296870533183283,\n",
              " 6.296870533183283,\n",
              " 6.296870533183283,\n",
              " 6.002159050017991,\n",
              " 6.002159050017991,\n",
              " 6.002159050017991,\n",
              " 5.6020151133501255,\n",
              " 5.596259125943476,\n",
              " 5.39546793655396,\n",
              " 5.204961139041268,\n",
              " 4.9982014388489215,\n",
              " 4.9982014388489215,\n",
              " 4.9982014388489215,\n",
              " 4.9982014388489215,\n",
              " 4.9982014388489215,\n",
              " 4.9982014388489215,\n",
              " 4.9982014388489215,\n",
              " 4.9982014388489215,\n",
              " 4.9982014388489215,\n",
              " 4.9982014388489215,\n",
              " 4.9982014388489215,\n",
              " 4.9982014388489215,\n",
              " 4.9982014388489215,\n",
              " 4.9982014388489215,\n",
              " 4.9982014388489215,\n",
              " 4.9982014388489215,\n",
              " 4.9982014388489215,\n",
              " 4.9982014388489215,\n",
              " 4.9982014388489215,\n",
              " 4.9982014388489215,\n",
              " 4.9982014388489215,\n",
              " 4.9982014388489215,\n",
              " 4.9982014388489215,\n",
              " 4.9982014388489215,\n",
              " 4.9982014388489215,\n",
              " 4.9982014388489215,\n",
              " 4.9982014388489215,\n",
              " 4.9982014388489215,\n",
              " 4.9982014388489215,\n",
              " 4.9982014388489215,\n",
              " 4.9982014388489215,\n",
              " 4.9982014388489215,\n",
              " 4.9982014388489215,\n",
              " 4.9982014388489215,\n",
              " 4.9982014388489215,\n",
              " 4.9982014388489215,\n",
              " 4.9982014388489215,\n",
              " 4.9982014388489215,\n",
              " 4.9982014388489215,\n",
              " 4.9982014388489215,\n",
              " 4.9982014388489215,\n",
              " 4.9982014388489215,\n",
              " 4.9982014388489215,\n",
              " 4.9982014388489215,\n",
              " 4.9982014388489215,\n",
              " 4.9982014388489215,\n",
              " 4.9982014388489215,\n",
              " 4.9982014388489215,\n",
              " 4.9982014388489215,\n",
              " 4.9982014388489215,\n",
              " 4.9982014388489215,\n",
              " 4.9982014388489215,\n",
              " 4.9982014388489215,\n",
              " 4.9982014388489215,\n",
              " 4.9982014388489215,\n",
              " 4.9982014388489215,\n",
              " 4.9982014388489215,\n",
              " 4.9982014388489215,\n",
              " 4.9982014388489215,\n",
              " 4.9982014388489215,\n",
              " 4.9982014388489215,\n",
              " 4.9982014388489215,\n",
              " 4.9982014388489215,\n",
              " 4.9982014388489215,\n",
              " 4.9982014388489215,\n",
              " 4.9982014388489215,\n",
              " 4.9982014388489215,\n",
              " 4.9982014388489215,\n",
              " 4.9982014388489215,\n",
              " 4.9982014388489215,\n",
              " 4.9982014388489215,\n",
              " 4.9982014388489215,\n",
              " 4.9982014388489215,\n",
              " 4.9982014388489215,\n",
              " 4.9982014388489215,\n",
              " 4.9982014388489215,\n",
              " 4.9982014388489215,\n",
              " 4.9982014388489215,\n",
              " 4.9982014388489215,\n",
              " 4.9982014388489215,\n",
              " 4.9982014388489215,\n",
              " 4.9982014388489215,\n",
              " 4.9982014388489215,\n",
              " 4.9982014388489215,\n",
              " 4.9982014388489215,\n",
              " 4.9982014388489215,\n",
              " 4.9982014388489215,\n",
              " 4.9982014388489215,\n",
              " 4.9982014388489215,\n",
              " 4.9982014388489215,\n",
              " 4.9982014388489215,\n",
              " 4.9982014388489215,\n",
              " 4.9982014388489215,\n",
              " 4.9982014388489215,\n",
              " 4.9982014388489215,\n",
              " 4.9982014388489215,\n",
              " 4.9982014388489215,\n",
              " 4.9982014388489215,\n",
              " 4.9982014388489215,\n",
              " 4.9982014388489215,\n",
              " 4.9982014388489215,\n",
              " 4.9982014388489215,\n",
              " 4.9982014388489215,\n",
              " 4.9982014388489215,\n",
              " 4.9982014388489215,\n",
              " 4.9982014388489215,\n",
              " 4.9982014388489215,\n",
              " 4.9982014388489215,\n",
              " 4.9982014388489215,\n",
              " 4.9982014388489215,\n",
              " 4.9982014388489215,\n",
              " 4.9982014388489215,\n",
              " 4.9982014388489215,\n",
              " 4.9982014388489215,\n",
              " 4.9982014388489215,\n",
              " 4.9982014388489215,\n",
              " 4.9982014388489215,\n",
              " 4.9982014388489215,\n",
              " 4.9982014388489215,\n",
              " 4.9982014388489215,\n",
              " 4.9982014388489215,\n",
              " 4.9982014388489215,\n",
              " 4.9982014388489215,\n",
              " 4.9982014388489215,\n",
              " 4.9982014388489215,\n",
              " 4.9982014388489215,\n",
              " 4.9982014388489215,\n",
              " 4.9982014388489215,\n",
              " 4.9982014388489215,\n",
              " 4.9982014388489215,\n",
              " 4.9982014388489215,\n",
              " 4.9982014388489215,\n",
              " 4.9982014388489215,\n",
              " 4.9982014388489215,\n",
              " 4.9982014388489215,\n",
              " 4.9982014388489215,\n",
              " 4.801727240014394,\n",
              " 4.801727240014394,\n",
              " 4.801727240014394,\n",
              " 4.619793155759669,\n",
              " 4.509851676952788,\n",
              " 4.509851676952788,\n",
              " 4.509851676952788,\n",
              " 4.29034991214107,\n",
              " 4.264364542910472,\n",
              " 4.264364542910472,\n",
              " 4.264364542910472,\n",
              " 4.264364542910472,\n",
              " 4.264364542910472,\n",
              " 4.264364542910472,\n",
              " 4.264364542910472,\n",
              " 4.264364542910472,\n",
              " 4.223012602872004,\n",
              " 4.223012602872004,\n",
              " 4.223012602872004,\n",
              " 4.223012602872004,\n",
              " 4.223012602872004,\n",
              " 4.223012602872004,\n",
              " 4.223012602872004,\n",
              " 4.223012602872004,\n",
              " 4.223012602872004,\n",
              " 4.223012602872004,\n",
              " 4.223012602872004,\n",
              " 4.223012602872004,\n",
              " 4.223012602872004,\n",
              " 4.223012602872004,\n",
              " 4.223012602872004,\n",
              " 4.223012602872004,\n",
              " 4.223012602872004,\n",
              " 4.223012602872004,\n",
              " 4.223012602872004,\n",
              " 4.223012602872004,\n",
              " 4.223012602872004,\n",
              " 4.223012602872004,\n",
              " 4.223012602872004,\n",
              " 4.06623976706475,\n",
              " 4.06623976706475,\n",
              " 3.9082179043558964,\n",
              " 3.735636381657024,\n",
              " 3.6337476650888396,\n",
              " 3.6337476650888396,\n",
              " 3.6337476650888396,\n",
              " 3.6012954300107953,\n",
              " 3.6012954300107953,\n",
              " 3.6012954300107953,\n",
              " 3.6012954300107953,\n",
              " 3.6012954300107953,\n",
              " 3.6012954300107953,\n",
              " 3.6012954300107953,\n",
              " 3.5284874870884146,\n",
              " 3.5284874870884146,\n",
              " 3.5284874870884146,\n",
              " 3.4160970899422956,\n",
              " 3.201151493342929,\n",
              " 3.201151493342929,\n",
              " 3.201151493342929,\n",
              " 3.151673286878131,\n",
              " 3.151673286878131,\n",
              " 3.0335789776163766,\n",
              " 3.02905794292238,\n",
              " 2.844359112544861,\n",
              " 2.8010075566750627,\n",
              " 2.8010075566750627,\n",
              " 2.8010075566750627,\n",
              " 2.8010075566750627,\n",
              " 2.8010075566750627,\n",
              " 2.8010075566750627,\n",
              " 2.8010075566750627,\n",
              " 2.8010075566750627,\n",
              " 2.8010075566750627,\n",
              " 2.8010075566750627,\n",
              " 2.8010075566750627,\n",
              " 2.798129562971738,\n",
              " 2.798129562971738,\n",
              " 2.798129562971738,\n",
              " 2.798129562971738,\n",
              " 2.6907361480373093,\n",
              " 2.4991007194244608,\n",
              " 2.4991007194244608,\n",
              " 2.4991007194244608,\n",
              " 2.4991007194244608,\n",
              " 2.4991007194244608,\n",
              " 2.4991007194244608,\n",
              " 2.4991007194244608,\n",
              " 2.4991007194244608,\n",
              " 2.4991007194244608,\n",
              " 2.4991007194244608,\n",
              " 2.4991007194244608,\n",
              " 2.4991007194244608,\n",
              " 2.4991007194244608,\n",
              " 2.4991007194244608,\n",
              " 2.4991007194244608,\n",
              " 2.4991007194244608,\n",
              " 2.4991007194244608,\n",
              " 2.4991007194244608,\n",
              " 2.4991007194244608,\n",
              " 2.4991007194244608,\n",
              " 2.4991007194244608,\n",
              " 2.4991007194244608,\n",
              " 2.4991007194244608,\n",
              " 2.4991007194244608,\n",
              " 2.4991007194244608,\n",
              " 2.4991007194244608,\n",
              " 2.4991007194244608,\n",
              " 2.4991007194244608,\n",
              " 2.4991007194244608,\n",
              " 2.4991007194244608,\n",
              " 2.4991007194244608,\n",
              " 2.4991007194244608,\n",
              " 2.4991007194244608,\n",
              " 2.4991007194244608,\n",
              " 2.4991007194244608,\n",
              " 2.4991007194244608,\n",
              " 2.4991007194244608,\n",
              " 2.4991007194244608,\n",
              " 2.4991007194244608,\n",
              " 2.4991007194244608,\n",
              " 2.4991007194244608,\n",
              " 2.4991007194244608,\n",
              " 2.4991007194244608,\n",
              " 2.4991007194244608,\n",
              " 2.4991007194244608,\n",
              " 2.4991007194244608,\n",
              " 2.4991007194244608,\n",
              " 2.4991007194244608,\n",
              " 2.4991007194244608,\n",
              " 2.4991007194244608,\n",
              " 2.4991007194244608,\n",
              " 2.4991007194244608,\n",
              " 2.4991007194244608,\n",
              " 2.4991007194244608,\n",
              " 2.4991007194244608,\n",
              " 2.4991007194244608,\n",
              " 2.4991007194244608,\n",
              " 2.4991007194244608,\n",
              " 2.4991007194244608,\n",
              " 2.4991007194244608,\n",
              " 2.4991007194244608,\n",
              " 2.4991007194244608,\n",
              " 2.4991007194244608,\n",
              " 2.4991007194244608,\n",
              " 2.4991007194244608,\n",
              " 2.4991007194244608,\n",
              " 2.4991007194244608,\n",
              " 2.4991007194244608,\n",
              " 2.4991007194244608,\n",
              " 2.4991007194244608,\n",
              " 2.4991007194244608,\n",
              " 2.4991007194244608,\n",
              " 2.4991007194244608,\n",
              " 2.4991007194244608,\n",
              " 2.4991007194244608,\n",
              " 2.4991007194244608,\n",
              " 2.4991007194244608,\n",
              " 2.4991007194244608,\n",
              " 2.4991007194244608,\n",
              " 2.4991007194244608,\n",
              " 2.4991007194244608,\n",
              " 2.4991007194244608,\n",
              " 2.4991007194244608,\n",
              " 2.4991007194244608,\n",
              " 2.4991007194244608,\n",
              " 2.4991007194244608,\n",
              " 2.4991007194244608,\n",
              " 2.4991007194244608,\n",
              " 2.4991007194244608,\n",
              " 2.4991007194244608,\n",
              " 2.4991007194244608,\n",
              " 2.4991007194244608,\n",
              " 2.4991007194244608,\n",
              " 2.4991007194244608,\n",
              " 2.4991007194244608,\n",
              " 2.4991007194244608,\n",
              " 2.4991007194244608,\n",
              " 2.4991007194244608,\n",
              " 2.4991007194244608,\n",
              " 2.4991007194244608,\n",
              " 2.4991007194244608,\n",
              " 2.4991007194244608,\n",
              " 2.4991007194244608,\n",
              " 2.4991007194244608,\n",
              " 2.4991007194244608,\n",
              " 2.4991007194244608,\n",
              " 2.4991007194244608,\n",
              " 2.4991007194244608,\n",
              " 2.4991007194244608,\n",
              " 2.4991007194244608,\n",
              " 2.4991007194244608,\n",
              " 2.4991007194244608,\n",
              " 2.4991007194244608,\n",
              " 2.4991007194244608,\n",
              " 2.4991007194244608,\n",
              " 2.4991007194244608,\n",
              " 2.4991007194244608,\n",
              " 2.4991007194244608,\n",
              " 2.4991007194244608,\n",
              " 2.4991007194244608,\n",
              " 2.4991007194244608,\n",
              " 2.4991007194244608,\n",
              " 2.4991007194244608,\n",
              " 2.4991007194244608,\n",
              " 2.4991007194244608,\n",
              " 2.4991007194244608,\n",
              " 2.4991007194244608,\n",
              " 2.4991007194244608,\n",
              " 2.4991007194244608,\n",
              " 2.4991007194244608,\n",
              " 2.4991007194244608,\n",
              " 2.4991007194244608,\n",
              " 2.4991007194244608,\n",
              " 2.4991007194244608,\n",
              " 2.4991007194244608,\n",
              " 2.4991007194244608,\n",
              " 2.4991007194244608,\n",
              " 2.4991007194244608,\n",
              " 2.4991007194244608,\n",
              " 2.4991007194244608,\n",
              " 2.4991007194244608,\n",
              " 2.4991007194244608,\n",
              " 2.4991007194244608,\n",
              " 2.4991007194244608,\n",
              " 2.4991007194244608,\n",
              " 2.4991007194244608,\n",
              " 2.4991007194244608,\n",
              " 2.4991007194244608,\n",
              " 2.4991007194244608,\n",
              " 2.4991007194244608,\n",
              " 2.4991007194244608,\n",
              " 2.4991007194244608,\n",
              " 2.4991007194244608,\n",
              " 2.4991007194244608,\n",
              " 2.4991007194244608,\n",
              " 2.4991007194244608,\n",
              " 2.4991007194244608,\n",
              " 2.4991007194244608,\n",
              " 2.4991007194244608,\n",
              " 2.4991007194244608,\n",
              " 2.4991007194244608,\n",
              " 2.4991007194244608,\n",
              " 2.4991007194244608,\n",
              " 2.4991007194244608,\n",
              " 2.4991007194244608,\n",
              " 2.4991007194244608,\n",
              " 2.4991007194244608,\n",
              " 2.4991007194244608,\n",
              " 2.4991007194244608,\n",
              " 2.4991007194244608,\n",
              " 2.4991007194244608,\n",
              " 2.4991007194244608,\n",
              " 2.4991007194244608,\n",
              " 2.4991007194244608,\n",
              " 2.4991007194244608,\n",
              " 2.4991007194244608,\n",
              " 2.4991007194244608,\n",
              " 2.4991007194244608,\n",
              " 2.4991007194244608,\n",
              " 2.4991007194244608,\n",
              " 2.4991007194244608,\n",
              " 2.4991007194244608,\n",
              " 2.4991007194244608,\n",
              " 2.4991007194244608,\n",
              " 2.4991007194244608,\n",
              " 2.4991007194244608,\n",
              " 2.4991007194244608,\n",
              " 2.4991007194244608,\n",
              " 2.4991007194244608,\n",
              " 2.4991007194244608,\n",
              " 2.4991007194244608,\n",
              " 2.4991007194244608,\n",
              " 2.4991007194244608,\n",
              " 2.4991007194244608,\n",
              " 2.4991007194244608,\n",
              " 2.4991007194244608,\n",
              " 2.4991007194244608,\n",
              " 2.4991007194244608,\n",
              " 2.4991007194244608,\n",
              " 2.4991007194244608,\n",
              " 2.4991007194244608,\n",
              " 2.4991007194244608,\n",
              " 2.4991007194244608,\n",
              " 2.4991007194244608,\n",
              " 2.4991007194244608,\n",
              " 2.4991007194244608,\n",
              " 2.4991007194244608,\n",
              " 2.4991007194244608,\n",
              " 2.4991007194244608,\n",
              " 2.4991007194244608,\n",
              " 2.4991007194244608,\n",
              " 2.4991007194244608,\n",
              " 2.4991007194244608,\n",
              " 2.4991007194244608,\n",
              " 2.4991007194244608,\n",
              " 2.4991007194244608,\n",
              " 2.4991007194244608,\n",
              " 2.4991007194244608,\n",
              " 2.4991007194244608,\n",
              " 2.4991007194244608,\n",
              " 2.4991007194244608,\n",
              " 2.4991007194244608,\n",
              " 2.4991007194244608,\n",
              " 2.4991007194244608,\n",
              " 2.4991007194244608,\n",
              " 2.4991007194244608,\n",
              " 2.4991007194244608,\n",
              " 2.4991007194244608,\n",
              " 2.4991007194244608,\n",
              " 2.4991007194244608,\n",
              " 2.4991007194244608,\n",
              " 2.4991007194244608,\n",
              " 2.4991007194244608,\n",
              " 2.4991007194244608,\n",
              " 2.4991007194244608,\n",
              " 2.4991007194244608,\n",
              " 2.4991007194244608,\n",
              " 2.4991007194244608,\n",
              " 2.4991007194244608,\n",
              " 2.4991007194244608,\n",
              " 2.4991007194244608,\n",
              " 2.4991007194244608,\n",
              " 2.4991007194244608,\n",
              " 2.4991007194244608,\n",
              " 2.4991007194244608,\n",
              " 2.4991007194244608,\n",
              " 2.4991007194244608,\n",
              " 2.4991007194244608,\n",
              " 2.4991007194244608,\n",
              " 2.4991007194244608,\n",
              " 2.4991007194244608,\n",
              " 2.4991007194244608,\n",
              " 2.4991007194244608,\n",
              " 2.4991007194244608,\n",
              " 2.4991007194244608,\n",
              " 2.4991007194244608,\n",
              " 2.4991007194244608,\n",
              " 2.4991007194244608,\n",
              " 2.4991007194244608,\n",
              " 2.4991007194244608,\n",
              " 2.4991007194244608,\n",
              " 2.4991007194244608,\n",
              " 2.4991007194244608,\n",
              " 2.4991007194244608,\n",
              " 2.4991007194244608,\n",
              " 2.4991007194244608,\n",
              " 2.4991007194244608,\n",
              " 2.4991007194244608,\n",
              " 2.4991007194244608,\n",
              " 2.4991007194244608,\n",
              " 2.4991007194244608,\n",
              " 2.4991007194244608,\n",
              " 2.4991007194244608,\n",
              " 2.4991007194244608,\n",
              " 2.4991007194244608,\n",
              " 2.4991007194244608,\n",
              " 2.4991007194244608,\n",
              " 2.4991007194244608,\n",
              " 2.4991007194244608,\n",
              " 2.4991007194244608,\n",
              " 2.4991007194244608,\n",
              " 2.4991007194244608,\n",
              " 2.4991007194244608,\n",
              " 2.4991007194244608,\n",
              " 2.4991007194244608,\n",
              " 2.4991007194244608,\n",
              " 2.4991007194244608,\n",
              " 2.4991007194244608,\n",
              " 2.4991007194244608,\n",
              " 2.4991007194244608,\n",
              " 2.4991007194244608,\n",
              " 2.4991007194244608,\n",
              " 2.4991007194244608,\n",
              " 2.4991007194244608,\n",
              " 2.4991007194244608,\n",
              " 2.4991007194244608,\n",
              " 2.4991007194244608,\n",
              " 2.4991007194244608,\n",
              " 2.4991007194244608,\n",
              " 2.4991007194244608,\n",
              " 2.4991007194244608,\n",
              " 2.4991007194244608,\n",
              " 2.4991007194244608,\n",
              " 2.4991007194244608,\n",
              " 2.4991007194244608,\n",
              " 2.4991007194244608,\n",
              " 2.4991007194244608,\n",
              " 2.4991007194244608,\n",
              " 2.4991007194244608,\n",
              " 2.4991007194244608,\n",
              " 2.4991007194244608,\n",
              " 2.4991007194244608,\n",
              " 2.4991007194244608,\n",
              " 2.4991007194244608,\n",
              " 2.4991007194244608,\n",
              " 2.4991007194244608,\n",
              " 2.4991007194244608,\n",
              " 2.4991007194244608,\n",
              " 2.4991007194244608,\n",
              " 2.4991007194244608,\n",
              " 2.4991007194244608,\n",
              " 2.4991007194244608,\n",
              " 2.4991007194244608,\n",
              " 2.4991007194244608,\n",
              " 2.4991007194244608,\n",
              " 2.4991007194244608,\n",
              " 2.4991007194244608,\n",
              " 2.4991007194244608,\n",
              " 2.4991007194244608,\n",
              " 2.4991007194244608,\n",
              " 2.4991007194244608,\n",
              " 2.4991007194244608,\n",
              " 2.4991007194244608,\n",
              " 2.4991007194244608,\n",
              " 2.4991007194244608,\n",
              " 2.4991007194244608,\n",
              " 2.4991007194244608,\n",
              " 2.4991007194244608,\n",
              " 2.4991007194244608,\n",
              " 2.4991007194244608,\n",
              " 2.4991007194244608,\n",
              " 2.4991007194244608,\n",
              " 2.4991007194244608,\n",
              " 2.4991007194244608,\n",
              " 2.4991007194244608,\n",
              " 2.4991007194244608,\n",
              " 2.4991007194244608,\n",
              " 2.4991007194244608,\n",
              " 2.4991007194244608,\n",
              " 2.4991007194244608,\n",
              " 2.4991007194244608,\n",
              " 2.4991007194244608,\n",
              " 2.4991007194244608,\n",
              " 2.4991007194244608,\n",
              " 2.4991007194244608,\n",
              " 2.4991007194244608,\n",
              " 2.4991007194244608,\n",
              " 2.4991007194244608,\n",
              " 2.4991007194244608,\n",
              " 2.4991007194244608,\n",
              " 2.4991007194244608,\n",
              " 2.4991007194244608,\n",
              " 2.4991007194244608,\n",
              " 2.4991007194244608,\n",
              " 2.4991007194244608,\n",
              " 2.4991007194244608,\n",
              " 2.4991007194244608,\n",
              " 2.4991007194244608,\n",
              " 2.4991007194244608,\n",
              " 2.4991007194244608,\n",
              " 2.4991007194244608,\n",
              " 2.4991007194244608,\n",
              " 2.4991007194244608,\n",
              " 2.4991007194244608,\n",
              " 2.4991007194244608,\n",
              " 2.4991007194244608,\n",
              " 2.4991007194244608,\n",
              " 2.4991007194244608,\n",
              " 2.4991007194244608,\n",
              " 2.4991007194244608,\n",
              " 2.4991007194244608,\n",
              " 2.4991007194244608,\n",
              " 2.4991007194244608,\n",
              " 2.4991007194244608,\n",
              " 2.4991007194244608,\n",
              " 2.4991007194244608,\n",
              " 2.4991007194244608,\n",
              " 2.4991007194244608,\n",
              " 2.4991007194244608,\n",
              " 2.4991007194244608,\n",
              " 2.4991007194244608,\n",
              " 2.4991007194244608,\n",
              " 2.4991007194244608,\n",
              " 2.4991007194244608,\n",
              " 2.4991007194244608,\n",
              " 2.4991007194244608,\n",
              " 2.4991007194244608,\n",
              " 2.4991007194244608,\n",
              " 2.4991007194244608,\n",
              " 2.4991007194244608,\n",
              " 2.4991007194244608,\n",
              " 2.4991007194244608,\n",
              " 2.4991007194244608,\n",
              " 2.4991007194244608,\n",
              " 2.4991007194244608,\n",
              " 2.4991007194244608,\n",
              " 2.4991007194244608,\n",
              " 2.4991007194244608,\n",
              " 2.4991007194244608,\n",
              " 2.4991007194244608,\n",
              " 2.4991007194244608,\n",
              " 2.4991007194244608,\n",
              " 2.4991007194244608,\n",
              " 2.4991007194244608,\n",
              " 2.4991007194244608,\n",
              " 2.4991007194244608,\n",
              " 2.4991007194244608,\n",
              " 2.4991007194244608,\n",
              " 2.4991007194244608,\n",
              " 2.4991007194244608,\n",
              " 2.4991007194244608,\n",
              " 2.4991007194244608,\n",
              " 2.4991007194244608,\n",
              " 2.4991007194244608,\n",
              " 2.4991007194244608,\n",
              " 2.4991007194244608,\n",
              " 2.4991007194244608,\n",
              " 2.4991007194244608,\n",
              " 2.4991007194244608,\n",
              " 2.4991007194244608,\n",
              " 2.4991007194244608,\n",
              " 2.4991007194244608,\n",
              " 2.4991007194244608,\n",
              " 2.4991007194244608,\n",
              " 2.4991007194244608,\n",
              " 2.4991007194244608,\n",
              " 2.4991007194244608,\n",
              " 2.4991007194244608,\n",
              " 2.4991007194244608,\n",
              " 2.4991007194244608,\n",
              " 2.4991007194244608,\n",
              " 2.4991007194244608,\n",
              " 2.4991007194244608,\n",
              " 2.4991007194244608,\n",
              " 2.4991007194244608,\n",
              " 2.4991007194244608,\n",
              " 2.4991007194244608,\n",
              " 2.4991007194244608,\n",
              " 2.4991007194244608,\n",
              " 2.4991007194244608,\n",
              " 2.4991007194244608,\n",
              " 2.4991007194244608,\n",
              " 2.4991007194244608,\n",
              " 2.4991007194244608,\n",
              " 2.4991007194244608,\n",
              " 2.4991007194244608,\n",
              " 2.4991007194244608,\n",
              " 2.4991007194244608,\n",
              " 2.4991007194244608,\n",
              " 2.4991007194244608,\n",
              " 2.4991007194244608,\n",
              " 2.4991007194244608,\n",
              " 2.4991007194244608,\n",
              " 2.4991007194244608,\n",
              " 2.4991007194244608,\n",
              " 2.4991007194244608,\n",
              " 2.4991007194244608,\n",
              " 2.4991007194244608,\n",
              " 2.4991007194244608,\n",
              " 2.4991007194244608,\n",
              " 2.4991007194244608,\n",
              " 2.4991007194244608,\n",
              " 2.4991007194244608,\n",
              " 2.4991007194244608,\n",
              " 2.4991007194244608,\n",
              " 2.4991007194244608,\n",
              " 2.4991007194244608,\n",
              " 2.4991007194244608,\n",
              " 2.4991007194244608,\n",
              " 2.4991007194244608,\n",
              " 2.4991007194244608,\n",
              " 2.4991007194244608,\n",
              " 2.4991007194244608,\n",
              " 2.4991007194244608,\n",
              " 2.4991007194244608,\n",
              " 2.4991007194244608,\n",
              " 2.4991007194244608,\n",
              " 2.4991007194244608,\n",
              " 2.4991007194244608,\n",
              " 2.4991007194244608,\n",
              " 2.4991007194244608,\n",
              " 2.4991007194244608,\n",
              " 2.4991007194244608,\n",
              " 2.4991007194244608,\n",
              " 2.4991007194244608,\n",
              " 2.4991007194244608,\n",
              " 2.4991007194244608,\n",
              " 2.4991007194244608,\n",
              " 2.4991007194244608,\n",
              " 2.4991007194244608,\n",
              " 2.4991007194244608,\n",
              " 2.4991007194244608,\n",
              " 2.4991007194244608,\n",
              " 2.4991007194244608,\n",
              " 2.4991007194244608,\n",
              " 2.4991007194244608,\n",
              " 2.4991007194244608,\n",
              " 2.4991007194244608,\n",
              " 2.4991007194244608,\n",
              " 2.4991007194244608,\n",
              " 2.4991007194244608,\n",
              " 2.4991007194244608,\n",
              " 2.4991007194244608,\n",
              " 2.4991007194244608,\n",
              " 2.4991007194244608,\n",
              " 2.4991007194244608,\n",
              " 2.4991007194244608,\n",
              " 2.4991007194244608,\n",
              " 2.4991007194244608,\n",
              " 2.4991007194244608,\n",
              " 2.4991007194244608,\n",
              " 2.4991007194244608,\n",
              " 2.4991007194244608,\n",
              " 2.4991007194244608,\n",
              " 2.4991007194244608,\n",
              " 2.4991007194244608,\n",
              " 2.4991007194244608,\n",
              " 2.4991007194244608,\n",
              " 2.4991007194244608,\n",
              " 2.4991007194244608,\n",
              " 2.4991007194244608,\n",
              " 2.4991007194244608,\n",
              " 2.4991007194244608,\n",
              " 2.4991007194244608,\n",
              " 2.4991007194244608,\n",
              " 2.4991007194244608,\n",
              " 2.4991007194244608,\n",
              " 2.4991007194244608,\n",
              " 2.4991007194244608,\n",
              " 2.4991007194244608,\n",
              " 2.4991007194244608,\n",
              " 2.4991007194244608,\n",
              " 2.4991007194244608,\n",
              " 2.4991007194244608,\n",
              " 2.4991007194244608,\n",
              " 2.4991007194244608,\n",
              " 2.4991007194244608,\n",
              " 2.4991007194244608,\n",
              " 2.4991007194244608,\n",
              " 2.4991007194244608,\n",
              " 2.4991007194244608,\n",
              " 2.4991007194244608,\n",
              " 2.4991007194244608,\n",
              " 2.4991007194244608,\n",
              " 2.4991007194244608,\n",
              " 2.4991007194244608,\n",
              " 2.4991007194244608,\n",
              " 2.4991007194244608,\n",
              " 2.4991007194244608,\n",
              " 2.4991007194244608,\n",
              " 2.4991007194244608,\n",
              " 2.4991007194244608,\n",
              " 2.4991007194244608,\n",
              " 2.4991007194244608,\n",
              " 2.4991007194244608,\n",
              " 2.4991007194244608,\n",
              " 2.4991007194244608,\n",
              " 2.4991007194244608,\n",
              " 2.4991007194244608,\n",
              " 2.4991007194244608,\n",
              " 2.4991007194244608,\n",
              " 2.4991007194244608,\n",
              " 2.4991007194244608,\n",
              " 2.4991007194244608,\n",
              " 2.4991007194244608,\n",
              " 2.4991007194244608,\n",
              " 2.4991007194244608,\n",
              " 2.4991007194244608,\n",
              " 2.4991007194244608,\n",
              " 2.4991007194244608,\n",
              " 2.4991007194244608,\n",
              " 2.4991007194244608,\n",
              " 2.4991007194244608,\n",
              " 2.4991007194244608,\n",
              " 2.4991007194244608,\n",
              " 2.4991007194244608,\n",
              " 2.4991007194244608,\n",
              " 2.4991007194244608,\n",
              " 2.4991007194244608,\n",
              " 2.4991007194244608,\n",
              " 2.4991007194244608,\n",
              " 2.4991007194244608,\n",
              " 2.4991007194244608,\n",
              " 2.4991007194244608,\n",
              " 2.4991007194244608,\n",
              " 2.4991007194244608,\n",
              " 2.4991007194244608,\n",
              " 2.4991007194244608,\n",
              " 2.4991007194244608,\n",
              " 2.4991007194244608,\n",
              " 2.4991007194244608,\n",
              " 2.4991007194244608,\n",
              " 2.4991007194244608,\n",
              " 2.4991007194244608,\n",
              " 2.4991007194244608,\n",
              " 2.4991007194244608,\n",
              " 2.4991007194244608,\n",
              " 2.4991007194244608,\n",
              " 2.4991007194244608,\n",
              " 2.4991007194244608,\n",
              " 2.4991007194244608,\n",
              " 2.4991007194244608,\n",
              " 2.4991007194244608,\n",
              " 2.4991007194244608,\n",
              " 2.4991007194244608,\n",
              " 2.4991007194244608,\n",
              " 2.4991007194244608,\n",
              " 2.4991007194244608,\n",
              " 2.4991007194244608,\n",
              " 2.4991007194244608,\n",
              " 2.4991007194244608,\n",
              " 2.4991007194244608,\n",
              " 2.4991007194244608,\n",
              " 2.4991007194244608,\n",
              " 2.4991007194244608,\n",
              " 2.4991007194244608,\n",
              " 2.4991007194244608,\n",
              " 2.4991007194244608,\n",
              " 2.4991007194244608,\n",
              " 2.4991007194244608,\n",
              " 2.4991007194244608,\n",
              " 2.4991007194244608,\n",
              " 2.4991007194244608,\n",
              " 2.4991007194244608,\n",
              " 2.4991007194244608,\n",
              " 2.4991007194244608,\n",
              " 2.4991007194244608,\n",
              " 2.4991007194244608,\n",
              " 2.4991007194244608,\n",
              " 2.4991007194244608,\n",
              " 2.4991007194244608,\n",
              " 2.4991007194244608,\n",
              " 2.4991007194244608,\n",
              " 2.4991007194244608,\n",
              " 2.4991007194244608,\n",
              " 2.4991007194244608,\n",
              " 2.4991007194244608,\n",
              " 2.4991007194244608,\n",
              " 2.4991007194244608,\n",
              " 2.4991007194244608,\n",
              " 2.4991007194244608,\n",
              " 2.4991007194244608,\n",
              " 2.4991007194244608,\n",
              " 2.4991007194244608,\n",
              " 2.4991007194244608,\n",
              " 2.4991007194244608,\n",
              " 2.4991007194244608,\n",
              " 2.4991007194244608,\n",
              " 2.4991007194244608,\n",
              " 2.4991007194244608,\n",
              " 2.4991007194244608,\n",
              " 2.4991007194244608,\n",
              " 2.4991007194244608,\n",
              " 2.4991007194244608,\n",
              " 2.4991007194244608,\n",
              " 2.4991007194244608,\n",
              " 2.4991007194244608,\n",
              " 2.4991007194244608,\n",
              " 2.4991007194244608,\n",
              " 2.4991007194244608,\n",
              " 2.4991007194244608,\n",
              " 2.4991007194244608,\n",
              " 2.4991007194244608,\n",
              " 2.4991007194244608,\n",
              " 2.4991007194244608,\n",
              " 2.4991007194244608,\n",
              " 2.4991007194244608,\n",
              " 2.4991007194244608,\n",
              " 2.4991007194244608,\n",
              " 2.4991007194244608,\n",
              " 2.4991007194244608,\n",
              " 2.4991007194244608,\n",
              " 2.4991007194244608,\n",
              " 2.4991007194244608,\n",
              " 2.4991007194244608,\n",
              " 2.4991007194244608,\n",
              " 2.4991007194244608,\n",
              " 2.4991007194244608,\n",
              " 2.4991007194244608,\n",
              " 2.4991007194244608,\n",
              " 2.4991007194244608,\n",
              " 2.4991007194244608,\n",
              " 2.4991007194244608,\n",
              " 2.4991007194244608,\n",
              " 2.4991007194244608,\n",
              " 2.4991007194244608,\n",
              " 2.4991007194244608,\n",
              " 2.4991007194244608,\n",
              " 2.4991007194244608,\n",
              " 2.4991007194244608,\n",
              " 2.4991007194244608,\n",
              " ...]"
            ]
          },
          "metadata": {
            "tags": []
          },
          "execution_count": 44
        }
      ]
    },
    {
      "metadata": {
        "id": "8JFp2C76y9db",
        "colab_type": "code",
        "colab": {
          "base_uri": "https://localhost:8080/",
          "height": 357
        },
        "outputId": "e8c11647-224c-4b28-c9c3-a6a3653d72d2"
      },
      "cell_type": "code",
      "source": [
        "mov_sel_num = fit.transform(mov[num_features_2+cat_dummies+genres_list+keys])\n",
        "# summarize selected features\n",
        "print(mov_sel_num[0:5,:])"
      ],
      "execution_count": 45,
      "outputs": [
        {
          "output_type": "stream",
          "text": [
            "[[0.00000e+00 8.55000e+02 4.83400e+03 2.37000e+08 1.78000e+02 0.00000e+00\n",
            "  0.00000e+00 0.00000e+00 0.00000e+00 0.00000e+00 0.00000e+00 1.00000e+00\n",
            "  0.00000e+00 1.00000e+00 1.00000e+00 0.00000e+00 0.00000e+00 1.00000e+00\n",
            "  0.00000e+00 0.00000e+00 0.00000e+00]\n",
            " [5.63000e+02 1.00000e+03 4.83500e+04 3.00000e+08 1.69000e+02 0.00000e+00\n",
            "  0.00000e+00 0.00000e+00 0.00000e+00 0.00000e+00 0.00000e+00 1.00000e+00\n",
            "  0.00000e+00 1.00000e+00 1.00000e+00 0.00000e+00 0.00000e+00 0.00000e+00\n",
            "  0.00000e+00 0.00000e+00 0.00000e+00]\n",
            " [0.00000e+00 1.61000e+02 1.17000e+04 2.45000e+08 1.48000e+02 0.00000e+00\n",
            "  0.00000e+00 0.00000e+00 0.00000e+00 0.00000e+00 0.00000e+00 0.00000e+00\n",
            "  0.00000e+00 1.00000e+00 1.00000e+00 0.00000e+00 0.00000e+00 0.00000e+00\n",
            "  1.00000e+00 0.00000e+00 0.00000e+00]\n",
            " [2.20000e+04 2.30000e+04 1.06759e+05 2.50000e+08 1.64000e+02 0.00000e+00\n",
            "  0.00000e+00 0.00000e+00 0.00000e+00 0.00000e+00 0.00000e+00 1.00000e+00\n",
            "  0.00000e+00 1.00000e+00 0.00000e+00 0.00000e+00 0.00000e+00 0.00000e+00\n",
            "  1.00000e+00 0.00000e+00 0.00000e+00]\n",
            " [4.75000e+02 5.30000e+02 1.87300e+03 2.63700e+08 1.32000e+02 0.00000e+00\n",
            "  0.00000e+00 0.00000e+00 0.00000e+00 0.00000e+00 0.00000e+00 1.00000e+00\n",
            "  0.00000e+00 1.00000e+00 1.00000e+00 0.00000e+00 0.00000e+00 1.00000e+00\n",
            "  0.00000e+00 0.00000e+00 0.00000e+00]]\n"
          ],
          "name": "stdout"
        }
      ]
    },
    {
      "metadata": {
        "id": "IS8xLpjU7Y3U",
        "colab_type": "code",
        "colab": {}
      },
      "cell_type": "code",
      "source": [
        "feature_names = list(mov[num_features_2+cat_dummies+genres_list+keys].columns.values)"
      ],
      "execution_count": 0,
      "outputs": []
    },
    {
      "metadata": {
        "id": "CThw_Ol56e-_",
        "colab_type": "code",
        "colab": {}
      },
      "cell_type": "code",
      "source": [
        "\n",
        "mask = test.get_support() #list of booleans\n",
        "new_features = [] # The list of your K best features\n",
        "\n",
        "for bool, feature in zip(mask, feature_names):\n",
        "    if bool:\n",
        "        new_features.append(feature)\n",
        "\n",
        "\n",
        "# features_dataframe=mov[num_features_2+cat_dummies+keys]\n",
        "# idxs_selected = test.get_support(indices=True)\n",
        "# # Create new dataframe with only desired columns, or overwrite existing\n",
        "# features_dataframe_new = features_dataframe[idxs_selected]"
      ],
      "execution_count": 0,
      "outputs": []
    },
    {
      "metadata": {
        "id": "R-8_G6G2z6sT",
        "colab_type": "code",
        "colab": {}
      },
      "cell_type": "code",
      "source": [
        "mov_sel = pd.DataFrame(mov_sel_num, columns=new_features)"
      ],
      "execution_count": 0,
      "outputs": []
    },
    {
      "metadata": {
        "id": "cHgUrPmY0Gpl",
        "colab_type": "code",
        "colab": {
          "base_uri": "https://localhost:8080/",
          "height": 374
        },
        "outputId": "d7b0d436-d0b4-4c19-900f-f6159b1bc30a"
      },
      "cell_type": "code",
      "source": [
        "new_features"
      ],
      "execution_count": 49,
      "outputs": [
        {
          "output_type": "execute_result",
          "data": {
            "text/plain": [
              "['director_facebook_likes',\n",
              " 'actor_3_facebook_likes',\n",
              " 'cast_total_facebook_likes',\n",
              " 'budget',\n",
              " 'duration',\n",
              " 'director_name_George Lucas',\n",
              " 'director_name_Tyler Perry',\n",
              " 'actor_1_name_Clint Eastwood',\n",
              " 'actor_1_name_Jamie Lee Curtis',\n",
              " 'actor_3_name_Anna Kendrick',\n",
              " 'country_France',\n",
              " 'country_USA',\n",
              " 'content_rating_Approved',\n",
              " 'action',\n",
              " 'adventure',\n",
              " 'crime',\n",
              " 'horror',\n",
              " 'sci-fi',\n",
              " 'thriller',\n",
              " 'war',\n",
              " 'Keyword_high school']"
            ]
          },
          "metadata": {
            "tags": []
          },
          "execution_count": 49
        }
      ]
    },
    {
      "metadata": {
        "id": "5qDI4QzSNqxL",
        "colab_type": "code",
        "colab": {
          "base_uri": "https://localhost:8080/",
          "height": 802
        },
        "outputId": "9d77fd69-3ddc-480b-a26b-e44c51473016"
      },
      "cell_type": "code",
      "source": [
        "from __future__ import print_function\n",
        "\n",
        "from sklearn.model_selection import train_test_split\n",
        "from sklearn.model_selection import GridSearchCV\n",
        "from sklearn.metrics import classification_report\n",
        "\n",
        "print(__doc__)\n",
        "\n",
        "\n",
        "# To apply an classifier on this data, we need to flatten the image, to\n",
        "# turn the data in a (samples, feature) matrix:\n",
        "X = mov_sel\n",
        "y = labels\n",
        "\n",
        "# Split the dataset in two equal parts\n",
        "X_train, X_test, y_train, y_test = train_test_split(\n",
        "    X, y, test_size=0.25, random_state=0)\n",
        "\n",
        "# Set the parameters by cross-validation\n",
        "tuned_parameters = { \"max_depth\":[3,7,15], \n",
        "             \"min_samples_split\":[2,4], \"n_estimators\":[20]}\n",
        "\n",
        "scores = ['precision'] #, 'recall'\n",
        "\n",
        "for score in scores:\n",
        "    print(\"# Tuning hyper-parameters for %s\" % score)\n",
        "    print()\n",
        "\n",
        "    clf = GridSearchCV(RandomForestClassifier(), tuned_parameters, cv=5,\n",
        "                       scoring='%s_macro' % score)\n",
        "    clf.fit(X_train, y_train)\n",
        "\n",
        "    print(\"Best parameters set found on development set:\")\n",
        "    print()\n",
        "    print(clf.best_params_)\n",
        "    print()\n",
        "    print(\"Grid scores on development set:\")\n",
        "    print()\n",
        "    means = clf.cv_results_['mean_test_score']\n",
        "    stds = clf.cv_results_['std_test_score']\n",
        "    for mean, std, params in zip(means, stds, clf.cv_results_['params']):\n",
        "        print(\"%0.3f (+/-%0.03f) for %r\"\n",
        "              % (mean, std * 2, params))\n",
        "    print()\n",
        "\n",
        "    print(\"Detailed classification report:\")\n",
        "    print()\n",
        "    print(\"The model is trained on the full development set.\")\n",
        "    print(\"The scores are computed on the full evaluation set.\")\n",
        "    print()\n",
        "    y_true, y_pred = y_test, clf.predict(X_test)\n",
        "    print(classification_report(y_true, y_pred))\n",
        "    print()"
      ],
      "execution_count": 50,
      "outputs": [
        {
          "output_type": "stream",
          "text": [
            "Automatically created module for IPython interactive environment\n",
            "# Tuning hyper-parameters for precision\n",
            "\n"
          ],
          "name": "stdout"
        },
        {
          "output_type": "stream",
          "text": [
            "/usr/local/lib/python3.6/dist-packages/sklearn/metrics/classification.py:1135: UndefinedMetricWarning: Precision is ill-defined and being set to 0.0 in labels with no predicted samples.\n",
            "  'precision', 'predicted', average, warn_for)\n",
            "/usr/local/lib/python3.6/dist-packages/sklearn/metrics/classification.py:1135: UndefinedMetricWarning: Precision is ill-defined and being set to 0.0 in labels with no predicted samples.\n",
            "  'precision', 'predicted', average, warn_for)\n",
            "/usr/local/lib/python3.6/dist-packages/sklearn/metrics/classification.py:1135: UndefinedMetricWarning: Precision is ill-defined and being set to 0.0 in labels with no predicted samples.\n",
            "  'precision', 'predicted', average, warn_for)\n",
            "/usr/local/lib/python3.6/dist-packages/sklearn/metrics/classification.py:1135: UndefinedMetricWarning: Precision is ill-defined and being set to 0.0 in labels with no predicted samples.\n",
            "  'precision', 'predicted', average, warn_for)\n",
            "/usr/local/lib/python3.6/dist-packages/sklearn/metrics/classification.py:1135: UndefinedMetricWarning: Precision is ill-defined and being set to 0.0 in labels with no predicted samples.\n",
            "  'precision', 'predicted', average, warn_for)\n",
            "/usr/local/lib/python3.6/dist-packages/sklearn/metrics/classification.py:1135: UndefinedMetricWarning: Precision is ill-defined and being set to 0.0 in labels with no predicted samples.\n",
            "  'precision', 'predicted', average, warn_for)\n",
            "/usr/local/lib/python3.6/dist-packages/sklearn/metrics/classification.py:1135: UndefinedMetricWarning: Precision is ill-defined and being set to 0.0 in labels with no predicted samples.\n",
            "  'precision', 'predicted', average, warn_for)\n",
            "/usr/local/lib/python3.6/dist-packages/sklearn/metrics/classification.py:1135: UndefinedMetricWarning: Precision is ill-defined and being set to 0.0 in labels with no predicted samples.\n",
            "  'precision', 'predicted', average, warn_for)\n"
          ],
          "name": "stderr"
        },
        {
          "output_type": "stream",
          "text": [
            "Best parameters set found on development set:\n",
            "\n",
            "{'max_depth': 7, 'min_samples_split': 2, 'n_estimators': 20}\n",
            "\n",
            "Grid scores on development set:\n",
            "\n",
            "0.455 (+/-0.401) for {'max_depth': 3, 'min_samples_split': 2, 'n_estimators': 20}\n",
            "0.416 (+/-0.241) for {'max_depth': 3, 'min_samples_split': 4, 'n_estimators': 20}\n",
            "0.731 (+/-0.128) for {'max_depth': 7, 'min_samples_split': 2, 'n_estimators': 20}\n",
            "0.708 (+/-0.086) for {'max_depth': 7, 'min_samples_split': 4, 'n_estimators': 20}\n",
            "0.678 (+/-0.049) for {'max_depth': 15, 'min_samples_split': 2, 'n_estimators': 20}\n",
            "0.679 (+/-0.043) for {'max_depth': 15, 'min_samples_split': 4, 'n_estimators': 20}\n",
            "\n",
            "Detailed classification report:\n",
            "\n",
            "The model is trained on the full development set.\n",
            "The scores are computed on the full evaluation set.\n",
            "\n",
            "             precision    recall  f1-score   support\n",
            "\n",
            "        0.0       0.75      0.98      0.85       706\n",
            "        1.0       0.73      0.11      0.19       267\n",
            "\n",
            "avg / total       0.74      0.75      0.67       973\n",
            "\n",
            "\n"
          ],
          "name": "stdout"
        }
      ]
    },
    {
      "metadata": {
        "id": "Wi4BIjHKmOAX",
        "colab_type": "code",
        "colab": {
          "base_uri": "https://localhost:8080/",
          "height": 634
        },
        "outputId": "4ee51786-b262-40d6-8c26-ae65fba81c18"
      },
      "cell_type": "code",
      "source": [
        "from sklearn.ensemble import RandomForestClassifier\n",
        "from sklearn.model_selection import validation_curve\n",
        "X, y = mov_sel, labels\n",
        "\n",
        "# param_range = np.logspace(-6, 5, 5)\n",
        "param_range = np.arange(3,16,1)\n",
        "train_scores, test_scores = validation_curve(\n",
        "    RandomForestClassifier(min_samples_split=2, n_estimators=40), X, y, param_name=\"max_depth\", param_range=param_range,\n",
        "    cv=5, scoring=\"precision_macro\", n_jobs=1)\n",
        "train_scores_mean = np.mean(train_scores, axis=1)\n",
        "train_scores_std = np.std(train_scores, axis=1)\n",
        "test_scores_mean = np.mean(test_scores, axis=1)\n",
        "test_scores_std = np.std(test_scores, axis=1)\n",
        "\n",
        "plt.title(\"Validation Curve with RandomForestClassifier\")\n",
        "plt.xlabel(\"max depth\")\n",
        "plt.ylabel(\"Score\")\n",
        "plt.ylim(0.0, 1.1)\n",
        "lw = 2\n",
        "# plt.semilogx(param_range, train_scores_mean, label=\"Training score\",\n",
        "#              color=\"darkorange\", lw=lw)\n",
        "plt.plot(param_range, train_scores_mean, label=\"Training score\",\n",
        "             color=\"darkorange\", lw=lw)\n",
        "plt.fill_between(param_range, train_scores_mean - train_scores_std,\n",
        "                 train_scores_mean + train_scores_std, alpha=0.2,\n",
        "                 color=\"darkorange\", lw=lw)\n",
        "# plt.semilogx(param_range, test_scores_mean, label=\"Cross-validation score\",\n",
        "#              color=\"navy\", lw=lw)\n",
        "plt.plot(param_range, test_scores_mean, label=\"Cross-validation score\",\n",
        "             color=\"navy\", lw=lw)\n",
        "plt.fill_between(param_range, test_scores_mean - test_scores_std,\n",
        "                 test_scores_mean + test_scores_std, alpha=0.2,\n",
        "                 color=\"navy\", lw=lw)\n",
        "plt.legend(loc=\"best\")\n",
        "plt.show()"
      ],
      "execution_count": 84,
      "outputs": [
        {
          "output_type": "stream",
          "text": [
            "/usr/local/lib/python3.6/dist-packages/sklearn/metrics/classification.py:1135: UndefinedMetricWarning: Precision is ill-defined and being set to 0.0 in labels with no predicted samples.\n",
            "  'precision', 'predicted', average, warn_for)\n",
            "/usr/local/lib/python3.6/dist-packages/sklearn/metrics/classification.py:1135: UndefinedMetricWarning: Precision is ill-defined and being set to 0.0 in labels with no predicted samples.\n",
            "  'precision', 'predicted', average, warn_for)\n",
            "/usr/local/lib/python3.6/dist-packages/sklearn/metrics/classification.py:1135: UndefinedMetricWarning: Precision is ill-defined and being set to 0.0 in labels with no predicted samples.\n",
            "  'precision', 'predicted', average, warn_for)\n",
            "/usr/local/lib/python3.6/dist-packages/sklearn/metrics/classification.py:1135: UndefinedMetricWarning: Precision is ill-defined and being set to 0.0 in labels with no predicted samples.\n",
            "  'precision', 'predicted', average, warn_for)\n",
            "/usr/local/lib/python3.6/dist-packages/sklearn/metrics/classification.py:1135: UndefinedMetricWarning: Precision is ill-defined and being set to 0.0 in labels with no predicted samples.\n",
            "  'precision', 'predicted', average, warn_for)\n",
            "/usr/local/lib/python3.6/dist-packages/sklearn/metrics/classification.py:1135: UndefinedMetricWarning: Precision is ill-defined and being set to 0.0 in labels with no predicted samples.\n",
            "  'precision', 'predicted', average, warn_for)\n",
            "/usr/local/lib/python3.6/dist-packages/sklearn/metrics/classification.py:1135: UndefinedMetricWarning: Precision is ill-defined and being set to 0.0 in labels with no predicted samples.\n",
            "  'precision', 'predicted', average, warn_for)\n"
          ],
          "name": "stderr"
        },
        {
          "output_type": "display_data",
          "data": {
            "image/png": "[encoded data removed]",
            "text/plain": [
              "<matplotlib.figure.Figure at 0x7f3b6458f710>"
            ]
          },
          "metadata": {
            "tags": []
          }
        }
      ]
    },
    {
      "metadata": {
        "id": "3g18lH8XagXF",
        "colab_type": "code",
        "colab": {
          "base_uri": "https://localhost:8080/",
          "height": 51
        },
        "outputId": "980353fe-71d9-4024-9d3a-4832a847f594"
      },
      "cell_type": "code",
      "source": [
        "confusion_matrix_avg=np.zeros((2,2))\n",
        "# accuracy_avg=0.0\n",
        "times=20\n",
        "for i in range(times):\n",
        "  from sklearn.cross_validation import train_test_split\n",
        "  X_train, X_test, y_train, y_test = train_test_split(mov_sel, labels, test_size=0.2, random_state=i)\n",
        "  from sklearn import metrics\n",
        "  RFC = RandomForestClassifier(max_depth=8, min_samples_split=2, n_estimators=40)\n",
        "  RFC.fit(X_train, y_train)\n",
        "  y_pred = RFC.predict(X_test)\n",
        "#   print('Accuracy of logistic regression classifier on test set: {:.2f}'.format(RFC.score(X_test, y_test)))\n",
        "  from sklearn.metrics import confusion_matrix\n",
        "  confusion_matrix = confusion_matrix(y_test, y_pred)\n",
        "  confusion_matrix_avg=confusion_matrix_avg+confusion_matrix\n",
        "#   accuracy_avg=(confusion_matrix[0][0]/(confusion_matrix[0][0]+confusion_matrix[0][1])+confusion_matrix[1][1]/(confusion_matrix[1][0]+confusion_matrix[1][1]))/2+accuracy_avg\n",
        "confusion_matrix_avg=confusion_matrix_avg/times\n",
        "# accuracy_avg=accuracy_avg/times\n",
        "print(confusion_matrix_avg)\n",
        "# print('Accuracy: {:.2f}'.format(accuracy_avg))"
      ],
      "execution_count": 95,
      "outputs": [
        {
          "output_type": "stream",
          "text": [
            "[[541.1  15.8]\n",
            " [189.   33.1]]\n"
          ],
          "name": "stdout"
        }
      ]
    },
    {
      "metadata": {
        "id": "OksfQTF0ogB1",
        "colab_type": "code",
        "colab": {
          "base_uri": "https://localhost:8080/",
          "height": 376
        },
        "outputId": "a036e57b-864c-4dfa-a7fb-df33d8a811c6"
      },
      "cell_type": "code",
      "source": [
        "from sklearn.ensemble import RandomForestClassifier\n",
        "from sklearn.model_selection import validation_curve\n",
        "X, y = mov_pca_Df, labels\n",
        "\n",
        "# param_range = np.logspace(-6, 5, 5)\n",
        "param_range = np.arange(3,16,1)\n",
        "train_scores, test_scores = validation_curve(\n",
        "    RandomForestClassifier(min_samples_split=2, n_estimators=40), X, y, param_name=\"max_depth\", param_range=param_range,\n",
        "    cv=5, scoring=\"precision_macro\", n_jobs=1)\n",
        "train_scores_mean = np.mean(train_scores, axis=1)\n",
        "train_scores_std = np.std(train_scores, axis=1)\n",
        "test_scores_mean = np.mean(test_scores, axis=1)\n",
        "test_scores_std = np.std(test_scores, axis=1)\n",
        "\n",
        "plt.title(\"Validation Curve with RandomForestClassifier\")\n",
        "plt.xlabel(\"max depth\")\n",
        "plt.ylabel(\"Score\")\n",
        "plt.ylim(0.0, 1.1)\n",
        "lw = 2\n",
        "# plt.semilogx(param_range, train_scores_mean, label=\"Training score\",\n",
        "#              color=\"darkorange\", lw=lw)\n",
        "plt.plot(param_range, train_scores_mean, label=\"Training score\",\n",
        "             color=\"darkorange\", lw=lw)\n",
        "plt.fill_between(param_range, train_scores_mean - train_scores_std,\n",
        "                 train_scores_mean + train_scores_std, alpha=0.2,\n",
        "                 color=\"darkorange\", lw=lw)\n",
        "# plt.semilogx(param_range, test_scores_mean, label=\"Cross-validation score\",\n",
        "#              color=\"navy\", lw=lw)\n",
        "plt.plot(param_range, test_scores_mean, label=\"Cross-validation score\",\n",
        "             color=\"navy\", lw=lw)\n",
        "plt.fill_between(param_range, test_scores_mean - test_scores_std,\n",
        "                 test_scores_mean + test_scores_std, alpha=0.2,\n",
        "                 color=\"navy\", lw=lw)\n",
        "plt.legend(loc=\"best\")\n",
        "plt.show()"
      ],
      "execution_count": 89,
      "outputs": [
        {
          "output_type": "display_data",
          "data": {
            "image/png": "[encoded data removed]",
            "text/plain": [
              "<matplotlib.figure.Figure at 0x7f3b644814e0>"
            ]
          },
          "metadata": {
            "tags": []
          }
        }
      ]
    },
    {
      "metadata": {
        "id": "tFUvLvhBo-BE",
        "colab_type": "code",
        "colab": {
          "base_uri": "https://localhost:8080/",
          "height": 51
        },
        "outputId": "90eee2cd-7e64-4b2a-b9cc-c4f26236ab26"
      },
      "cell_type": "code",
      "source": [
        "confusion_matrix_avg=np.zeros((2,2))\n",
        "# accuracy_avg=0.0\n",
        "times=20\n",
        "for i in range(times):\n",
        "  from sklearn.cross_validation import train_test_split\n",
        "  X_train, X_test, y_train, y_test = train_test_split(mov_sel, labels, test_size=0.2, random_state=i)\n",
        "  from sklearn import metrics\n",
        "  RFC = RandomForestClassifier(max_depth=8, min_samples_split=2, n_estimators=40)\n",
        "  RFC.fit(X_train, y_train)\n",
        "  y_pred = RFC.predict(X_test)\n",
        "#   print('Accuracy of logistic regression classifier on test set: {:.2f}'.format(RFC.score(X_test, y_test)))\n",
        "  from sklearn.metrics import confusion_matrix\n",
        "  confusion_matrix = confusion_matrix(y_test, y_pred)\n",
        "  confusion_matrix_avg=confusion_matrix_avg+confusion_matrix\n",
        "#   accuracy_avg=(confusion_matrix[0][0]/(confusion_matrix[0][0]+confusion_matrix[0][1])+confusion_matrix[1][1]/(confusion_matrix[1][0]+confusion_matrix[1][1]))/2+accuracy_avg\n",
        "confusion_matrix_avg=confusion_matrix_avg/times\n",
        "# accuracy_avg=accuracy_avg/times\n",
        "print(confusion_matrix_avg)\n",
        "# print('Accuracy: {:.2f}'.format(accuracy_avg))"
      ],
      "execution_count": 96,
      "outputs": [
        {
          "output_type": "stream",
          "text": [
            "[[542.3  14.6]\n",
            " [189.5  32.6]]\n"
          ],
          "name": "stdout"
        }
      ]
    },
    {
      "metadata": {
        "id": "AlFLw6jLGB3G",
        "colab_type": "code",
        "colab": {}
      },
      "cell_type": "code",
      "source": [
        "# from sklearn.metrics import jaccard_similarity_score\n",
        "# jaccard_similarity_score(y_test.as_matrix(), y_pred)"
      ],
      "execution_count": 0,
      "outputs": []
    },
    {
      "metadata": {
        "id": "S0d7qBNPlbsf",
        "colab_type": "code",
        "colab": {}
      },
      "cell_type": "code",
      "source": [
        "y_test.as_matrix()"
      ],
      "execution_count": 0,
      "outputs": []
    },
    {
      "metadata": {
        "id": "3HY3dbrqAGy7",
        "colab_type": "code",
        "colab": {}
      },
      "cell_type": "code",
      "source": [
        "FP = confusion_matrix.sum(axis=0) - np.diag(confusion_matrix)  \n",
        "FN = confusion_matrix.sum(axis=1) - np.diag(confusion_matrix)\n",
        "TP = np.diag(confusion_matrix)\n",
        "TN = confusion_matrix.values.sum() - (FP + FN + TP)\n",
        "\n",
        "# Sensitivity, hit rate, recall, or true positive rate\n",
        "TPR = TP/(TP+FN)\n",
        "# Specificity or true negative rate\n",
        "TNR = TN/(TN+FP) \n",
        "# Precision or positive predictive value\n",
        "PPV = TP/(TP+FP)\n",
        "# Negative predictive value\n",
        "NPV = TN/(TN+FN)\n",
        "# Fall out or false positive rate\n",
        "FPR = FP/(FP+TN)\n",
        "# False negative rate\n",
        "FNR = FN/(TP+FN)\n",
        "# False discovery rate\n",
        "FDR = FP/(TP+FP)\n",
        "\n",
        "# Overall accuracy\n",
        "ACC = (TP+TN)/(TP+FP+FN+TN)"
      ],
      "execution_count": 0,
      "outputs": []
    },
    {
      "metadata": {
        "id": "j3HZmTjtFGre",
        "colab_type": "code",
        "colab": {}
      },
      "cell_type": "code",
      "source": [
        "scl=StandardScaler() # do we really need this? Will we try PCA?\n",
        "mov_sel_st=scl.fit_transform(mov_sel)"
      ],
      "execution_count": 0,
      "outputs": []
    },
    {
      "metadata": {
        "id": "fzXS0Le6428_",
        "colab_type": "code",
        "colab": {
          "base_uri": "https://localhost:8080/",
          "height": 51
        },
        "outputId": "3aa5426f-5427-42c9-c3f9-f9edb7ddab70"
      },
      "cell_type": "code",
      "source": [
        "from sklearn.decomposition import PCA\n",
        "pca = PCA(n_components=16)\n",
        "pca.fit(mov_sel_st)"
      ],
      "execution_count": 52,
      "outputs": [
        {
          "output_type": "execute_result",
          "data": {
            "text/plain": [
              "PCA(copy=True, iterated_power='auto', n_components=16, random_state=None,\n",
              "  svd_solver='auto', tol=0.0, whiten=False)"
            ]
          },
          "metadata": {
            "tags": []
          },
          "execution_count": 52
        }
      ]
    },
    {
      "metadata": {
        "id": "Uzz2ogfZFb-G",
        "colab_type": "code",
        "colab": {
          "base_uri": "https://localhost:8080/",
          "height": 68
        },
        "outputId": "6c806019-9b61-4825-e5d4-b0abb458be99"
      },
      "cell_type": "code",
      "source": [
        "print(pca.explained_variance_ratio_)  "
      ],
      "execution_count": 53,
      "outputs": [
        {
          "output_type": "stream",
          "text": [
            "[0.09061108 0.07739039 0.0707061  0.06956082 0.05904783 0.05421637\n",
            " 0.05162285 0.04907263 0.04828371 0.04745129 0.04725948 0.04515169\n",
            " 0.0451125  0.04060035 0.03796678 0.03315845]\n"
          ],
          "name": "stdout"
        }
      ]
    },
    {
      "metadata": {
        "id": "TzWc8FB2Fc04",
        "colab_type": "code",
        "colab": {
          "base_uri": "https://localhost:8080/",
          "height": 34
        },
        "outputId": "14c4aaea-5895-46a4-84b5-c06db44c6620"
      },
      "cell_type": "code",
      "source": [
        "sum(pca.explained_variance_ratio_)"
      ],
      "execution_count": 54,
      "outputs": [
        {
          "output_type": "execute_result",
          "data": {
            "text/plain": [
              "0.8672123220069884"
            ]
          },
          "metadata": {
            "tags": []
          },
          "execution_count": 54
        }
      ]
    },
    {
      "metadata": {
        "id": "O1cUcUqZHINX",
        "colab_type": "code",
        "colab": {}
      },
      "cell_type": "code",
      "source": [
        "mov_pca = pca.fit_transform(mov_sel_st)"
      ],
      "execution_count": 0,
      "outputs": []
    },
    {
      "metadata": {
        "id": "Y6GvGpn7FtYT",
        "colab_type": "code",
        "colab": {}
      },
      "cell_type": "code",
      "source": [
        "# mov_pca_Df = pd.DataFrame(data = mov_pca\n",
        "#              , columns = ['pc1', 'pc2',\n",
        "#                           'pc3', 'pc4',\n",
        "#                           'pc5', 'pc6'])\n",
        "mov_pca_Df=mov_pca"
      ],
      "execution_count": 0,
      "outputs": []
    },
    {
      "metadata": {
        "id": "oudZJRHwa-h0",
        "colab_type": "code",
        "colab": {}
      },
      "cell_type": "code",
      "source": [
        "from __future__ import print_function\n",
        "\n",
        "from sklearn.model_selection import train_test_split\n",
        "from sklearn.model_selection import GridSearchCV\n",
        "from sklearn.metrics import classification_report\n",
        "\n",
        "print(__doc__)\n",
        "\n",
        "\n",
        "# To apply an classifier on this data, we need to flatten the image, to\n",
        "# turn the data in a (samples, feature) matrix:\n",
        "X = mov_pca_Df\n",
        "y = labels\n",
        "\n",
        "# Split the dataset in two equal parts\n",
        "X_train, X_test, y_train, y_test = train_test_split(\n",
        "    X, y, test_size=0.25, random_state=0)\n",
        "\n",
        "# Set the parameters by cross-validation\n",
        "tuned_parameters = { \"max_depth\":[3,7,15], \n",
        "             \"min_samples_split\":[2,4], \"n_estimators\":[20]}\n",
        "\n",
        "scores = ['precision'] #, 'recall'\n",
        "\n",
        "for score in scores:\n",
        "    print(\"# Tuning hyper-parameters for %s\" % score)\n",
        "    print()\n",
        "\n",
        "    clf = GridSearchCV(RandomForestClassifier(), tuned_parameters, cv=5,\n",
        "                       scoring='%s_macro' % score)\n",
        "    clf.fit(X_train, y_train)\n",
        "\n",
        "    print(\"Best parameters set found on development set:\")\n",
        "    print()\n",
        "    print(clf.best_params_)\n",
        "    print()\n",
        "    print(\"Grid scores on development set:\")\n",
        "    print()\n",
        "    means = clf.cv_results_['mean_test_score']\n",
        "    stds = clf.cv_results_['std_test_score']\n",
        "    for mean, std, params in zip(means, stds, clf.cv_results_['params']):\n",
        "        print(\"%0.3f (+/-%0.03f) for %r\"\n",
        "              % (mean, std * 2, params))\n",
        "    print()\n",
        "\n",
        "    print(\"Detailed classification report:\")\n",
        "    print()\n",
        "    print(\"The model is trained on the full development set.\")\n",
        "    print(\"The scores are computed on the full evaluation set.\")\n",
        "    print()\n",
        "    y_true, y_pred = y_test, clf.predict(X_test)\n",
        "    print(classification_report(y_true, y_pred))\n",
        "    print()"
      ],
      "execution_count": 0,
      "outputs": []
    },
    {
      "metadata": {
        "id": "-nX6QKKFbhYN",
        "colab_type": "code",
        "colab": {}
      },
      "cell_type": "code",
      "source": [
        "confusion_matrix_avg=np.zeros((2,2))\n",
        "# accuracy_avg=0.0\n",
        "times=20\n",
        "for i in range(times):\n",
        "  from sklearn.cross_validation import train_test_split\n",
        "  X_train, X_test, y_train, y_test = train_test_split(mov_pca_Df, labels, test_size=0.25, random_state=i)\n",
        "  from sklearn import metrics\n",
        "  RFC = RandomForestClassifier(max_depth=3, min_samples_split=4, n_estimators=20)\n",
        "  RFC.fit(X_train, y_train)\n",
        "  y_pred = RFC.predict(X_test)\n",
        "#   print('Accuracy of logistic regression classifier on test set: {:.2f}'.format(RFC.score(X_test, y_test)))\n",
        "  from sklearn.metrics import confusion_matrix\n",
        "  confusion_matrix = confusion_matrix(y_test, y_pred)\n",
        "  confusion_matrix_avg=confusion_matrix_avg+confusion_matrix\n",
        "#   accuracy_avg=(confusion_matrix[0][0]/(confusion_matrix[0][0]+confusion_matrix[0][1])+confusion_matrix[1][1]/(confusion_matrix[1][0]+confusion_matrix[1][1]))/2+accuracy_avg\n",
        "confusion_matrix_avg=confusion_matrix_avg/times\n",
        "# accuracy_avg=accuracy_avg/times\n",
        "print(confusion_matrix_avg)\n",
        "# print('Accuracy: {:.2f}'.format(accuracy_avg))"
      ],
      "execution_count": 0,
      "outputs": []
    },
    {
      "metadata": {
        "id": "EFaDy-fqdSHm",
        "colab_type": "code",
        "colab": {
          "base_uri": "https://localhost:8080/",
          "height": 462
        },
        "outputId": "a7c0be4b-957c-429c-9380-03afa0d66c8f"
      },
      "cell_type": "code",
      "source": [
        "from __future__ import print_function\n",
        "\n",
        "from sklearn.model_selection import train_test_split\n",
        "from sklearn.model_selection import GridSearchCV\n",
        "from sklearn.metrics import classification_report\n",
        "\n",
        "print(__doc__)\n",
        "\n",
        "\n",
        "# To apply an classifier on this data, we need to flatten the image, to\n",
        "# turn the data in a (samples, feature) matrix:\n",
        "X = mov_sel\n",
        "y = labels\n",
        "\n",
        "# Split the dataset in two equal parts\n",
        "X_train, X_test, y_train, y_test = train_test_split(\n",
        "    X, y, test_size=0.0, random_state=0)\n",
        "\n",
        "# Set the parameters by cross-validation\n",
        "tuned_parameters = { \"max_depth\":np.arange(3,22,2).tolist(), \n",
        "             \"min_samples_split\":[2], \"n_estimators\":[40]}\n",
        "\n",
        "scores = ['precision'] #, 'recall'\n",
        "\n",
        "mean_list=[]\n",
        "std_list=[]\n",
        "for score in scores:\n",
        "    print(\"# Tuning hyper-parameters for %s\" % score)\n",
        "    print()\n",
        "\n",
        "    clf = GridSearchCV(RandomForestClassifier(), tuned_parameters, cv=5,\n",
        "                       scoring='%s_macro' % score)\n",
        "    clf.fit(X_train, y_train)\n",
        "\n",
        "#     print(\"Best parameters set found on development set:\")\n",
        "#     print()\n",
        "    print(clf.best_params_)\n",
        "#     print()\n",
        "    print(\"Grid scores on development set:\")\n",
        "    print()\n",
        "    means = clf.cv_results_['mean_test_score']\n",
        "    stds = clf.cv_results_['std_test_score']\n",
        "    for mean, std, params in zip(means, stds, clf.cv_results_['params']):\n",
        "        print(\"%0.3f (+/-%0.03f) for %r\"\n",
        "              % (mean, std * 2, params))\n",
        "        mean_list.append(mean)\n",
        "        std_list.append(std)\n",
        "    print()\n",
        "\n",
        "#     print(\"Detailed classification report:\")\n",
        "#     print()\n",
        "#     print(\"The model is trained on the full development set.\")\n",
        "#     print(\"The scores are computed on the full evaluation set.\")\n",
        "#     print()\n",
        "#     y_true, y_pred = y_test, clf.predict(X_test)\n",
        "#     print(classification_report(y_true, y_pred))\n",
        "#     print(mean_list)\n",
        "#     print(means)"
      ],
      "execution_count": 58,
      "outputs": [
        {
          "output_type": "stream",
          "text": [
            "Automatically created module for IPython interactive environment\n",
            "# Tuning hyper-parameters for precision\n",
            "\n"
          ],
          "name": "stdout"
        },
        {
          "output_type": "stream",
          "text": [
            "/usr/local/lib/python3.6/dist-packages/sklearn/metrics/classification.py:1135: UndefinedMetricWarning: Precision is ill-defined and being set to 0.0 in labels with no predicted samples.\n",
            "  'precision', 'predicted', average, warn_for)\n",
            "/usr/local/lib/python3.6/dist-packages/sklearn/metrics/classification.py:1135: UndefinedMetricWarning: Precision is ill-defined and being set to 0.0 in labels with no predicted samples.\n",
            "  'precision', 'predicted', average, warn_for)\n",
            "/usr/local/lib/python3.6/dist-packages/sklearn/metrics/classification.py:1135: UndefinedMetricWarning: Precision is ill-defined and being set to 0.0 in labels with no predicted samples.\n",
            "  'precision', 'predicted', average, warn_for)\n",
            "/usr/local/lib/python3.6/dist-packages/sklearn/metrics/classification.py:1135: UndefinedMetricWarning: Precision is ill-defined and being set to 0.0 in labels with no predicted samples.\n",
            "  'precision', 'predicted', average, warn_for)\n"
          ],
          "name": "stderr"
        },
        {
          "output_type": "stream",
          "text": [
            "{'max_depth': 5, 'min_samples_split': 2, 'n_estimators': 40}\n",
            "Grid scores on development set:\n",
            "\n",
            "0.457 (+/-0.401) for {'max_depth': 3, 'min_samples_split': 2, 'n_estimators': 40}\n",
            "0.728 (+/-0.077) for {'max_depth': 5, 'min_samples_split': 2, 'n_estimators': 40}\n",
            "0.715 (+/-0.089) for {'max_depth': 7, 'min_samples_split': 2, 'n_estimators': 40}\n",
            "0.711 (+/-0.072) for {'max_depth': 9, 'min_samples_split': 2, 'n_estimators': 40}\n",
            "0.709 (+/-0.073) for {'max_depth': 11, 'min_samples_split': 2, 'n_estimators': 40}\n",
            "0.711 (+/-0.048) for {'max_depth': 13, 'min_samples_split': 2, 'n_estimators': 40}\n",
            "0.709 (+/-0.064) for {'max_depth': 15, 'min_samples_split': 2, 'n_estimators': 40}\n",
            "0.690 (+/-0.054) for {'max_depth': 17, 'min_samples_split': 2, 'n_estimators': 40}\n",
            "0.682 (+/-0.050) for {'max_depth': 19, 'min_samples_split': 2, 'n_estimators': 40}\n",
            "0.686 (+/-0.033) for {'max_depth': 21, 'min_samples_split': 2, 'n_estimators': 40}\n",
            "\n"
          ],
          "name": "stdout"
        }
      ]
    },
    {
      "metadata": {
        "id": "UUftD49KKfio",
        "colab_type": "code",
        "colab": {
          "base_uri": "https://localhost:8080/",
          "height": 376
        },
        "outputId": "befafd37-0bf8-4b26-d033-4097b6bfeca9"
      },
      "cell_type": "code",
      "source": [
        "param_range = np.arange(3,22,2)\n",
        "# param_range = np.logspace(-6, 5, 5)\n",
        "\n",
        "plt.title(\"Macro-Precision Curve with RandomForestClassifier\")\n",
        "plt.xlabel(\"max depth\")\n",
        "plt.ylabel(\"Macro-Precision\")\n",
        "plt.ylim(0.0, 1.1)\n",
        "lw = 2\n",
        "# plt.semilogx(param_range, train_scores_mean, label=\"Training with cv\",\n",
        "#              color=\"darkorange\", lw=lw)\n",
        "# plt.plot(param_range, np.asarray(mean_list), label=\"Training with cv\",\n",
        "#              color=\"darkorange\", lw=lw)\n",
        "# plt.fill_between(param_range, train_scores_mean - train_scores_std,\n",
        "#                  train_scores_mean + train_scores_std, alpha=0.2,\n",
        "#                  color=\"darkorange\", lw=lw)\n",
        "# plt.semilogx(param_range, test_scores_mean, label=\"Cross-validation score\",\n",
        "#              color=\"navy\", lw=lw)\n",
        "plt.plot(param_range, np.asarray(mean_list), label=\"Cross-validation score\",\n",
        "             color=\"navy\", lw=lw)\n",
        "plt.fill_between(param_range, np.asarray(mean_list) - np.asarray(std_list),\n",
        "                 np.asarray(mean_list) + np.asarray(std_list), alpha=0.2,\n",
        "                 color=\"navy\", lw=lw)\n",
        "plt.legend(loc=\"best\")\n",
        "plt.show()"
      ],
      "execution_count": 59,
      "outputs": [
        {
          "output_type": "display_data",
          "data": {
            "image/png": "[encoded data removed]",
            "text/plain": [
              "<matplotlib.figure.Figure at 0x7f553e5033c8>"
            ]
          },
          "metadata": {
            "tags": []
          }
        }
      ]
    },
    {
      "metadata": {
        "id": "PA409jx1uQFS",
        "colab_type": "code",
        "colab": {
          "base_uri": "https://localhost:8080/",
          "height": 357
        },
        "outputId": "bd77a8d2-9f45-4804-b565-208b69048cee"
      },
      "cell_type": "code",
      "source": [
        "from __future__ import print_function\n",
        "\n",
        "from sklearn.model_selection import train_test_split\n",
        "from sklearn.model_selection import GridSearchCV\n",
        "from sklearn.metrics import classification_report\n",
        "\n",
        "print(__doc__)\n",
        "\n",
        "\n",
        "# To apply an classifier on this data, we need to flatten the image, to\n",
        "# turn the data in a (samples, feature) matrix:\n",
        "X = mov_pca_Df\n",
        "y = labels\n",
        "\n",
        "# Split the dataset in two equal parts\n",
        "X_train, X_test, y_train, y_test = train_test_split(\n",
        "    X, y, test_size=0.0, random_state=0)\n",
        "\n",
        "# Set the parameters by cross-validation\n",
        "tuned_parameters = { \"max_depth\":np.arange(3,16,1).tolist(), \n",
        "             \"min_samples_split\":[2], \"n_estimators\":[40]}\n",
        "\n",
        "scores = ['precision'] #, 'recall'\n",
        "\n",
        "mean_list=[]\n",
        "std_list=[]\n",
        "for score in scores:\n",
        "    print(\"# Tuning hyper-parameters for %s\" % score)\n",
        "    print()\n",
        "\n",
        "    clf = GridSearchCV(RandomForestClassifier(), tuned_parameters, cv=5,\n",
        "                       scoring='%s_macro' % score)\n",
        "    clf.fit(X_train, y_train)\n",
        "\n",
        "#     print(\"Best parameters set found on development set:\")\n",
        "#     print()\n",
        "    print(clf.best_params_)\n",
        "#     print()\n",
        "    print(\"Grid scores on development set:\")\n",
        "    print()\n",
        "    means = clf.cv_results_['mean_test_score']\n",
        "    stds = clf.cv_results_['std_test_score']\n",
        "    for mean, std, params in zip(means, stds, clf.cv_results_['params']):\n",
        "        print(\"%0.3f (+/-%0.03f) for %r\"\n",
        "              % (mean, std * 2, params))\n",
        "        mean_list.append(mean)\n",
        "        std_list.append(std)\n",
        "    print()\n",
        "\n",
        "#     print(\"Detailed classification report:\")\n",
        "#     print()\n",
        "#     print(\"The model is trained on the full development set.\")\n",
        "#     print(\"The scores are computed on the full evaluation set.\")\n",
        "#     print()\n",
        "#     y_true, y_pred = y_test, clf.predict(X_test)\n",
        "#     print(classification_report(y_true, y_pred))\n",
        "#     print(mean_list)\n",
        "#     print(means)"
      ],
      "execution_count": 108,
      "outputs": [
        {
          "output_type": "stream",
          "text": [
            "Automatically created module for IPython interactive environment\n",
            "# Tuning hyper-parameters for precision\n",
            "\n",
            "{'max_depth': 3, 'min_samples_split': 2, 'n_estimators': 40}\n",
            "Grid scores on development set:\n",
            "\n",
            "0.773 (+/-0.127) for {'max_depth': 3, 'min_samples_split': 2, 'n_estimators': 40}\n",
            "0.727 (+/-0.056) for {'max_depth': 4, 'min_samples_split': 2, 'n_estimators': 40}\n",
            "0.699 (+/-0.045) for {'max_depth': 5, 'min_samples_split': 2, 'n_estimators': 40}\n",
            "0.691 (+/-0.063) for {'max_depth': 6, 'min_samples_split': 2, 'n_estimators': 40}\n",
            "0.686 (+/-0.072) for {'max_depth': 7, 'min_samples_split': 2, 'n_estimators': 40}\n",
            "0.679 (+/-0.043) for {'max_depth': 8, 'min_samples_split': 2, 'n_estimators': 40}\n",
            "0.657 (+/-0.044) for {'max_depth': 9, 'min_samples_split': 2, 'n_estimators': 40}\n",
            "0.646 (+/-0.076) for {'max_depth': 10, 'min_samples_split': 2, 'n_estimators': 40}\n",
            "0.637 (+/-0.046) for {'max_depth': 11, 'min_samples_split': 2, 'n_estimators': 40}\n",
            "0.636 (+/-0.061) for {'max_depth': 12, 'min_samples_split': 2, 'n_estimators': 40}\n",
            "0.627 (+/-0.050) for {'max_depth': 13, 'min_samples_split': 2, 'n_estimators': 40}\n",
            "0.629 (+/-0.051) for {'max_depth': 14, 'min_samples_split': 2, 'n_estimators': 40}\n",
            "0.633 (+/-0.030) for {'max_depth': 15, 'min_samples_split': 2, 'n_estimators': 40}\n",
            "\n"
          ],
          "name": "stdout"
        }
      ]
    },
    {
      "metadata": {
        "id": "ph-PX7LMuZIF",
        "colab_type": "code",
        "colab": {
          "base_uri": "https://localhost:8080/",
          "height": 376
        },
        "outputId": "8d1d3cad-1b8f-41f2-a7ae-d308fbf58feb"
      },
      "cell_type": "code",
      "source": [
        "param_range = np.arange(3,22,2)\n",
        "# param_range = np.logspace(-6, 5, 5)\n",
        "\n",
        "plt.title(\"Macro-Precision Curve with RandomForestClassifier\")\n",
        "plt.xlabel(\"max depth\")\n",
        "plt.ylabel(\"Macro-Precision\")\n",
        "plt.ylim(0.0, 1.1)\n",
        "lw = 2\n",
        "# plt.semilogx(param_range, train_scores_mean, label=\"Training with cv\",\n",
        "#              color=\"darkorange\", lw=lw)\n",
        "# plt.plot(param_range, np.asarray(mean_list), label=\"Training with cv\",\n",
        "#              color=\"darkorange\", lw=lw)\n",
        "# plt.fill_between(param_range, train_scores_mean - train_scores_std,\n",
        "#                  train_scores_mean + train_scores_std, alpha=0.2,\n",
        "#                  color=\"darkorange\", lw=lw)\n",
        "# plt.semilogx(param_range, test_scores_mean, label=\"Cross-validation score\",\n",
        "#              color=\"navy\", lw=lw)\n",
        "plt.plot(param_range, np.asarray(mean_list), label=\"Cross-validation score\",\n",
        "             color=\"navy\", lw=lw)\n",
        "plt.fill_between(param_range, np.asarray(mean_list) - np.asarray(std_list),\n",
        "                 np.asarray(mean_list) + np.asarray(std_list), alpha=0.2,\n",
        "                 color=\"navy\", lw=lw)\n",
        "plt.legend(loc=\"best\")\n",
        "plt.show()"
      ],
      "execution_count": 109,
      "outputs": [
        {
          "output_type": "display_data",
          "data": {
            "image/png": "[encoded data removed]",
            "text/plain": [
              "<matplotlib.figure.Figure at 0x7f3b64175a20>"
            ]
          },
          "metadata": {
            "tags": []
          }
        }
      ]
    },
    {
      "metadata": {
        "id": "F8OeQiM3urX-",
        "colab_type": "code",
        "colab": {
          "base_uri": "https://localhost:8080/",
          "height": 51
        },
        "outputId": "dfcb9bc6-f746-42c5-ab35-ea263fcfd5ec"
      },
      "cell_type": "code",
      "source": [
        "confusion_matrix_avg=np.zeros((2,2))\n",
        "# accuracy_avg=0.0\n",
        "times=20\n",
        "for i in range(times):\n",
        "  from sklearn.cross_validation import train_test_split\n",
        "  X_train, X_test, y_train, y_test = train_test_split(mov_sel, labels, test_size=0.20, random_state=i)\n",
        "  from sklearn import metrics\n",
        "  RFC = RandomForestClassifier(max_depth=6, min_samples_split=2, n_estimators=40)\n",
        "  RFC.fit(X_train, y_train)\n",
        "  y_pred = RFC.predict(X_test)\n",
        "#   print('Accuracy of logistic regression classifier on test set: {:.2f}'.format(RFC.score(X_test, y_test)))\n",
        "  from sklearn.metrics import confusion_matrix\n",
        "  confusion_matrix = confusion_matrix(y_test, y_pred)\n",
        "  confusion_matrix_avg=confusion_matrix_avg+confusion_matrix\n",
        "#   accuracy_avg=(confusion_matrix[0][0]/(confusion_matrix[0][0]+confusion_matrix[0][1])+confusion_matrix[1][1]/(confusion_matrix[1][0]+confusion_matrix[1][1]))/2+accuracy_avg\n",
        "confusion_matrix_avg=confusion_matrix_avg/times\n",
        "# accuracy_avg=accuracy_avg/times\n",
        "print(confusion_matrix_avg)\n",
        "# print('Accuracy: {:.2f}'.format(accuracy_avg))"
      ],
      "execution_count": 113,
      "outputs": [
        {
          "output_type": "stream",
          "text": [
            "[[549.1   7.8]\n",
            " [203.4  18.7]]\n"
          ],
          "name": "stdout"
        }
      ]
    },
    {
      "metadata": {
        "id": "XZxLMe2G7Zng",
        "colab_type": "code",
        "colab": {
          "base_uri": "https://localhost:8080/",
          "height": 51
        },
        "outputId": "51c070c3-5190-4460-8f02-b55e80164751"
      },
      "cell_type": "code",
      "source": [
        "confusion_matrix_avg=np.zeros((2,2))\n",
        "# accuracy_avg=0.0\n",
        "times=20\n",
        "for i in range(times):\n",
        "  from sklearn.cross_validation import train_test_split\n",
        "  X_train, X_test, y_train, y_test = train_test_split(mov_pca_Df, labels, test_size=0.20, random_state=i)\n",
        "  from sklearn import metrics\n",
        "  RFC = LogisticRegression()\n",
        "  RFC.fit(X_train, y_train)\n",
        "  y_pred = RFC.predict(X_test)\n",
        "#   print('Accuracy of logistic regression classifier on test set: {:.2f}'.format(RFC.score(X_test, y_test)))\n",
        "  from sklearn.metrics import confusion_matrix\n",
        "  confusion_matrix = confusion_matrix(y_test, y_pred)\n",
        "  confusion_matrix_avg=confusion_matrix_avg+confusion_matrix\n",
        "#   accuracy_avg=(confusion_matrix[0][0]/(confusion_matrix[0][0]+confusion_matrix[0][1])+confusion_matrix[1][1]/(confusion_matrix[1][0]+confusion_matrix[1][1]))/2+accuracy_avg\n",
        "confusion_matrix_avg=confusion_matrix_avg/times\n",
        "# accuracy_avg=accuracy_avg/times\n",
        "print(confusion_matrix_avg)"
      ],
      "execution_count": 143,
      "outputs": [
        {
          "output_type": "stream",
          "text": [
            "[[551.55   5.35]\n",
            " [210.2   11.9 ]]\n"
          ],
          "name": "stdout"
        }
      ]
    },
    {
      "metadata": {
        "id": "9pM_8CGMyAB0",
        "colab_type": "code",
        "colab": {
          "base_uri": "https://localhost:8080/",
          "height": 1652
        },
        "outputId": "a019beb3-bd22-4140-936f-abcd7bbabca3"
      },
      "cell_type": "code",
      "source": [
        "from sklearn.linear_model import LogisticRegression\n",
        "from __future__ import print_function\n",
        "\n",
        "from sklearn.model_selection import train_test_split\n",
        "from sklearn.model_selection import GridSearchCV\n",
        "from sklearn.metrics import classification_report\n",
        "\n",
        "print(__doc__)\n",
        "\n",
        "\n",
        "# To apply an classifier on this data, we need to flatten the image, to\n",
        "# turn the data in a (samples, feature) matrix:\n",
        "X = mov_sel\n",
        "y = labels\n",
        "\n",
        "# Split the dataset in two equal parts\n",
        "X_train, X_test, y_train, y_test = train_test_split(\n",
        "    X, y, test_size=0.0, random_state=0)\n",
        "\n",
        "# Set the parameters by cross-validation\n",
        "tuned_parameters = { \"max_iter\":np.arange(50,200,20).tolist()}\n",
        "\n",
        "scores = ['precision'] #, 'recall'\n",
        "\n",
        "mean_list=[]\n",
        "std_list=[]\n",
        "for score in scores:\n",
        "    print(\"# Tuning hyper-parameters for %s\" % score)\n",
        "    print()\n",
        "\n",
        "    clf = GridSearchCV(LogisticRegression(), tuned_parameters, cv=5,\n",
        "                       scoring='%s_macro' % score)\n",
        "    clf.fit(X_train, y_train)\n",
        "\n",
        "#     print(\"Best parameters set found on development set:\")\n",
        "#     print()\n",
        "    print(clf.best_params_)\n",
        "#     print()\n",
        "    print(\"Grid scores on development set:\")\n",
        "    print()\n",
        "    means = clf.cv_results_['mean_test_score']\n",
        "    stds = clf.cv_results_['std_test_score']\n",
        "    for mean, std, params in zip(means, stds, clf.cv_results_['params']):\n",
        "        print(\"%0.3f (+/-%0.03f) for %r\"\n",
        "              % (mean, std * 2, params))\n",
        "        mean_list.append(mean)\n",
        "        std_list.append(std)\n",
        "    print()"
      ],
      "execution_count": 140,
      "outputs": [
        {
          "output_type": "stream",
          "text": [
            "Automatically created module for IPython interactive environment\n",
            "# Tuning hyper-parameters for precision\n",
            "\n"
          ],
          "name": "stdout"
        },
        {
          "output_type": "stream",
          "text": [
            "/usr/local/lib/python3.6/dist-packages/sklearn/metrics/classification.py:1135: UndefinedMetricWarning: Precision is ill-defined and being set to 0.0 in labels with no predicted samples.\n",
            "  'precision', 'predicted', average, warn_for)\n",
            "/usr/local/lib/python3.6/dist-packages/sklearn/metrics/classification.py:1135: UndefinedMetricWarning: Precision is ill-defined and being set to 0.0 in labels with no predicted samples.\n",
            "  'precision', 'predicted', average, warn_for)\n",
            "/usr/local/lib/python3.6/dist-packages/sklearn/metrics/classification.py:1135: UndefinedMetricWarning: Precision is ill-defined and being set to 0.0 in labels with no predicted samples.\n",
            "  'precision', 'predicted', average, warn_for)\n",
            "/usr/local/lib/python3.6/dist-packages/sklearn/metrics/classification.py:1135: UndefinedMetricWarning: Precision is ill-defined and being set to 0.0 in labels with no predicted samples.\n",
            "  'precision', 'predicted', average, warn_for)\n",
            "/usr/local/lib/python3.6/dist-packages/sklearn/metrics/classification.py:1135: UndefinedMetricWarning: Precision is ill-defined and being set to 0.0 in labels with no predicted samples.\n",
            "  'precision', 'predicted', average, warn_for)\n",
            "/usr/local/lib/python3.6/dist-packages/sklearn/metrics/classification.py:1135: UndefinedMetricWarning: Precision is ill-defined and being set to 0.0 in labels with no predicted samples.\n",
            "  'precision', 'predicted', average, warn_for)\n",
            "/usr/local/lib/python3.6/dist-packages/sklearn/metrics/classification.py:1135: UndefinedMetricWarning: Precision is ill-defined and being set to 0.0 in labels with no predicted samples.\n",
            "  'precision', 'predicted', average, warn_for)\n",
            "/usr/local/lib/python3.6/dist-packages/sklearn/metrics/classification.py:1135: UndefinedMetricWarning: Precision is ill-defined and being set to 0.0 in labels with no predicted samples.\n",
            "  'precision', 'predicted', average, warn_for)\n",
            "/usr/local/lib/python3.6/dist-packages/sklearn/metrics/classification.py:1135: UndefinedMetricWarning: Precision is ill-defined and being set to 0.0 in labels with no predicted samples.\n",
            "  'precision', 'predicted', average, warn_for)\n",
            "/usr/local/lib/python3.6/dist-packages/sklearn/metrics/classification.py:1135: UndefinedMetricWarning: Precision is ill-defined and being set to 0.0 in labels with no predicted samples.\n",
            "  'precision', 'predicted', average, warn_for)\n",
            "/usr/local/lib/python3.6/dist-packages/sklearn/metrics/classification.py:1135: UndefinedMetricWarning: Precision is ill-defined and being set to 0.0 in labels with no predicted samples.\n",
            "  'precision', 'predicted', average, warn_for)\n",
            "/usr/local/lib/python3.6/dist-packages/sklearn/metrics/classification.py:1135: UndefinedMetricWarning: Precision is ill-defined and being set to 0.0 in labels with no predicted samples.\n",
            "  'precision', 'predicted', average, warn_for)\n",
            "/usr/local/lib/python3.6/dist-packages/sklearn/metrics/classification.py:1135: UndefinedMetricWarning: Precision is ill-defined and being set to 0.0 in labels with no predicted samples.\n",
            "  'precision', 'predicted', average, warn_for)\n",
            "/usr/local/lib/python3.6/dist-packages/sklearn/metrics/classification.py:1135: UndefinedMetricWarning: Precision is ill-defined and being set to 0.0 in labels with no predicted samples.\n",
            "  'precision', 'predicted', average, warn_for)\n",
            "/usr/local/lib/python3.6/dist-packages/sklearn/metrics/classification.py:1135: UndefinedMetricWarning: Precision is ill-defined and being set to 0.0 in labels with no predicted samples.\n",
            "  'precision', 'predicted', average, warn_for)\n",
            "/usr/local/lib/python3.6/dist-packages/sklearn/metrics/classification.py:1135: UndefinedMetricWarning: Precision is ill-defined and being set to 0.0 in labels with no predicted samples.\n",
            "  'precision', 'predicted', average, warn_for)\n",
            "/usr/local/lib/python3.6/dist-packages/sklearn/metrics/classification.py:1135: UndefinedMetricWarning: Precision is ill-defined and being set to 0.0 in labels with no predicted samples.\n",
            "  'precision', 'predicted', average, warn_for)\n",
            "/usr/local/lib/python3.6/dist-packages/sklearn/metrics/classification.py:1135: UndefinedMetricWarning: Precision is ill-defined and being set to 0.0 in labels with no predicted samples.\n",
            "  'precision', 'predicted', average, warn_for)\n",
            "/usr/local/lib/python3.6/dist-packages/sklearn/metrics/classification.py:1135: UndefinedMetricWarning: Precision is ill-defined and being set to 0.0 in labels with no predicted samples.\n",
            "  'precision', 'predicted', average, warn_for)\n",
            "/usr/local/lib/python3.6/dist-packages/sklearn/metrics/classification.py:1135: UndefinedMetricWarning: Precision is ill-defined and being set to 0.0 in labels with no predicted samples.\n",
            "  'precision', 'predicted', average, warn_for)\n",
            "/usr/local/lib/python3.6/dist-packages/sklearn/metrics/classification.py:1135: UndefinedMetricWarning: Precision is ill-defined and being set to 0.0 in labels with no predicted samples.\n",
            "  'precision', 'predicted', average, warn_for)\n"
          ],
          "name": "stderr"
        },
        {
          "output_type": "stream",
          "text": [
            "{'max_iter': 50}\n",
            "Grid scores on development set:\n",
            "\n",
            "0.357 (+/-0.000) for {'max_iter': 50}\n",
            "0.357 (+/-0.000) for {'max_iter': 70}\n",
            "0.357 (+/-0.000) for {'max_iter': 90}\n",
            "0.357 (+/-0.000) for {'max_iter': 110}\n",
            "0.357 (+/-0.000) for {'max_iter': 130}\n",
            "0.357 (+/-0.000) for {'max_iter': 150}\n",
            "0.357 (+/-0.000) for {'max_iter': 170}\n",
            "0.357 (+/-0.000) for {'max_iter': 190}\n",
            "\n"
          ],
          "name": "stdout"
        },
        {
          "output_type": "stream",
          "text": [
            "/usr/local/lib/python3.6/dist-packages/sklearn/metrics/classification.py:1135: UndefinedMetricWarning: Precision is ill-defined and being set to 0.0 in labels with no predicted samples.\n",
            "  'precision', 'predicted', average, warn_for)\n",
            "/usr/local/lib/python3.6/dist-packages/sklearn/metrics/classification.py:1135: UndefinedMetricWarning: Precision is ill-defined and being set to 0.0 in labels with no predicted samples.\n",
            "  'precision', 'predicted', average, warn_for)\n",
            "/usr/local/lib/python3.6/dist-packages/sklearn/metrics/classification.py:1135: UndefinedMetricWarning: Precision is ill-defined and being set to 0.0 in labels with no predicted samples.\n",
            "  'precision', 'predicted', average, warn_for)\n",
            "/usr/local/lib/python3.6/dist-packages/sklearn/metrics/classification.py:1135: UndefinedMetricWarning: Precision is ill-defined and being set to 0.0 in labels with no predicted samples.\n",
            "  'precision', 'predicted', average, warn_for)\n",
            "/usr/local/lib/python3.6/dist-packages/sklearn/metrics/classification.py:1135: UndefinedMetricWarning: Precision is ill-defined and being set to 0.0 in labels with no predicted samples.\n",
            "  'precision', 'predicted', average, warn_for)\n",
            "/usr/local/lib/python3.6/dist-packages/sklearn/metrics/classification.py:1135: UndefinedMetricWarning: Precision is ill-defined and being set to 0.0 in labels with no predicted samples.\n",
            "  'precision', 'predicted', average, warn_for)\n",
            "/usr/local/lib/python3.6/dist-packages/sklearn/metrics/classification.py:1135: UndefinedMetricWarning: Precision is ill-defined and being set to 0.0 in labels with no predicted samples.\n",
            "  'precision', 'predicted', average, warn_for)\n",
            "/usr/local/lib/python3.6/dist-packages/sklearn/metrics/classification.py:1135: UndefinedMetricWarning: Precision is ill-defined and being set to 0.0 in labels with no predicted samples.\n",
            "  'precision', 'predicted', average, warn_for)\n",
            "/usr/local/lib/python3.6/dist-packages/sklearn/metrics/classification.py:1135: UndefinedMetricWarning: Precision is ill-defined and being set to 0.0 in labels with no predicted samples.\n",
            "  'precision', 'predicted', average, warn_for)\n",
            "/usr/local/lib/python3.6/dist-packages/sklearn/metrics/classification.py:1135: UndefinedMetricWarning: Precision is ill-defined and being set to 0.0 in labels with no predicted samples.\n",
            "  'precision', 'predicted', average, warn_for)\n",
            "/usr/local/lib/python3.6/dist-packages/sklearn/metrics/classification.py:1135: UndefinedMetricWarning: Precision is ill-defined and being set to 0.0 in labels with no predicted samples.\n",
            "  'precision', 'predicted', average, warn_for)\n",
            "/usr/local/lib/python3.6/dist-packages/sklearn/metrics/classification.py:1135: UndefinedMetricWarning: Precision is ill-defined and being set to 0.0 in labels with no predicted samples.\n",
            "  'precision', 'predicted', average, warn_for)\n",
            "/usr/local/lib/python3.6/dist-packages/sklearn/metrics/classification.py:1135: UndefinedMetricWarning: Precision is ill-defined and being set to 0.0 in labels with no predicted samples.\n",
            "  'precision', 'predicted', average, warn_for)\n",
            "/usr/local/lib/python3.6/dist-packages/sklearn/metrics/classification.py:1135: UndefinedMetricWarning: Precision is ill-defined and being set to 0.0 in labels with no predicted samples.\n",
            "  'precision', 'predicted', average, warn_for)\n",
            "/usr/local/lib/python3.6/dist-packages/sklearn/metrics/classification.py:1135: UndefinedMetricWarning: Precision is ill-defined and being set to 0.0 in labels with no predicted samples.\n",
            "  'precision', 'predicted', average, warn_for)\n",
            "/usr/local/lib/python3.6/dist-packages/sklearn/metrics/classification.py:1135: UndefinedMetricWarning: Precision is ill-defined and being set to 0.0 in labels with no predicted samples.\n",
            "  'precision', 'predicted', average, warn_for)\n",
            "/usr/local/lib/python3.6/dist-packages/sklearn/metrics/classification.py:1135: UndefinedMetricWarning: Precision is ill-defined and being set to 0.0 in labels with no predicted samples.\n",
            "  'precision', 'predicted', average, warn_for)\n",
            "/usr/local/lib/python3.6/dist-packages/sklearn/metrics/classification.py:1135: UndefinedMetricWarning: Precision is ill-defined and being set to 0.0 in labels with no predicted samples.\n",
            "  'precision', 'predicted', average, warn_for)\n",
            "/usr/local/lib/python3.6/dist-packages/sklearn/metrics/classification.py:1135: UndefinedMetricWarning: Precision is ill-defined and being set to 0.0 in labels with no predicted samples.\n",
            "  'precision', 'predicted', average, warn_for)\n"
          ],
          "name": "stderr"
        }
      ]
    },
    {
      "metadata": {
        "id": "96FnH99Ex__q",
        "colab_type": "code",
        "colab": {
          "base_uri": "https://localhost:8080/",
          "height": 376
        },
        "outputId": "66a5f974-68d4-448b-f4e6-974f1ac713a9"
      },
      "cell_type": "code",
      "source": [
        "param_range = np.arange(50,200,20)\n",
        "# param_range = np.logspace(-6, -1, 1)\n",
        "\n",
        "plt.title(\"Macro-Precision Curve with LogisticRegression\")\n",
        "plt.xlabel(\"Maximum number of iterations\")\n",
        "plt.ylabel(\"Macro-Precision\")\n",
        "plt.ylim(0.0, 1.1)\n",
        "lw = 2\n",
        "# plt.semilogx(param_range, train_scores_mean, label=\"Training with cv\",\n",
        "#              color=\"darkorange\", lw=lw)\n",
        "# plt.plot(param_range, np.asarray(mean_list), label=\"Training with cv\",\n",
        "#              color=\"darkorange\", lw=lw)\n",
        "# plt.fill_between(param_range, train_scores_mean - train_scores_std,\n",
        "#                  train_scores_mean + train_scores_std, alpha=0.2,\n",
        "#                  color=\"darkorange\", lw=lw)\n",
        "# plt.semilogx(param_range, test_scores_mean, label=\"Cross-validation score\",\n",
        "#              color=\"navy\", lw=lw)\n",
        "plt.plot(param_range, np.asarray(mean_list), label=\"Cross-validation score\",\n",
        "             color=\"navy\", lw=lw)\n",
        "plt.fill_between(param_range, np.asarray(mean_list) - np.asarray(std_list),\n",
        "                 np.asarray(mean_list) + np.asarray(std_list), alpha=0.2,\n",
        "                 color=\"navy\", lw=lw)\n",
        "plt.legend(loc=\"best\")\n",
        "plt.show()"
      ],
      "execution_count": 141,
      "outputs": [
        {
          "output_type": "display_data",
          "data": {
            "image/png": "[encoded data removed]",
            "text/plain": [
              "<matplotlib.figure.Figure at 0x7f3b641af320>"
            ]
          },
          "metadata": {
            "tags": []
          }
        }
      ]
    },
    {
      "metadata": {
        "id": "C52WzxQrx_8l",
        "colab_type": "code",
        "colab": {}
      },
      "cell_type": "code",
      "source": [
        "import statsmodels.api as sm\n",
        "logit_model=sm.Logit(labels,mov_sel)\n",
        "result=logit_model.fit()\n",
        "print(result.summary())"
      ],
      "execution_count": 0,
      "outputs": []
    },
    {
      "metadata": {
        "id": "iLRQPJCFx_5Y",
        "colab_type": "code",
        "colab": {
          "base_uri": "https://localhost:8080/",
          "height": 561
        },
        "outputId": "9709998e-88a8-4663-e3d5-487aa3f75fe3"
      },
      "cell_type": "code",
      "source": [
        "import statsmodels.api as sm\n",
        "logit_model=sm.Logit(labels,mov_pca_Df)\n",
        "result=logit_model.fit()\n",
        "print(result.summary())"
      ],
      "execution_count": 130,
      "outputs": [
        {
          "output_type": "stream",
          "text": [
            "Optimization terminated successfully.\n",
            "         Current function value: 0.587458\n",
            "         Iterations 8\n",
            "                           Logit Regression Results                           \n",
            "==============================================================================\n",
            "Dep. Variable:          gross_RoI_cut   No. Observations:                 3891\n",
            "Model:                          Logit   Df Residuals:                     3875\n",
            "Method:                           MLE   Df Model:                           15\n",
            "Date:                Tue, 17 Apr 2018   Pseudo R-squ.:                 0.01818\n",
            "Time:                        18:29:49   Log-Likelihood:                -2285.8\n",
            "converged:                       True   LL-Null:                       -2328.1\n",
            "                                        LLR p-value:                 9.723e-12\n",
            "==============================================================================\n",
            "                 coef    std err          z      P>|z|      [0.025      0.975]\n",
            "------------------------------------------------------------------------------\n",
            "x1             0.7348      0.186      3.959      0.000       0.371       1.099\n",
            "x2             1.6684      0.093     18.021      0.000       1.487       1.850\n",
            "x3             0.7704      0.161      4.795      0.000       0.456       1.085\n",
            "x4            -0.6971      0.057    -12.320      0.000      -0.808      -0.586\n",
            "x5             0.9216      0.237      3.888      0.000       0.457       1.386\n",
            "x6            -1.9897      0.149    -13.360      0.000      -2.282      -1.698\n",
            "x7             4.0989      0.568      7.212      0.000       2.985       5.213\n",
            "x8             1.5269      0.444      3.439      0.001       0.657       2.397\n",
            "x9             1.6612      0.349      4.758      0.000       0.977       2.346\n",
            "x10            8.1265      1.100      7.387      0.000       5.970      10.283\n",
            "x11           -3.4536      1.020     -3.386      0.001      -5.453      -1.454\n",
            "x12           -0.7433      0.312     -2.384      0.017      -1.354      -0.132\n",
            "x13            0.3120      0.403      0.774      0.439      -0.478       1.102\n",
            "x14            5.3389      0.623      8.574      0.000       4.118       6.559\n",
            "x15           -0.2309      0.175     -1.316      0.188      -0.575       0.113\n",
            "x16           -0.4365      0.122     -3.578      0.000      -0.676      -0.197\n",
            "==============================================================================\n"
          ],
          "name": "stdout"
        }
      ]
    },
    {
      "metadata": {
        "id": "9yU2y7dKx_0T",
        "colab_type": "code",
        "colab": {}
      },
      "cell_type": "code",
      "source": [
        ""
      ],
      "execution_count": 0,
      "outputs": []
    },
    {
      "metadata": {
        "id": "2eAIjYw-x_pw",
        "colab_type": "code",
        "colab": {}
      },
      "cell_type": "code",
      "source": [
        ""
      ],
      "execution_count": 0,
      "outputs": []
    },
    {
      "metadata": {
        "id": "BtbVsSqz2aZB",
        "colab_type": "code",
        "colab": {}
      },
      "cell_type": "code",
      "source": [
        "from sklearn.ensemble import RandomForestClassifier\n",
        "from sklearn.model_selection import validation_curve\n",
        "X, y = mov_sel, labels\n",
        "\n",
        "# param_range = np.logspace(-6, 5, 5)\n",
        "param_range = np.arange(3,16,1)\n",
        "train_scores, test_scores = validation_curve(\n",
        "    RandomForestClassifier(min_samples_split=2, n_estimators=20), X, y, param_name=\"max_depth\", param_range=param_range,\n",
        "    cv=4, scoring=\"precision_macro\", n_jobs=1)\n",
        "train_scores_mean = np.mean(train_scores, axis=1)\n",
        "train_scores_std = np.std(train_scores, axis=1)\n",
        "test_scores_mean = np.mean(test_scores, axis=1)\n",
        "test_scores_std = np.std(test_scores, axis=1)\n",
        "\n",
        "plt.title(\"Validation Curve with RandomForestClassifier\")\n",
        "plt.xlabel(\"max depth\")\n",
        "plt.ylabel(\"Score\")\n",
        "plt.ylim(0.0, 1.1)\n",
        "lw = 2\n",
        "# plt.semilogx(param_range, train_scores_mean, label=\"Training score\",\n",
        "#              color=\"darkorange\", lw=lw)\n",
        "plt.plot(param_range, train_scores_mean, label=\"Training score\",\n",
        "             color=\"darkorange\", lw=lw)\n",
        "plt.fill_between(param_range, train_scores_mean - train_scores_std,\n",
        "                 train_scores_mean + train_scores_std, alpha=0.2,\n",
        "                 color=\"darkorange\", lw=lw)\n",
        "# plt.semilogx(param_range, test_scores_mean, label=\"Cross-validation score\",\n",
        "#              color=\"navy\", lw=lw)\n",
        "plt.plot(param_range, test_scores_mean, label=\"Cross-validation score\",\n",
        "             color=\"navy\", lw=lw)\n",
        "plt.fill_between(param_range, test_scores_mean - test_scores_std,\n",
        "                 test_scores_mean + test_scores_std, alpha=0.2,\n",
        "                 color=\"navy\", lw=lw)\n",
        "plt.legend(loc=\"best\")\n",
        "plt.show()"
      ],
      "execution_count": 0,
      "outputs": []
    },
    {
      "metadata": {
        "id": "F1jpAki75bq9",
        "colab_type": "code",
        "colab": {}
      },
      "cell_type": "code",
      "source": [
        "\n",
        "from sklearn.ensemble import RandomForestClassifier\n",
        "from sklearn.model_selection import validation_curve\n",
        "X, y = mov_pca_Df, labels\n",
        "\n",
        "# param_range = np.logspace(-6, 5, 5)\n",
        "param_range = np.arange(2, 20, 5)\n",
        "train_scores, test_scores = validation_curve(\n",
        "    RandomForestClassifier(max_features=\"sqrt\",max_depth=15, n_estimators=20), X, y, param_name=\"min_samples_split\", param_range=param_range,\n",
        "    cv=10, scoring=\"accuracy\", n_jobs=1)\n",
        "train_scores_mean = np.mean(train_scores, axis=1)\n",
        "train_scores_std = np.std(train_scores, axis=1)\n",
        "test_scores_mean = np.mean(test_scores, axis=1)\n",
        "test_scores_std = np.std(test_scores, axis=1)\n",
        "\n",
        "plt.title(\"Validation Curve with RandomForestClassifier\")\n",
        "plt.xlabel(\"min samples split\")\n",
        "plt.ylabel(\"Score\")\n",
        "plt.ylim(0.0, 1.1)\n",
        "lw = 2\n",
        "# plt.semilogx(param_range, train_scores_mean, label=\"Training score\",\n",
        "#              color=\"darkorange\", lw=lw)\n",
        "plt.plot(param_range, train_scores_mean, label=\"Training score\",\n",
        "             color=\"darkorange\", lw=lw)\n",
        "plt.fill_between(param_range, train_scores_mean - train_scores_std,\n",
        "                 train_scores_mean + train_scores_std, alpha=0.2,\n",
        "                 color=\"darkorange\", lw=lw)\n",
        "# plt.semilogx(param_range, test_scores_mean, label=\"Cross-validation score\",\n",
        "#              color=\"navy\", lw=lw)\n",
        "plt.plot(param_range, test_scores_mean, label=\"Cross-validation score\",\n",
        "             color=\"navy\", lw=lw)\n",
        "plt.fill_between(param_range, test_scores_mean - test_scores_std,\n",
        "                 test_scores_mean + test_scores_std, alpha=0.2,\n",
        "                 color=\"navy\", lw=lw)\n",
        "plt.legend(loc=\"best\")\n",
        "plt.show()"
      ],
      "execution_count": 0,
      "outputs": []
    },
    {
      "metadata": {
        "id": "DiJAJmOI2fe6",
        "colab_type": "code",
        "colab": {}
      },
      "cell_type": "code",
      "source": [
        "from xgboost.sklearn import XGBClassifier\n",
        "from sklearn.model_selection import validation_curve\n",
        "X, y = mov_pca_Df, labels\n",
        "\n",
        "# param_range = np.logspace(-6, 5, 5)\n",
        "param_range = np.arange(2, 10, 2)\n",
        "train_scores, test_scores = validation_curve(\n",
        "    XGBClassifier(), X, y, param_name=\"max_depth\", param_range=param_range,\n",
        "    cv=10, scoring=\"accuracy\", n_jobs=1)\n",
        "train_scores_mean = np.mean(train_scores, axis=1)\n",
        "train_scores_std = np.std(train_scores, axis=1)\n",
        "test_scores_mean = np.mean(test_scores, axis=1)\n",
        "test_scores_std = np.std(test_scores, axis=1)\n",
        "\n",
        "plt.title(\"Validation Curve with XGBClassifier\")\n",
        "plt.xlabel(\"max depth\")\n",
        "plt.ylabel(\"Score\")\n",
        "plt.ylim(0.0, 1.1)\n",
        "lw = 2\n",
        "# plt.semilogx(param_range, train_scores_mean, label=\"Training score\",\n",
        "#              color=\"darkorange\", lw=lw)\n",
        "plt.plot(param_range, train_scores_mean, label=\"Training score\",\n",
        "             color=\"darkorange\", lw=lw)\n",
        "plt.fill_between(param_range, train_scores_mean - train_scores_std,\n",
        "                 train_scores_mean + train_scores_std, alpha=0.2,\n",
        "                 color=\"darkorange\", lw=lw)\n",
        "# plt.semilogx(param_range, test_scores_mean, label=\"Cross-validation score\",\n",
        "#              color=\"navy\", lw=lw)\n",
        "plt.plot(param_range, test_scores_mean, label=\"Cross-validation score\",\n",
        "             color=\"navy\", lw=lw)\n",
        "plt.fill_between(param_range, test_scores_mean - test_scores_std,\n",
        "                 test_scores_mean + test_scores_std, alpha=0.2,\n",
        "                 color=\"navy\", lw=lw)\n",
        "plt.legend(loc=\"best\")\n",
        "plt.show()"
      ],
      "execution_count": 0,
      "outputs": []
    },
    {
      "metadata": {
        "id": "ijYEjtCt4OPC",
        "colab_type": "code",
        "colab": {}
      },
      "cell_type": "code",
      "source": [
        "from xgboost.sklearn import XGBClassifier\n",
        "from sklearn.model_selection import validation_curve\n",
        "X, y = mov_pca_Df, labels\n",
        "\n",
        "# param_range = np.logspace(-6, 5, 5)\n",
        "param_range = np.arange(0.05, 0.12, 0.01)\n",
        "train_scores, test_scores = validation_curve(\n",
        "    XGBClassifier(), X, y, param_name=\"learning_rate\", param_range=param_range,\n",
        "    cv=10, scoring=\"accuracy\", n_jobs=1)\n",
        "train_scores_mean = np.mean(train_scores, axis=1)\n",
        "train_scores_std = np.std(train_scores, axis=1)\n",
        "test_scores_mean = np.mean(test_scores, axis=1)\n",
        "test_scores_std = np.std(test_scores, axis=1)\n",
        "\n",
        "plt.title(\"Validation Curve with XGBClassifier\")\n",
        "plt.xlabel(\"learning rate\")\n",
        "plt.ylabel(\"Score\")\n",
        "plt.ylim(0.0, 1.1)\n",
        "lw = 2\n",
        "# plt.semilogx(param_range, train_scores_mean, label=\"Training score\",\n",
        "#              color=\"darkorange\", lw=lw)\n",
        "plt.plot(param_range, train_scores_mean, label=\"Training score\",\n",
        "             color=\"darkorange\", lw=lw)\n",
        "plt.fill_between(param_range, train_scores_mean - train_scores_std,\n",
        "                 train_scores_mean + train_scores_std, alpha=0.2,\n",
        "                 color=\"darkorange\", lw=lw)\n",
        "# plt.semilogx(param_range, test_scores_mean, label=\"Cross-validation score\",\n",
        "#              color=\"navy\", lw=lw)\n",
        "plt.plot(param_range, test_scores_mean, label=\"Cross-validation score\",\n",
        "             color=\"navy\", lw=lw)\n",
        "plt.fill_between(param_range, test_scores_mean - test_scores_std,\n",
        "                 test_scores_mean + test_scores_std, alpha=0.2,\n",
        "                 color=\"navy\", lw=lw)\n",
        "plt.legend(loc=\"best\")\n",
        "plt.show()"
      ],
      "execution_count": 0,
      "outputs": []
    },
    {
      "metadata": {
        "id": "GcIFBWDHRfBR",
        "colab_type": "code",
        "colab": {
          "base_uri": "https://localhost:8080/",
          "height": 3726
        },
        "outputId": "b4a89f83-198d-4e6f-aefd-c917b93cdf7c"
      },
      "cell_type": "code",
      "source": [
        "from xgboost.sklearn import XGBClassifier\n",
        "from __future__ import print_function\n",
        "\n",
        "from sklearn.model_selection import train_test_split\n",
        "from sklearn.model_selection import GridSearchCV\n",
        "from sklearn.metrics import classification_report\n",
        "\n",
        "print(__doc__)\n",
        "\n",
        "\n",
        "# To apply an classifier on this data, we need to flatten the image, to\n",
        "# turn the data in a (samples, feature) matrix:\n",
        "X = mov_sel\n",
        "y = labels\n",
        "\n",
        "# Split the dataset in two equal parts\n",
        "X_train, X_test, y_train, y_test = train_test_split(\n",
        "    X, y, test_size=0.0, random_state=0)\n",
        "\n",
        "# Set the parameters by cross-validation\n",
        "tuned_parameters = { \"max_depth\":np.arange(3,22,2).tolist()}\n",
        "\n",
        "scores = ['precision'] #, 'recall'\n",
        "\n",
        "mean_list=[]\n",
        "std_list=[]\n",
        "for score in scores:\n",
        "    print(\"# Tuning hyper-parameters for %s\" % score)\n",
        "    print()\n",
        "\n",
        "    clf = GridSearchCV(XGBClassifier(), tuned_parameters, cv=5,\n",
        "                       scoring='%s_macro' % score)\n",
        "    clf.fit(X_train, y_train)\n",
        "\n",
        "#     print(\"Best parameters set found on development set:\")\n",
        "#     print()\n",
        "    print(clf.best_params_)\n",
        "#     print()\n",
        "    print(\"Grid scores on development set:\")\n",
        "    print()\n",
        "    means = clf.cv_results_['mean_test_score']\n",
        "    stds = clf.cv_results_['std_test_score']\n",
        "    for mean, std, params in zip(means, stds, clf.cv_results_['params']):\n",
        "        print(\"%0.3f (+/-%0.03f) for %r\"\n",
        "              % (mean, std * 2, params))\n",
        "        mean_list.append(mean)\n",
        "        std_list.append(std)\n",
        "    print()"
      ],
      "execution_count": 60,
      "outputs": [
        {
          "output_type": "stream",
          "text": [
            "Automatically created module for IPython interactive environment\n",
            "# Tuning hyper-parameters for precision\n",
            "\n"
          ],
          "name": "stdout"
        },
        {
          "output_type": "stream",
          "text": [
            "/usr/local/lib/python3.6/dist-packages/sklearn/preprocessing/label.py:151: DeprecationWarning: The truth value of an empty array is ambiguous. Returning False, but in future this will result in an error. Use `array.size > 0` to check that an array is not empty.\n",
            "  if diff:\n",
            "/usr/local/lib/python3.6/dist-packages/sklearn/preprocessing/label.py:151: DeprecationWarning: The truth value of an empty array is ambiguous. Returning False, but in future this will result in an error. Use `array.size > 0` to check that an array is not empty.\n",
            "  if diff:\n",
            "/usr/local/lib/python3.6/dist-packages/sklearn/preprocessing/label.py:151: DeprecationWarning: The truth value of an empty array is ambiguous. Returning False, but in future this will result in an error. Use `array.size > 0` to check that an array is not empty.\n",
            "  if diff:\n",
            "/usr/local/lib/python3.6/dist-packages/sklearn/preprocessing/label.py:151: DeprecationWarning: The truth value of an empty array is ambiguous. Returning False, but in future this will result in an error. Use `array.size > 0` to check that an array is not empty.\n",
            "  if diff:\n",
            "/usr/local/lib/python3.6/dist-packages/sklearn/preprocessing/label.py:151: DeprecationWarning: The truth value of an empty array is ambiguous. Returning False, but in future this will result in an error. Use `array.size > 0` to check that an array is not empty.\n",
            "  if diff:\n",
            "/usr/local/lib/python3.6/dist-packages/sklearn/preprocessing/label.py:151: DeprecationWarning: The truth value of an empty array is ambiguous. Returning False, but in future this will result in an error. Use `array.size > 0` to check that an array is not empty.\n",
            "  if diff:\n",
            "/usr/local/lib/python3.6/dist-packages/sklearn/preprocessing/label.py:151: DeprecationWarning: The truth value of an empty array is ambiguous. Returning False, but in future this will result in an error. Use `array.size > 0` to check that an array is not empty.\n",
            "  if diff:\n",
            "/usr/local/lib/python3.6/dist-packages/sklearn/preprocessing/label.py:151: DeprecationWarning: The truth value of an empty array is ambiguous. Returning False, but in future this will result in an error. Use `array.size > 0` to check that an array is not empty.\n",
            "  if diff:\n",
            "/usr/local/lib/python3.6/dist-packages/sklearn/preprocessing/label.py:151: DeprecationWarning: The truth value of an empty array is ambiguous. Returning False, but in future this will result in an error. Use `array.size > 0` to check that an array is not empty.\n",
            "  if diff:\n",
            "/usr/local/lib/python3.6/dist-packages/sklearn/preprocessing/label.py:151: DeprecationWarning: The truth value of an empty array is ambiguous. Returning False, but in future this will result in an error. Use `array.size > 0` to check that an array is not empty.\n",
            "  if diff:\n",
            "/usr/local/lib/python3.6/dist-packages/sklearn/preprocessing/label.py:151: DeprecationWarning: The truth value of an empty array is ambiguous. Returning False, but in future this will result in an error. Use `array.size > 0` to check that an array is not empty.\n",
            "  if diff:\n",
            "/usr/local/lib/python3.6/dist-packages/sklearn/preprocessing/label.py:151: DeprecationWarning: The truth value of an empty array is ambiguous. Returning False, but in future this will result in an error. Use `array.size > 0` to check that an array is not empty.\n",
            "  if diff:\n",
            "/usr/local/lib/python3.6/dist-packages/sklearn/preprocessing/label.py:151: DeprecationWarning: The truth value of an empty array is ambiguous. Returning False, but in future this will result in an error. Use `array.size > 0` to check that an array is not empty.\n",
            "  if diff:\n",
            "/usr/local/lib/python3.6/dist-packages/sklearn/preprocessing/label.py:151: DeprecationWarning: The truth value of an empty array is ambiguous. Returning False, but in future this will result in an error. Use `array.size > 0` to check that an array is not empty.\n",
            "  if diff:\n",
            "/usr/local/lib/python3.6/dist-packages/sklearn/preprocessing/label.py:151: DeprecationWarning: The truth value of an empty array is ambiguous. Returning False, but in future this will result in an error. Use `array.size > 0` to check that an array is not empty.\n",
            "  if diff:\n",
            "/usr/local/lib/python3.6/dist-packages/sklearn/preprocessing/label.py:151: DeprecationWarning: The truth value of an empty array is ambiguous. Returning False, but in future this will result in an error. Use `array.size > 0` to check that an array is not empty.\n",
            "  if diff:\n",
            "/usr/local/lib/python3.6/dist-packages/sklearn/preprocessing/label.py:151: DeprecationWarning: The truth value of an empty array is ambiguous. Returning False, but in future this will result in an error. Use `array.size > 0` to check that an array is not empty.\n",
            "  if diff:\n",
            "/usr/local/lib/python3.6/dist-packages/sklearn/preprocessing/label.py:151: DeprecationWarning: The truth value of an empty array is ambiguous. Returning False, but in future this will result in an error. Use `array.size > 0` to check that an array is not empty.\n",
            "  if diff:\n",
            "/usr/local/lib/python3.6/dist-packages/sklearn/preprocessing/label.py:151: DeprecationWarning: The truth value of an empty array is ambiguous. Returning False, but in future this will result in an error. Use `array.size > 0` to check that an array is not empty.\n",
            "  if diff:\n",
            "/usr/local/lib/python3.6/dist-packages/sklearn/preprocessing/label.py:151: DeprecationWarning: The truth value of an empty array is ambiguous. Returning False, but in future this will result in an error. Use `array.size > 0` to check that an array is not empty.\n",
            "  if diff:\n",
            "/usr/local/lib/python3.6/dist-packages/sklearn/preprocessing/label.py:151: DeprecationWarning: The truth value of an empty array is ambiguous. Returning False, but in future this will result in an error. Use `array.size > 0` to check that an array is not empty.\n",
            "  if diff:\n",
            "/usr/local/lib/python3.6/dist-packages/sklearn/preprocessing/label.py:151: DeprecationWarning: The truth value of an empty array is ambiguous. Returning False, but in future this will result in an error. Use `array.size > 0` to check that an array is not empty.\n",
            "  if diff:\n",
            "/usr/local/lib/python3.6/dist-packages/sklearn/preprocessing/label.py:151: DeprecationWarning: The truth value of an empty array is ambiguous. Returning False, but in future this will result in an error. Use `array.size > 0` to check that an array is not empty.\n",
            "  if diff:\n",
            "/usr/local/lib/python3.6/dist-packages/sklearn/preprocessing/label.py:151: DeprecationWarning: The truth value of an empty array is ambiguous. Returning False, but in future this will result in an error. Use `array.size > 0` to check that an array is not empty.\n",
            "  if diff:\n",
            "/usr/local/lib/python3.6/dist-packages/sklearn/preprocessing/label.py:151: DeprecationWarning: The truth value of an empty array is ambiguous. Returning False, but in future this will result in an error. Use `array.size > 0` to check that an array is not empty.\n",
            "  if diff:\n",
            "/usr/local/lib/python3.6/dist-packages/sklearn/preprocessing/label.py:151: DeprecationWarning: The truth value of an empty array is ambiguous. Returning False, but in future this will result in an error. Use `array.size > 0` to check that an array is not empty.\n",
            "  if diff:\n",
            "/usr/local/lib/python3.6/dist-packages/sklearn/preprocessing/label.py:151: DeprecationWarning: The truth value of an empty array is ambiguous. Returning False, but in future this will result in an error. Use `array.size > 0` to check that an array is not empty.\n",
            "  if diff:\n",
            "/usr/local/lib/python3.6/dist-packages/sklearn/preprocessing/label.py:151: DeprecationWarning: The truth value of an empty array is ambiguous. Returning False, but in future this will result in an error. Use `array.size > 0` to check that an array is not empty.\n",
            "  if diff:\n",
            "/usr/local/lib/python3.6/dist-packages/sklearn/preprocessing/label.py:151: DeprecationWarning: The truth value of an empty array is ambiguous. Returning False, but in future this will result in an error. Use `array.size > 0` to check that an array is not empty.\n",
            "  if diff:\n",
            "/usr/local/lib/python3.6/dist-packages/sklearn/preprocessing/label.py:151: DeprecationWarning: The truth value of an empty array is ambiguous. Returning False, but in future this will result in an error. Use `array.size > 0` to check that an array is not empty.\n",
            "  if diff:\n",
            "/usr/local/lib/python3.6/dist-packages/sklearn/preprocessing/label.py:151: DeprecationWarning: The truth value of an empty array is ambiguous. Returning False, but in future this will result in an error. Use `array.size > 0` to check that an array is not empty.\n",
            "  if diff:\n",
            "/usr/local/lib/python3.6/dist-packages/sklearn/preprocessing/label.py:151: DeprecationWarning: The truth value of an empty array is ambiguous. Returning False, but in future this will result in an error. Use `array.size > 0` to check that an array is not empty.\n",
            "  if diff:\n",
            "/usr/local/lib/python3.6/dist-packages/sklearn/preprocessing/label.py:151: DeprecationWarning: The truth value of an empty array is ambiguous. Returning False, but in future this will result in an error. Use `array.size > 0` to check that an array is not empty.\n",
            "  if diff:\n",
            "/usr/local/lib/python3.6/dist-packages/sklearn/preprocessing/label.py:151: DeprecationWarning: The truth value of an empty array is ambiguous. Returning False, but in future this will result in an error. Use `array.size > 0` to check that an array is not empty.\n",
            "  if diff:\n",
            "/usr/local/lib/python3.6/dist-packages/sklearn/preprocessing/label.py:151: DeprecationWarning: The truth value of an empty array is ambiguous. Returning False, but in future this will result in an error. Use `array.size > 0` to check that an array is not empty.\n",
            "  if diff:\n",
            "/usr/local/lib/python3.6/dist-packages/sklearn/preprocessing/label.py:151: DeprecationWarning: The truth value of an empty array is ambiguous. Returning False, but in future this will result in an error. Use `array.size > 0` to check that an array is not empty.\n",
            "  if diff:\n"
          ],
          "name": "stderr"
        },
        {
          "output_type": "stream",
          "text": [
            "/usr/local/lib/python3.6/dist-packages/sklearn/preprocessing/label.py:151: DeprecationWarning: The truth value of an empty array is ambiguous. Returning False, but in future this will result in an error. Use `array.size > 0` to check that an array is not empty.\n",
            "  if diff:\n",
            "/usr/local/lib/python3.6/dist-packages/sklearn/preprocessing/label.py:151: DeprecationWarning: The truth value of an empty array is ambiguous. Returning False, but in future this will result in an error. Use `array.size > 0` to check that an array is not empty.\n",
            "  if diff:\n",
            "/usr/local/lib/python3.6/dist-packages/sklearn/preprocessing/label.py:151: DeprecationWarning: The truth value of an empty array is ambiguous. Returning False, but in future this will result in an error. Use `array.size > 0` to check that an array is not empty.\n",
            "  if diff:\n",
            "/usr/local/lib/python3.6/dist-packages/sklearn/preprocessing/label.py:151: DeprecationWarning: The truth value of an empty array is ambiguous. Returning False, but in future this will result in an error. Use `array.size > 0` to check that an array is not empty.\n",
            "  if diff:\n",
            "/usr/local/lib/python3.6/dist-packages/sklearn/preprocessing/label.py:151: DeprecationWarning: The truth value of an empty array is ambiguous. Returning False, but in future this will result in an error. Use `array.size > 0` to check that an array is not empty.\n",
            "  if diff:\n",
            "/usr/local/lib/python3.6/dist-packages/sklearn/preprocessing/label.py:151: DeprecationWarning: The truth value of an empty array is ambiguous. Returning False, but in future this will result in an error. Use `array.size > 0` to check that an array is not empty.\n",
            "  if diff:\n",
            "/usr/local/lib/python3.6/dist-packages/sklearn/preprocessing/label.py:151: DeprecationWarning: The truth value of an empty array is ambiguous. Returning False, but in future this will result in an error. Use `array.size > 0` to check that an array is not empty.\n",
            "  if diff:\n",
            "/usr/local/lib/python3.6/dist-packages/sklearn/preprocessing/label.py:151: DeprecationWarning: The truth value of an empty array is ambiguous. Returning False, but in future this will result in an error. Use `array.size > 0` to check that an array is not empty.\n",
            "  if diff:\n",
            "/usr/local/lib/python3.6/dist-packages/sklearn/preprocessing/label.py:151: DeprecationWarning: The truth value of an empty array is ambiguous. Returning False, but in future this will result in an error. Use `array.size > 0` to check that an array is not empty.\n",
            "  if diff:\n",
            "/usr/local/lib/python3.6/dist-packages/sklearn/preprocessing/label.py:151: DeprecationWarning: The truth value of an empty array is ambiguous. Returning False, but in future this will result in an error. Use `array.size > 0` to check that an array is not empty.\n",
            "  if diff:\n",
            "/usr/local/lib/python3.6/dist-packages/sklearn/preprocessing/label.py:151: DeprecationWarning: The truth value of an empty array is ambiguous. Returning False, but in future this will result in an error. Use `array.size > 0` to check that an array is not empty.\n",
            "  if diff:\n",
            "/usr/local/lib/python3.6/dist-packages/sklearn/preprocessing/label.py:151: DeprecationWarning: The truth value of an empty array is ambiguous. Returning False, but in future this will result in an error. Use `array.size > 0` to check that an array is not empty.\n",
            "  if diff:\n",
            "/usr/local/lib/python3.6/dist-packages/sklearn/preprocessing/label.py:151: DeprecationWarning: The truth value of an empty array is ambiguous. Returning False, but in future this will result in an error. Use `array.size > 0` to check that an array is not empty.\n",
            "  if diff:\n",
            "/usr/local/lib/python3.6/dist-packages/sklearn/preprocessing/label.py:151: DeprecationWarning: The truth value of an empty array is ambiguous. Returning False, but in future this will result in an error. Use `array.size > 0` to check that an array is not empty.\n",
            "  if diff:\n",
            "/usr/local/lib/python3.6/dist-packages/sklearn/preprocessing/label.py:151: DeprecationWarning: The truth value of an empty array is ambiguous. Returning False, but in future this will result in an error. Use `array.size > 0` to check that an array is not empty.\n",
            "  if diff:\n",
            "/usr/local/lib/python3.6/dist-packages/sklearn/preprocessing/label.py:151: DeprecationWarning: The truth value of an empty array is ambiguous. Returning False, but in future this will result in an error. Use `array.size > 0` to check that an array is not empty.\n",
            "  if diff:\n",
            "/usr/local/lib/python3.6/dist-packages/sklearn/preprocessing/label.py:151: DeprecationWarning: The truth value of an empty array is ambiguous. Returning False, but in future this will result in an error. Use `array.size > 0` to check that an array is not empty.\n",
            "  if diff:\n",
            "/usr/local/lib/python3.6/dist-packages/sklearn/preprocessing/label.py:151: DeprecationWarning: The truth value of an empty array is ambiguous. Returning False, but in future this will result in an error. Use `array.size > 0` to check that an array is not empty.\n",
            "  if diff:\n",
            "/usr/local/lib/python3.6/dist-packages/sklearn/preprocessing/label.py:151: DeprecationWarning: The truth value of an empty array is ambiguous. Returning False, but in future this will result in an error. Use `array.size > 0` to check that an array is not empty.\n",
            "  if diff:\n",
            "/usr/local/lib/python3.6/dist-packages/sklearn/preprocessing/label.py:151: DeprecationWarning: The truth value of an empty array is ambiguous. Returning False, but in future this will result in an error. Use `array.size > 0` to check that an array is not empty.\n",
            "  if diff:\n",
            "/usr/local/lib/python3.6/dist-packages/sklearn/preprocessing/label.py:151: DeprecationWarning: The truth value of an empty array is ambiguous. Returning False, but in future this will result in an error. Use `array.size > 0` to check that an array is not empty.\n",
            "  if diff:\n",
            "/usr/local/lib/python3.6/dist-packages/sklearn/preprocessing/label.py:151: DeprecationWarning: The truth value of an empty array is ambiguous. Returning False, but in future this will result in an error. Use `array.size > 0` to check that an array is not empty.\n",
            "  if diff:\n",
            "/usr/local/lib/python3.6/dist-packages/sklearn/preprocessing/label.py:151: DeprecationWarning: The truth value of an empty array is ambiguous. Returning False, but in future this will result in an error. Use `array.size > 0` to check that an array is not empty.\n",
            "  if diff:\n",
            "/usr/local/lib/python3.6/dist-packages/sklearn/preprocessing/label.py:151: DeprecationWarning: The truth value of an empty array is ambiguous. Returning False, but in future this will result in an error. Use `array.size > 0` to check that an array is not empty.\n",
            "  if diff:\n",
            "/usr/local/lib/python3.6/dist-packages/sklearn/preprocessing/label.py:151: DeprecationWarning: The truth value of an empty array is ambiguous. Returning False, but in future this will result in an error. Use `array.size > 0` to check that an array is not empty.\n",
            "  if diff:\n",
            "/usr/local/lib/python3.6/dist-packages/sklearn/preprocessing/label.py:151: DeprecationWarning: The truth value of an empty array is ambiguous. Returning False, but in future this will result in an error. Use `array.size > 0` to check that an array is not empty.\n",
            "  if diff:\n",
            "/usr/local/lib/python3.6/dist-packages/sklearn/preprocessing/label.py:151: DeprecationWarning: The truth value of an empty array is ambiguous. Returning False, but in future this will result in an error. Use `array.size > 0` to check that an array is not empty.\n",
            "  if diff:\n",
            "/usr/local/lib/python3.6/dist-packages/sklearn/preprocessing/label.py:151: DeprecationWarning: The truth value of an empty array is ambiguous. Returning False, but in future this will result in an error. Use `array.size > 0` to check that an array is not empty.\n",
            "  if diff:\n",
            "/usr/local/lib/python3.6/dist-packages/sklearn/preprocessing/label.py:151: DeprecationWarning: The truth value of an empty array is ambiguous. Returning False, but in future this will result in an error. Use `array.size > 0` to check that an array is not empty.\n",
            "  if diff:\n",
            "/usr/local/lib/python3.6/dist-packages/sklearn/preprocessing/label.py:151: DeprecationWarning: The truth value of an empty array is ambiguous. Returning False, but in future this will result in an error. Use `array.size > 0` to check that an array is not empty.\n",
            "  if diff:\n",
            "/usr/local/lib/python3.6/dist-packages/sklearn/preprocessing/label.py:151: DeprecationWarning: The truth value of an empty array is ambiguous. Returning False, but in future this will result in an error. Use `array.size > 0` to check that an array is not empty.\n",
            "  if diff:\n",
            "/usr/local/lib/python3.6/dist-packages/sklearn/preprocessing/label.py:151: DeprecationWarning: The truth value of an empty array is ambiguous. Returning False, but in future this will result in an error. Use `array.size > 0` to check that an array is not empty.\n",
            "  if diff:\n",
            "/usr/local/lib/python3.6/dist-packages/sklearn/preprocessing/label.py:151: DeprecationWarning: The truth value of an empty array is ambiguous. Returning False, but in future this will result in an error. Use `array.size > 0` to check that an array is not empty.\n",
            "  if diff:\n",
            "/usr/local/lib/python3.6/dist-packages/sklearn/preprocessing/label.py:151: DeprecationWarning: The truth value of an empty array is ambiguous. Returning False, but in future this will result in an error. Use `array.size > 0` to check that an array is not empty.\n",
            "  if diff:\n",
            "/usr/local/lib/python3.6/dist-packages/sklearn/preprocessing/label.py:151: DeprecationWarning: The truth value of an empty array is ambiguous. Returning False, but in future this will result in an error. Use `array.size > 0` to check that an array is not empty.\n",
            "  if diff:\n",
            "/usr/local/lib/python3.6/dist-packages/sklearn/preprocessing/label.py:151: DeprecationWarning: The truth value of an empty array is ambiguous. Returning False, but in future this will result in an error. Use `array.size > 0` to check that an array is not empty.\n",
            "  if diff:\n"
          ],
          "name": "stderr"
        },
        {
          "output_type": "stream",
          "text": [
            "/usr/local/lib/python3.6/dist-packages/sklearn/preprocessing/label.py:151: DeprecationWarning: The truth value of an empty array is ambiguous. Returning False, but in future this will result in an error. Use `array.size > 0` to check that an array is not empty.\n",
            "  if diff:\n",
            "/usr/local/lib/python3.6/dist-packages/sklearn/preprocessing/label.py:151: DeprecationWarning: The truth value of an empty array is ambiguous. Returning False, but in future this will result in an error. Use `array.size > 0` to check that an array is not empty.\n",
            "  if diff:\n",
            "/usr/local/lib/python3.6/dist-packages/sklearn/preprocessing/label.py:151: DeprecationWarning: The truth value of an empty array is ambiguous. Returning False, but in future this will result in an error. Use `array.size > 0` to check that an array is not empty.\n",
            "  if diff:\n",
            "/usr/local/lib/python3.6/dist-packages/sklearn/preprocessing/label.py:151: DeprecationWarning: The truth value of an empty array is ambiguous. Returning False, but in future this will result in an error. Use `array.size > 0` to check that an array is not empty.\n",
            "  if diff:\n",
            "/usr/local/lib/python3.6/dist-packages/sklearn/preprocessing/label.py:151: DeprecationWarning: The truth value of an empty array is ambiguous. Returning False, but in future this will result in an error. Use `array.size > 0` to check that an array is not empty.\n",
            "  if diff:\n",
            "/usr/local/lib/python3.6/dist-packages/sklearn/preprocessing/label.py:151: DeprecationWarning: The truth value of an empty array is ambiguous. Returning False, but in future this will result in an error. Use `array.size > 0` to check that an array is not empty.\n",
            "  if diff:\n",
            "/usr/local/lib/python3.6/dist-packages/sklearn/preprocessing/label.py:151: DeprecationWarning: The truth value of an empty array is ambiguous. Returning False, but in future this will result in an error. Use `array.size > 0` to check that an array is not empty.\n",
            "  if diff:\n",
            "/usr/local/lib/python3.6/dist-packages/sklearn/preprocessing/label.py:151: DeprecationWarning: The truth value of an empty array is ambiguous. Returning False, but in future this will result in an error. Use `array.size > 0` to check that an array is not empty.\n",
            "  if diff:\n",
            "/usr/local/lib/python3.6/dist-packages/sklearn/preprocessing/label.py:151: DeprecationWarning: The truth value of an empty array is ambiguous. Returning False, but in future this will result in an error. Use `array.size > 0` to check that an array is not empty.\n",
            "  if diff:\n",
            "/usr/local/lib/python3.6/dist-packages/sklearn/preprocessing/label.py:151: DeprecationWarning: The truth value of an empty array is ambiguous. Returning False, but in future this will result in an error. Use `array.size > 0` to check that an array is not empty.\n",
            "  if diff:\n",
            "/usr/local/lib/python3.6/dist-packages/sklearn/preprocessing/label.py:151: DeprecationWarning: The truth value of an empty array is ambiguous. Returning False, but in future this will result in an error. Use `array.size > 0` to check that an array is not empty.\n",
            "  if diff:\n",
            "/usr/local/lib/python3.6/dist-packages/sklearn/preprocessing/label.py:151: DeprecationWarning: The truth value of an empty array is ambiguous. Returning False, but in future this will result in an error. Use `array.size > 0` to check that an array is not empty.\n",
            "  if diff:\n",
            "/usr/local/lib/python3.6/dist-packages/sklearn/preprocessing/label.py:151: DeprecationWarning: The truth value of an empty array is ambiguous. Returning False, but in future this will result in an error. Use `array.size > 0` to check that an array is not empty.\n",
            "  if diff:\n",
            "/usr/local/lib/python3.6/dist-packages/sklearn/preprocessing/label.py:151: DeprecationWarning: The truth value of an empty array is ambiguous. Returning False, but in future this will result in an error. Use `array.size > 0` to check that an array is not empty.\n",
            "  if diff:\n",
            "/usr/local/lib/python3.6/dist-packages/sklearn/preprocessing/label.py:151: DeprecationWarning: The truth value of an empty array is ambiguous. Returning False, but in future this will result in an error. Use `array.size > 0` to check that an array is not empty.\n",
            "  if diff:\n",
            "/usr/local/lib/python3.6/dist-packages/sklearn/preprocessing/label.py:151: DeprecationWarning: The truth value of an empty array is ambiguous. Returning False, but in future this will result in an error. Use `array.size > 0` to check that an array is not empty.\n",
            "  if diff:\n",
            "/usr/local/lib/python3.6/dist-packages/sklearn/preprocessing/label.py:151: DeprecationWarning: The truth value of an empty array is ambiguous. Returning False, but in future this will result in an error. Use `array.size > 0` to check that an array is not empty.\n",
            "  if diff:\n",
            "/usr/local/lib/python3.6/dist-packages/sklearn/preprocessing/label.py:151: DeprecationWarning: The truth value of an empty array is ambiguous. Returning False, but in future this will result in an error. Use `array.size > 0` to check that an array is not empty.\n",
            "  if diff:\n",
            "/usr/local/lib/python3.6/dist-packages/sklearn/preprocessing/label.py:151: DeprecationWarning: The truth value of an empty array is ambiguous. Returning False, but in future this will result in an error. Use `array.size > 0` to check that an array is not empty.\n",
            "  if diff:\n",
            "/usr/local/lib/python3.6/dist-packages/sklearn/preprocessing/label.py:151: DeprecationWarning: The truth value of an empty array is ambiguous. Returning False, but in future this will result in an error. Use `array.size > 0` to check that an array is not empty.\n",
            "  if diff:\n",
            "/usr/local/lib/python3.6/dist-packages/sklearn/preprocessing/label.py:151: DeprecationWarning: The truth value of an empty array is ambiguous. Returning False, but in future this will result in an error. Use `array.size > 0` to check that an array is not empty.\n",
            "  if diff:\n",
            "/usr/local/lib/python3.6/dist-packages/sklearn/preprocessing/label.py:151: DeprecationWarning: The truth value of an empty array is ambiguous. Returning False, but in future this will result in an error. Use `array.size > 0` to check that an array is not empty.\n",
            "  if diff:\n",
            "/usr/local/lib/python3.6/dist-packages/sklearn/preprocessing/label.py:151: DeprecationWarning: The truth value of an empty array is ambiguous. Returning False, but in future this will result in an error. Use `array.size > 0` to check that an array is not empty.\n",
            "  if diff:\n",
            "/usr/local/lib/python3.6/dist-packages/sklearn/preprocessing/label.py:151: DeprecationWarning: The truth value of an empty array is ambiguous. Returning False, but in future this will result in an error. Use `array.size > 0` to check that an array is not empty.\n",
            "  if diff:\n",
            "/usr/local/lib/python3.6/dist-packages/sklearn/preprocessing/label.py:151: DeprecationWarning: The truth value of an empty array is ambiguous. Returning False, but in future this will result in an error. Use `array.size > 0` to check that an array is not empty.\n",
            "  if diff:\n",
            "/usr/local/lib/python3.6/dist-packages/sklearn/preprocessing/label.py:151: DeprecationWarning: The truth value of an empty array is ambiguous. Returning False, but in future this will result in an error. Use `array.size > 0` to check that an array is not empty.\n",
            "  if diff:\n",
            "/usr/local/lib/python3.6/dist-packages/sklearn/preprocessing/label.py:151: DeprecationWarning: The truth value of an empty array is ambiguous. Returning False, but in future this will result in an error. Use `array.size > 0` to check that an array is not empty.\n",
            "  if diff:\n",
            "/usr/local/lib/python3.6/dist-packages/sklearn/preprocessing/label.py:151: DeprecationWarning: The truth value of an empty array is ambiguous. Returning False, but in future this will result in an error. Use `array.size > 0` to check that an array is not empty.\n",
            "  if diff:\n"
          ],
          "name": "stderr"
        },
        {
          "output_type": "stream",
          "text": [
            "{'max_depth': 3}\n",
            "Grid scores on development set:\n",
            "\n",
            "0.681 (+/-0.016) for {'max_depth': 3}\n",
            "0.671 (+/-0.046) for {'max_depth': 5}\n",
            "0.668 (+/-0.037) for {'max_depth': 7}\n",
            "0.651 (+/-0.033) for {'max_depth': 9}\n",
            "0.645 (+/-0.018) for {'max_depth': 11}\n",
            "0.643 (+/-0.037) for {'max_depth': 13}\n",
            "0.651 (+/-0.019) for {'max_depth': 15}\n",
            "0.643 (+/-0.052) for {'max_depth': 17}\n",
            "0.645 (+/-0.045) for {'max_depth': 19}\n",
            "0.645 (+/-0.038) for {'max_depth': 21}\n",
            "\n"
          ],
          "name": "stdout"
        }
      ]
    },
    {
      "metadata": {
        "id": "XSe86MAbvnbD",
        "colab_type": "code",
        "colab": {
          "base_uri": "https://localhost:8080/",
          "height": 376
        },
        "outputId": "b82c9119-3c68-4473-f3dc-61262fd6e68d"
      },
      "cell_type": "code",
      "source": [
        "param_range = np.arange(3,22,2)\n",
        "# param_range = np.logspace(-6, -1, 1)\n",
        "\n",
        "plt.title(\"Macro-Precision Curve with XGBClassifier\")\n",
        "plt.xlabel(\"max depth\")\n",
        "plt.ylabel(\"Macro-Precision\")\n",
        "plt.ylim(0.0, 1.1)\n",
        "lw = 2\n",
        "# plt.semilogx(param_range, train_scores_mean, label=\"Training with cv\",\n",
        "#              color=\"darkorange\", lw=lw)\n",
        "# plt.plot(param_range, np.asarray(mean_list), label=\"Training with cv\",\n",
        "#              color=\"darkorange\", lw=lw)\n",
        "# plt.fill_between(param_range, train_scores_mean - train_scores_std,\n",
        "#                  train_scores_mean + train_scores_std, alpha=0.2,\n",
        "#                  color=\"darkorange\", lw=lw)\n",
        "# plt.semilogx(param_range, test_scores_mean, label=\"Cross-validation score\",\n",
        "#              color=\"navy\", lw=lw)\n",
        "plt.plot(param_range, np.asarray(mean_list), label=\"Cross-validation score\",\n",
        "             color=\"navy\", lw=lw)\n",
        "plt.fill_between(param_range, np.asarray(mean_list) - np.asarray(std_list),\n",
        "                 np.asarray(mean_list) + np.asarray(std_list), alpha=0.2,\n",
        "                 color=\"navy\", lw=lw)\n",
        "plt.legend(loc=\"best\")\n",
        "plt.show()"
      ],
      "execution_count": 61,
      "outputs": [
        {
          "output_type": "display_data",
          "data": {
            "image/png": "[encoded data removed]",
            "text/plain": [
              "<matplotlib.figure.Figure at 0x7f553e476550>"
            ]
          },
          "metadata": {
            "tags": []
          }
        }
      ]
    },
    {
      "metadata": {
        "id": "8sEggeG16LyA",
        "colab_type": "code",
        "colab": {
          "base_uri": "https://localhost:8080/",
          "height": 4797
        },
        "outputId": "cb4c6786-1c3a-4ba5-c55e-2f0117f352eb"
      },
      "cell_type": "code",
      "source": [
        "from xgboost.sklearn import XGBClassifier\n",
        "from __future__ import print_function\n",
        "\n",
        "from sklearn.model_selection import train_test_split\n",
        "from sklearn.model_selection import GridSearchCV\n",
        "from sklearn.metrics import classification_report\n",
        "\n",
        "print(__doc__)\n",
        "\n",
        "\n",
        "# To apply an classifier on this data, we need to flatten the image, to\n",
        "# turn the data in a (samples, feature) matrix:\n",
        "X = mov_pca_Df\n",
        "y = labels\n",
        "\n",
        "# Split the dataset in two equal parts\n",
        "X_train, X_test, y_train, y_test = train_test_split(\n",
        "    X, y, test_size=0.0, random_state=0)\n",
        "\n",
        "# Set the parameters by cross-validation\n",
        "tuned_parameters = { \"max_depth\":np.arange(3,16,1).tolist()}\n",
        "\n",
        "scores = ['precision'] #, 'recall'\n",
        "\n",
        "mean_list=[]\n",
        "std_list=[]\n",
        "for score in scores:\n",
        "    print(\"# Tuning hyper-parameters for %s\" % score)\n",
        "    print()\n",
        "\n",
        "    clf = GridSearchCV(XGBClassifier(), tuned_parameters, cv=5,\n",
        "                       scoring='%s_macro' % score)\n",
        "    clf.fit(X_train, y_train)\n",
        "\n",
        "#     print(\"Best parameters set found on development set:\")\n",
        "#     print()\n",
        "    print(clf.best_params_)\n",
        "#     print()\n",
        "    print(\"Grid scores on development set:\")\n",
        "    print()\n",
        "    means = clf.cv_results_['mean_test_score']\n",
        "    stds = clf.cv_results_['std_test_score']\n",
        "    for mean, std, params in zip(means, stds, clf.cv_results_['params']):\n",
        "        print(\"%0.3f (+/-%0.03f) for %r\"\n",
        "              % (mean, std * 2, params))\n",
        "        mean_list.append(mean)\n",
        "        std_list.append(std)\n",
        "    print()"
      ],
      "execution_count": 149,
      "outputs": [
        {
          "output_type": "stream",
          "text": [
            "Automatically created module for IPython interactive environment\n",
            "# Tuning hyper-parameters for precision\n",
            "\n"
          ],
          "name": "stdout"
        },
        {
          "output_type": "stream",
          "text": [
            "/usr/local/lib/python3.6/dist-packages/sklearn/preprocessing/label.py:151: DeprecationWarning: The truth value of an empty array is ambiguous. Returning False, but in future this will result in an error. Use `array.size > 0` to check that an array is not empty.\n",
            "  if diff:\n",
            "/usr/local/lib/python3.6/dist-packages/sklearn/preprocessing/label.py:151: DeprecationWarning: The truth value of an empty array is ambiguous. Returning False, but in future this will result in an error. Use `array.size > 0` to check that an array is not empty.\n",
            "  if diff:\n",
            "/usr/local/lib/python3.6/dist-packages/sklearn/preprocessing/label.py:151: DeprecationWarning: The truth value of an empty array is ambiguous. Returning False, but in future this will result in an error. Use `array.size > 0` to check that an array is not empty.\n",
            "  if diff:\n",
            "/usr/local/lib/python3.6/dist-packages/sklearn/preprocessing/label.py:151: DeprecationWarning: The truth value of an empty array is ambiguous. Returning False, but in future this will result in an error. Use `array.size > 0` to check that an array is not empty.\n",
            "  if diff:\n",
            "/usr/local/lib/python3.6/dist-packages/sklearn/preprocessing/label.py:151: DeprecationWarning: The truth value of an empty array is ambiguous. Returning False, but in future this will result in an error. Use `array.size > 0` to check that an array is not empty.\n",
            "  if diff:\n",
            "/usr/local/lib/python3.6/dist-packages/sklearn/preprocessing/label.py:151: DeprecationWarning: The truth value of an empty array is ambiguous. Returning False, but in future this will result in an error. Use `array.size > 0` to check that an array is not empty.\n",
            "  if diff:\n",
            "/usr/local/lib/python3.6/dist-packages/sklearn/preprocessing/label.py:151: DeprecationWarning: The truth value of an empty array is ambiguous. Returning False, but in future this will result in an error. Use `array.size > 0` to check that an array is not empty.\n",
            "  if diff:\n",
            "/usr/local/lib/python3.6/dist-packages/sklearn/preprocessing/label.py:151: DeprecationWarning: The truth value of an empty array is ambiguous. Returning False, but in future this will result in an error. Use `array.size > 0` to check that an array is not empty.\n",
            "  if diff:\n",
            "/usr/local/lib/python3.6/dist-packages/sklearn/preprocessing/label.py:151: DeprecationWarning: The truth value of an empty array is ambiguous. Returning False, but in future this will result in an error. Use `array.size > 0` to check that an array is not empty.\n",
            "  if diff:\n",
            "/usr/local/lib/python3.6/dist-packages/sklearn/preprocessing/label.py:151: DeprecationWarning: The truth value of an empty array is ambiguous. Returning False, but in future this will result in an error. Use `array.size > 0` to check that an array is not empty.\n",
            "  if diff:\n",
            "/usr/local/lib/python3.6/dist-packages/sklearn/preprocessing/label.py:151: DeprecationWarning: The truth value of an empty array is ambiguous. Returning False, but in future this will result in an error. Use `array.size > 0` to check that an array is not empty.\n",
            "  if diff:\n",
            "/usr/local/lib/python3.6/dist-packages/sklearn/preprocessing/label.py:151: DeprecationWarning: The truth value of an empty array is ambiguous. Returning False, but in future this will result in an error. Use `array.size > 0` to check that an array is not empty.\n",
            "  if diff:\n",
            "/usr/local/lib/python3.6/dist-packages/sklearn/preprocessing/label.py:151: DeprecationWarning: The truth value of an empty array is ambiguous. Returning False, but in future this will result in an error. Use `array.size > 0` to check that an array is not empty.\n",
            "  if diff:\n",
            "/usr/local/lib/python3.6/dist-packages/sklearn/preprocessing/label.py:151: DeprecationWarning: The truth value of an empty array is ambiguous. Returning False, but in future this will result in an error. Use `array.size > 0` to check that an array is not empty.\n",
            "  if diff:\n",
            "/usr/local/lib/python3.6/dist-packages/sklearn/preprocessing/label.py:151: DeprecationWarning: The truth value of an empty array is ambiguous. Returning False, but in future this will result in an error. Use `array.size > 0` to check that an array is not empty.\n",
            "  if diff:\n",
            "/usr/local/lib/python3.6/dist-packages/sklearn/preprocessing/label.py:151: DeprecationWarning: The truth value of an empty array is ambiguous. Returning False, but in future this will result in an error. Use `array.size > 0` to check that an array is not empty.\n",
            "  if diff:\n",
            "/usr/local/lib/python3.6/dist-packages/sklearn/preprocessing/label.py:151: DeprecationWarning: The truth value of an empty array is ambiguous. Returning False, but in future this will result in an error. Use `array.size > 0` to check that an array is not empty.\n",
            "  if diff:\n",
            "/usr/local/lib/python3.6/dist-packages/sklearn/preprocessing/label.py:151: DeprecationWarning: The truth value of an empty array is ambiguous. Returning False, but in future this will result in an error. Use `array.size > 0` to check that an array is not empty.\n",
            "  if diff:\n",
            "/usr/local/lib/python3.6/dist-packages/sklearn/preprocessing/label.py:151: DeprecationWarning: The truth value of an empty array is ambiguous. Returning False, but in future this will result in an error. Use `array.size > 0` to check that an array is not empty.\n",
            "  if diff:\n",
            "/usr/local/lib/python3.6/dist-packages/sklearn/preprocessing/label.py:151: DeprecationWarning: The truth value of an empty array is ambiguous. Returning False, but in future this will result in an error. Use `array.size > 0` to check that an array is not empty.\n",
            "  if diff:\n",
            "/usr/local/lib/python3.6/dist-packages/sklearn/preprocessing/label.py:151: DeprecationWarning: The truth value of an empty array is ambiguous. Returning False, but in future this will result in an error. Use `array.size > 0` to check that an array is not empty.\n",
            "  if diff:\n",
            "/usr/local/lib/python3.6/dist-packages/sklearn/preprocessing/label.py:151: DeprecationWarning: The truth value of an empty array is ambiguous. Returning False, but in future this will result in an error. Use `array.size > 0` to check that an array is not empty.\n",
            "  if diff:\n",
            "/usr/local/lib/python3.6/dist-packages/sklearn/preprocessing/label.py:151: DeprecationWarning: The truth value of an empty array is ambiguous. Returning False, but in future this will result in an error. Use `array.size > 0` to check that an array is not empty.\n",
            "  if diff:\n",
            "/usr/local/lib/python3.6/dist-packages/sklearn/preprocessing/label.py:151: DeprecationWarning: The truth value of an empty array is ambiguous. Returning False, but in future this will result in an error. Use `array.size > 0` to check that an array is not empty.\n",
            "  if diff:\n",
            "/usr/local/lib/python3.6/dist-packages/sklearn/preprocessing/label.py:151: DeprecationWarning: The truth value of an empty array is ambiguous. Returning False, but in future this will result in an error. Use `array.size > 0` to check that an array is not empty.\n",
            "  if diff:\n",
            "/usr/local/lib/python3.6/dist-packages/sklearn/preprocessing/label.py:151: DeprecationWarning: The truth value of an empty array is ambiguous. Returning False, but in future this will result in an error. Use `array.size > 0` to check that an array is not empty.\n",
            "  if diff:\n",
            "/usr/local/lib/python3.6/dist-packages/sklearn/preprocessing/label.py:151: DeprecationWarning: The truth value of an empty array is ambiguous. Returning False, but in future this will result in an error. Use `array.size > 0` to check that an array is not empty.\n",
            "  if diff:\n",
            "/usr/local/lib/python3.6/dist-packages/sklearn/preprocessing/label.py:151: DeprecationWarning: The truth value of an empty array is ambiguous. Returning False, but in future this will result in an error. Use `array.size > 0` to check that an array is not empty.\n",
            "  if diff:\n",
            "/usr/local/lib/python3.6/dist-packages/sklearn/preprocessing/label.py:151: DeprecationWarning: The truth value of an empty array is ambiguous. Returning False, but in future this will result in an error. Use `array.size > 0` to check that an array is not empty.\n",
            "  if diff:\n",
            "/usr/local/lib/python3.6/dist-packages/sklearn/preprocessing/label.py:151: DeprecationWarning: The truth value of an empty array is ambiguous. Returning False, but in future this will result in an error. Use `array.size > 0` to check that an array is not empty.\n",
            "  if diff:\n",
            "/usr/local/lib/python3.6/dist-packages/sklearn/preprocessing/label.py:151: DeprecationWarning: The truth value of an empty array is ambiguous. Returning False, but in future this will result in an error. Use `array.size > 0` to check that an array is not empty.\n",
            "  if diff:\n",
            "/usr/local/lib/python3.6/dist-packages/sklearn/preprocessing/label.py:151: DeprecationWarning: The truth value of an empty array is ambiguous. Returning False, but in future this will result in an error. Use `array.size > 0` to check that an array is not empty.\n",
            "  if diff:\n",
            "/usr/local/lib/python3.6/dist-packages/sklearn/preprocessing/label.py:151: DeprecationWarning: The truth value of an empty array is ambiguous. Returning False, but in future this will result in an error. Use `array.size > 0` to check that an array is not empty.\n",
            "  if diff:\n",
            "/usr/local/lib/python3.6/dist-packages/sklearn/preprocessing/label.py:151: DeprecationWarning: The truth value of an empty array is ambiguous. Returning False, but in future this will result in an error. Use `array.size > 0` to check that an array is not empty.\n",
            "  if diff:\n",
            "/usr/local/lib/python3.6/dist-packages/sklearn/preprocessing/label.py:151: DeprecationWarning: The truth value of an empty array is ambiguous. Returning False, but in future this will result in an error. Use `array.size > 0` to check that an array is not empty.\n",
            "  if diff:\n",
            "/usr/local/lib/python3.6/dist-packages/sklearn/preprocessing/label.py:151: DeprecationWarning: The truth value of an empty array is ambiguous. Returning False, but in future this will result in an error. Use `array.size > 0` to check that an array is not empty.\n",
            "  if diff:\n"
          ],
          "name": "stderr"
        },
        {
          "output_type": "stream",
          "text": [
            "/usr/local/lib/python3.6/dist-packages/sklearn/preprocessing/label.py:151: DeprecationWarning: The truth value of an empty array is ambiguous. Returning False, but in future this will result in an error. Use `array.size > 0` to check that an array is not empty.\n",
            "  if diff:\n",
            "/usr/local/lib/python3.6/dist-packages/sklearn/preprocessing/label.py:151: DeprecationWarning: The truth value of an empty array is ambiguous. Returning False, but in future this will result in an error. Use `array.size > 0` to check that an array is not empty.\n",
            "  if diff:\n",
            "/usr/local/lib/python3.6/dist-packages/sklearn/preprocessing/label.py:151: DeprecationWarning: The truth value of an empty array is ambiguous. Returning False, but in future this will result in an error. Use `array.size > 0` to check that an array is not empty.\n",
            "  if diff:\n",
            "/usr/local/lib/python3.6/dist-packages/sklearn/preprocessing/label.py:151: DeprecationWarning: The truth value of an empty array is ambiguous. Returning False, but in future this will result in an error. Use `array.size > 0` to check that an array is not empty.\n",
            "  if diff:\n",
            "/usr/local/lib/python3.6/dist-packages/sklearn/preprocessing/label.py:151: DeprecationWarning: The truth value of an empty array is ambiguous. Returning False, but in future this will result in an error. Use `array.size > 0` to check that an array is not empty.\n",
            "  if diff:\n",
            "/usr/local/lib/python3.6/dist-packages/sklearn/preprocessing/label.py:151: DeprecationWarning: The truth value of an empty array is ambiguous. Returning False, but in future this will result in an error. Use `array.size > 0` to check that an array is not empty.\n",
            "  if diff:\n",
            "/usr/local/lib/python3.6/dist-packages/sklearn/preprocessing/label.py:151: DeprecationWarning: The truth value of an empty array is ambiguous. Returning False, but in future this will result in an error. Use `array.size > 0` to check that an array is not empty.\n",
            "  if diff:\n",
            "/usr/local/lib/python3.6/dist-packages/sklearn/preprocessing/label.py:151: DeprecationWarning: The truth value of an empty array is ambiguous. Returning False, but in future this will result in an error. Use `array.size > 0` to check that an array is not empty.\n",
            "  if diff:\n",
            "/usr/local/lib/python3.6/dist-packages/sklearn/preprocessing/label.py:151: DeprecationWarning: The truth value of an empty array is ambiguous. Returning False, but in future this will result in an error. Use `array.size > 0` to check that an array is not empty.\n",
            "  if diff:\n",
            "/usr/local/lib/python3.6/dist-packages/sklearn/preprocessing/label.py:151: DeprecationWarning: The truth value of an empty array is ambiguous. Returning False, but in future this will result in an error. Use `array.size > 0` to check that an array is not empty.\n",
            "  if diff:\n",
            "/usr/local/lib/python3.6/dist-packages/sklearn/preprocessing/label.py:151: DeprecationWarning: The truth value of an empty array is ambiguous. Returning False, but in future this will result in an error. Use `array.size > 0` to check that an array is not empty.\n",
            "  if diff:\n",
            "/usr/local/lib/python3.6/dist-packages/sklearn/preprocessing/label.py:151: DeprecationWarning: The truth value of an empty array is ambiguous. Returning False, but in future this will result in an error. Use `array.size > 0` to check that an array is not empty.\n",
            "  if diff:\n",
            "/usr/local/lib/python3.6/dist-packages/sklearn/preprocessing/label.py:151: DeprecationWarning: The truth value of an empty array is ambiguous. Returning False, but in future this will result in an error. Use `array.size > 0` to check that an array is not empty.\n",
            "  if diff:\n",
            "/usr/local/lib/python3.6/dist-packages/sklearn/preprocessing/label.py:151: DeprecationWarning: The truth value of an empty array is ambiguous. Returning False, but in future this will result in an error. Use `array.size > 0` to check that an array is not empty.\n",
            "  if diff:\n",
            "/usr/local/lib/python3.6/dist-packages/sklearn/preprocessing/label.py:151: DeprecationWarning: The truth value of an empty array is ambiguous. Returning False, but in future this will result in an error. Use `array.size > 0` to check that an array is not empty.\n",
            "  if diff:\n",
            "/usr/local/lib/python3.6/dist-packages/sklearn/preprocessing/label.py:151: DeprecationWarning: The truth value of an empty array is ambiguous. Returning False, but in future this will result in an error. Use `array.size > 0` to check that an array is not empty.\n",
            "  if diff:\n",
            "/usr/local/lib/python3.6/dist-packages/sklearn/preprocessing/label.py:151: DeprecationWarning: The truth value of an empty array is ambiguous. Returning False, but in future this will result in an error. Use `array.size > 0` to check that an array is not empty.\n",
            "  if diff:\n",
            "/usr/local/lib/python3.6/dist-packages/sklearn/preprocessing/label.py:151: DeprecationWarning: The truth value of an empty array is ambiguous. Returning False, but in future this will result in an error. Use `array.size > 0` to check that an array is not empty.\n",
            "  if diff:\n",
            "/usr/local/lib/python3.6/dist-packages/sklearn/preprocessing/label.py:151: DeprecationWarning: The truth value of an empty array is ambiguous. Returning False, but in future this will result in an error. Use `array.size > 0` to check that an array is not empty.\n",
            "  if diff:\n",
            "/usr/local/lib/python3.6/dist-packages/sklearn/preprocessing/label.py:151: DeprecationWarning: The truth value of an empty array is ambiguous. Returning False, but in future this will result in an error. Use `array.size > 0` to check that an array is not empty.\n",
            "  if diff:\n",
            "/usr/local/lib/python3.6/dist-packages/sklearn/preprocessing/label.py:151: DeprecationWarning: The truth value of an empty array is ambiguous. Returning False, but in future this will result in an error. Use `array.size > 0` to check that an array is not empty.\n",
            "  if diff:\n",
            "/usr/local/lib/python3.6/dist-packages/sklearn/preprocessing/label.py:151: DeprecationWarning: The truth value of an empty array is ambiguous. Returning False, but in future this will result in an error. Use `array.size > 0` to check that an array is not empty.\n",
            "  if diff:\n",
            "/usr/local/lib/python3.6/dist-packages/sklearn/preprocessing/label.py:151: DeprecationWarning: The truth value of an empty array is ambiguous. Returning False, but in future this will result in an error. Use `array.size > 0` to check that an array is not empty.\n",
            "  if diff:\n",
            "/usr/local/lib/python3.6/dist-packages/sklearn/preprocessing/label.py:151: DeprecationWarning: The truth value of an empty array is ambiguous. Returning False, but in future this will result in an error. Use `array.size > 0` to check that an array is not empty.\n",
            "  if diff:\n",
            "/usr/local/lib/python3.6/dist-packages/sklearn/preprocessing/label.py:151: DeprecationWarning: The truth value of an empty array is ambiguous. Returning False, but in future this will result in an error. Use `array.size > 0` to check that an array is not empty.\n",
            "  if diff:\n",
            "/usr/local/lib/python3.6/dist-packages/sklearn/preprocessing/label.py:151: DeprecationWarning: The truth value of an empty array is ambiguous. Returning False, but in future this will result in an error. Use `array.size > 0` to check that an array is not empty.\n",
            "  if diff:\n",
            "/usr/local/lib/python3.6/dist-packages/sklearn/preprocessing/label.py:151: DeprecationWarning: The truth value of an empty array is ambiguous. Returning False, but in future this will result in an error. Use `array.size > 0` to check that an array is not empty.\n",
            "  if diff:\n",
            "/usr/local/lib/python3.6/dist-packages/sklearn/preprocessing/label.py:151: DeprecationWarning: The truth value of an empty array is ambiguous. Returning False, but in future this will result in an error. Use `array.size > 0` to check that an array is not empty.\n",
            "  if diff:\n",
            "/usr/local/lib/python3.6/dist-packages/sklearn/preprocessing/label.py:151: DeprecationWarning: The truth value of an empty array is ambiguous. Returning False, but in future this will result in an error. Use `array.size > 0` to check that an array is not empty.\n",
            "  if diff:\n",
            "/usr/local/lib/python3.6/dist-packages/sklearn/preprocessing/label.py:151: DeprecationWarning: The truth value of an empty array is ambiguous. Returning False, but in future this will result in an error. Use `array.size > 0` to check that an array is not empty.\n",
            "  if diff:\n",
            "/usr/local/lib/python3.6/dist-packages/sklearn/preprocessing/label.py:151: DeprecationWarning: The truth value of an empty array is ambiguous. Returning False, but in future this will result in an error. Use `array.size > 0` to check that an array is not empty.\n",
            "  if diff:\n",
            "/usr/local/lib/python3.6/dist-packages/sklearn/preprocessing/label.py:151: DeprecationWarning: The truth value of an empty array is ambiguous. Returning False, but in future this will result in an error. Use `array.size > 0` to check that an array is not empty.\n",
            "  if diff:\n",
            "/usr/local/lib/python3.6/dist-packages/sklearn/preprocessing/label.py:151: DeprecationWarning: The truth value of an empty array is ambiguous. Returning False, but in future this will result in an error. Use `array.size > 0` to check that an array is not empty.\n",
            "  if diff:\n",
            "/usr/local/lib/python3.6/dist-packages/sklearn/preprocessing/label.py:151: DeprecationWarning: The truth value of an empty array is ambiguous. Returning False, but in future this will result in an error. Use `array.size > 0` to check that an array is not empty.\n",
            "  if diff:\n",
            "/usr/local/lib/python3.6/dist-packages/sklearn/preprocessing/label.py:151: DeprecationWarning: The truth value of an empty array is ambiguous. Returning False, but in future this will result in an error. Use `array.size > 0` to check that an array is not empty.\n",
            "  if diff:\n",
            "/usr/local/lib/python3.6/dist-packages/sklearn/preprocessing/label.py:151: DeprecationWarning: The truth value of an empty array is ambiguous. Returning False, but in future this will result in an error. Use `array.size > 0` to check that an array is not empty.\n",
            "  if diff:\n"
          ],
          "name": "stderr"
        },
        {
          "output_type": "stream",
          "text": [
            "/usr/local/lib/python3.6/dist-packages/sklearn/preprocessing/label.py:151: DeprecationWarning: The truth value of an empty array is ambiguous. Returning False, but in future this will result in an error. Use `array.size > 0` to check that an array is not empty.\n",
            "  if diff:\n",
            "/usr/local/lib/python3.6/dist-packages/sklearn/preprocessing/label.py:151: DeprecationWarning: The truth value of an empty array is ambiguous. Returning False, but in future this will result in an error. Use `array.size > 0` to check that an array is not empty.\n",
            "  if diff:\n",
            "/usr/local/lib/python3.6/dist-packages/sklearn/preprocessing/label.py:151: DeprecationWarning: The truth value of an empty array is ambiguous. Returning False, but in future this will result in an error. Use `array.size > 0` to check that an array is not empty.\n",
            "  if diff:\n",
            "/usr/local/lib/python3.6/dist-packages/sklearn/preprocessing/label.py:151: DeprecationWarning: The truth value of an empty array is ambiguous. Returning False, but in future this will result in an error. Use `array.size > 0` to check that an array is not empty.\n",
            "  if diff:\n",
            "/usr/local/lib/python3.6/dist-packages/sklearn/preprocessing/label.py:151: DeprecationWarning: The truth value of an empty array is ambiguous. Returning False, but in future this will result in an error. Use `array.size > 0` to check that an array is not empty.\n",
            "  if diff:\n",
            "/usr/local/lib/python3.6/dist-packages/sklearn/preprocessing/label.py:151: DeprecationWarning: The truth value of an empty array is ambiguous. Returning False, but in future this will result in an error. Use `array.size > 0` to check that an array is not empty.\n",
            "  if diff:\n",
            "/usr/local/lib/python3.6/dist-packages/sklearn/preprocessing/label.py:151: DeprecationWarning: The truth value of an empty array is ambiguous. Returning False, but in future this will result in an error. Use `array.size > 0` to check that an array is not empty.\n",
            "  if diff:\n",
            "/usr/local/lib/python3.6/dist-packages/sklearn/preprocessing/label.py:151: DeprecationWarning: The truth value of an empty array is ambiguous. Returning False, but in future this will result in an error. Use `array.size > 0` to check that an array is not empty.\n",
            "  if diff:\n",
            "/usr/local/lib/python3.6/dist-packages/sklearn/preprocessing/label.py:151: DeprecationWarning: The truth value of an empty array is ambiguous. Returning False, but in future this will result in an error. Use `array.size > 0` to check that an array is not empty.\n",
            "  if diff:\n",
            "/usr/local/lib/python3.6/dist-packages/sklearn/preprocessing/label.py:151: DeprecationWarning: The truth value of an empty array is ambiguous. Returning False, but in future this will result in an error. Use `array.size > 0` to check that an array is not empty.\n",
            "  if diff:\n",
            "/usr/local/lib/python3.6/dist-packages/sklearn/preprocessing/label.py:151: DeprecationWarning: The truth value of an empty array is ambiguous. Returning False, but in future this will result in an error. Use `array.size > 0` to check that an array is not empty.\n",
            "  if diff:\n",
            "/usr/local/lib/python3.6/dist-packages/sklearn/preprocessing/label.py:151: DeprecationWarning: The truth value of an empty array is ambiguous. Returning False, but in future this will result in an error. Use `array.size > 0` to check that an array is not empty.\n",
            "  if diff:\n",
            "/usr/local/lib/python3.6/dist-packages/sklearn/preprocessing/label.py:151: DeprecationWarning: The truth value of an empty array is ambiguous. Returning False, but in future this will result in an error. Use `array.size > 0` to check that an array is not empty.\n",
            "  if diff:\n",
            "/usr/local/lib/python3.6/dist-packages/sklearn/preprocessing/label.py:151: DeprecationWarning: The truth value of an empty array is ambiguous. Returning False, but in future this will result in an error. Use `array.size > 0` to check that an array is not empty.\n",
            "  if diff:\n",
            "/usr/local/lib/python3.6/dist-packages/sklearn/preprocessing/label.py:151: DeprecationWarning: The truth value of an empty array is ambiguous. Returning False, but in future this will result in an error. Use `array.size > 0` to check that an array is not empty.\n",
            "  if diff:\n",
            "/usr/local/lib/python3.6/dist-packages/sklearn/preprocessing/label.py:151: DeprecationWarning: The truth value of an empty array is ambiguous. Returning False, but in future this will result in an error. Use `array.size > 0` to check that an array is not empty.\n",
            "  if diff:\n",
            "/usr/local/lib/python3.6/dist-packages/sklearn/preprocessing/label.py:151: DeprecationWarning: The truth value of an empty array is ambiguous. Returning False, but in future this will result in an error. Use `array.size > 0` to check that an array is not empty.\n",
            "  if diff:\n",
            "/usr/local/lib/python3.6/dist-packages/sklearn/preprocessing/label.py:151: DeprecationWarning: The truth value of an empty array is ambiguous. Returning False, but in future this will result in an error. Use `array.size > 0` to check that an array is not empty.\n",
            "  if diff:\n",
            "/usr/local/lib/python3.6/dist-packages/sklearn/preprocessing/label.py:151: DeprecationWarning: The truth value of an empty array is ambiguous. Returning False, but in future this will result in an error. Use `array.size > 0` to check that an array is not empty.\n",
            "  if diff:\n",
            "/usr/local/lib/python3.6/dist-packages/sklearn/preprocessing/label.py:151: DeprecationWarning: The truth value of an empty array is ambiguous. Returning False, but in future this will result in an error. Use `array.size > 0` to check that an array is not empty.\n",
            "  if diff:\n",
            "/usr/local/lib/python3.6/dist-packages/sklearn/preprocessing/label.py:151: DeprecationWarning: The truth value of an empty array is ambiguous. Returning False, but in future this will result in an error. Use `array.size > 0` to check that an array is not empty.\n",
            "  if diff:\n",
            "/usr/local/lib/python3.6/dist-packages/sklearn/preprocessing/label.py:151: DeprecationWarning: The truth value of an empty array is ambiguous. Returning False, but in future this will result in an error. Use `array.size > 0` to check that an array is not empty.\n",
            "  if diff:\n",
            "/usr/local/lib/python3.6/dist-packages/sklearn/preprocessing/label.py:151: DeprecationWarning: The truth value of an empty array is ambiguous. Returning False, but in future this will result in an error. Use `array.size > 0` to check that an array is not empty.\n",
            "  if diff:\n",
            "/usr/local/lib/python3.6/dist-packages/sklearn/preprocessing/label.py:151: DeprecationWarning: The truth value of an empty array is ambiguous. Returning False, but in future this will result in an error. Use `array.size > 0` to check that an array is not empty.\n",
            "  if diff:\n",
            "/usr/local/lib/python3.6/dist-packages/sklearn/preprocessing/label.py:151: DeprecationWarning: The truth value of an empty array is ambiguous. Returning False, but in future this will result in an error. Use `array.size > 0` to check that an array is not empty.\n",
            "  if diff:\n",
            "/usr/local/lib/python3.6/dist-packages/sklearn/preprocessing/label.py:151: DeprecationWarning: The truth value of an empty array is ambiguous. Returning False, but in future this will result in an error. Use `array.size > 0` to check that an array is not empty.\n",
            "  if diff:\n",
            "/usr/local/lib/python3.6/dist-packages/sklearn/preprocessing/label.py:151: DeprecationWarning: The truth value of an empty array is ambiguous. Returning False, but in future this will result in an error. Use `array.size > 0` to check that an array is not empty.\n",
            "  if diff:\n",
            "/usr/local/lib/python3.6/dist-packages/sklearn/preprocessing/label.py:151: DeprecationWarning: The truth value of an empty array is ambiguous. Returning False, but in future this will result in an error. Use `array.size > 0` to check that an array is not empty.\n",
            "  if diff:\n",
            "/usr/local/lib/python3.6/dist-packages/sklearn/preprocessing/label.py:151: DeprecationWarning: The truth value of an empty array is ambiguous. Returning False, but in future this will result in an error. Use `array.size > 0` to check that an array is not empty.\n",
            "  if diff:\n",
            "/usr/local/lib/python3.6/dist-packages/sklearn/preprocessing/label.py:151: DeprecationWarning: The truth value of an empty array is ambiguous. Returning False, but in future this will result in an error. Use `array.size > 0` to check that an array is not empty.\n",
            "  if diff:\n",
            "/usr/local/lib/python3.6/dist-packages/sklearn/preprocessing/label.py:151: DeprecationWarning: The truth value of an empty array is ambiguous. Returning False, but in future this will result in an error. Use `array.size > 0` to check that an array is not empty.\n",
            "  if diff:\n",
            "/usr/local/lib/python3.6/dist-packages/sklearn/preprocessing/label.py:151: DeprecationWarning: The truth value of an empty array is ambiguous. Returning False, but in future this will result in an error. Use `array.size > 0` to check that an array is not empty.\n",
            "  if diff:\n",
            "/usr/local/lib/python3.6/dist-packages/sklearn/preprocessing/label.py:151: DeprecationWarning: The truth value of an empty array is ambiguous. Returning False, but in future this will result in an error. Use `array.size > 0` to check that an array is not empty.\n",
            "  if diff:\n",
            "/usr/local/lib/python3.6/dist-packages/sklearn/preprocessing/label.py:151: DeprecationWarning: The truth value of an empty array is ambiguous. Returning False, but in future this will result in an error. Use `array.size > 0` to check that an array is not empty.\n",
            "  if diff:\n",
            "/usr/local/lib/python3.6/dist-packages/sklearn/preprocessing/label.py:151: DeprecationWarning: The truth value of an empty array is ambiguous. Returning False, but in future this will result in an error. Use `array.size > 0` to check that an array is not empty.\n",
            "  if diff:\n",
            "/usr/local/lib/python3.6/dist-packages/sklearn/preprocessing/label.py:151: DeprecationWarning: The truth value of an empty array is ambiguous. Returning False, but in future this will result in an error. Use `array.size > 0` to check that an array is not empty.\n",
            "  if diff:\n"
          ],
          "name": "stderr"
        },
        {
          "output_type": "stream",
          "text": [
            "/usr/local/lib/python3.6/dist-packages/sklearn/preprocessing/label.py:151: DeprecationWarning: The truth value of an empty array is ambiguous. Returning False, but in future this will result in an error. Use `array.size > 0` to check that an array is not empty.\n",
            "  if diff:\n",
            "/usr/local/lib/python3.6/dist-packages/sklearn/preprocessing/label.py:151: DeprecationWarning: The truth value of an empty array is ambiguous. Returning False, but in future this will result in an error. Use `array.size > 0` to check that an array is not empty.\n",
            "  if diff:\n",
            "/usr/local/lib/python3.6/dist-packages/sklearn/preprocessing/label.py:151: DeprecationWarning: The truth value of an empty array is ambiguous. Returning False, but in future this will result in an error. Use `array.size > 0` to check that an array is not empty.\n",
            "  if diff:\n",
            "/usr/local/lib/python3.6/dist-packages/sklearn/preprocessing/label.py:151: DeprecationWarning: The truth value of an empty array is ambiguous. Returning False, but in future this will result in an error. Use `array.size > 0` to check that an array is not empty.\n",
            "  if diff:\n",
            "/usr/local/lib/python3.6/dist-packages/sklearn/preprocessing/label.py:151: DeprecationWarning: The truth value of an empty array is ambiguous. Returning False, but in future this will result in an error. Use `array.size > 0` to check that an array is not empty.\n",
            "  if diff:\n",
            "/usr/local/lib/python3.6/dist-packages/sklearn/preprocessing/label.py:151: DeprecationWarning: The truth value of an empty array is ambiguous. Returning False, but in future this will result in an error. Use `array.size > 0` to check that an array is not empty.\n",
            "  if diff:\n",
            "/usr/local/lib/python3.6/dist-packages/sklearn/preprocessing/label.py:151: DeprecationWarning: The truth value of an empty array is ambiguous. Returning False, but in future this will result in an error. Use `array.size > 0` to check that an array is not empty.\n",
            "  if diff:\n",
            "/usr/local/lib/python3.6/dist-packages/sklearn/preprocessing/label.py:151: DeprecationWarning: The truth value of an empty array is ambiguous. Returning False, but in future this will result in an error. Use `array.size > 0` to check that an array is not empty.\n",
            "  if diff:\n",
            "/usr/local/lib/python3.6/dist-packages/sklearn/preprocessing/label.py:151: DeprecationWarning: The truth value of an empty array is ambiguous. Returning False, but in future this will result in an error. Use `array.size > 0` to check that an array is not empty.\n",
            "  if diff:\n",
            "/usr/local/lib/python3.6/dist-packages/sklearn/preprocessing/label.py:151: DeprecationWarning: The truth value of an empty array is ambiguous. Returning False, but in future this will result in an error. Use `array.size > 0` to check that an array is not empty.\n",
            "  if diff:\n",
            "/usr/local/lib/python3.6/dist-packages/sklearn/preprocessing/label.py:151: DeprecationWarning: The truth value of an empty array is ambiguous. Returning False, but in future this will result in an error. Use `array.size > 0` to check that an array is not empty.\n",
            "  if diff:\n",
            "/usr/local/lib/python3.6/dist-packages/sklearn/preprocessing/label.py:151: DeprecationWarning: The truth value of an empty array is ambiguous. Returning False, but in future this will result in an error. Use `array.size > 0` to check that an array is not empty.\n",
            "  if diff:\n",
            "/usr/local/lib/python3.6/dist-packages/sklearn/preprocessing/label.py:151: DeprecationWarning: The truth value of an empty array is ambiguous. Returning False, but in future this will result in an error. Use `array.size > 0` to check that an array is not empty.\n",
            "  if diff:\n",
            "/usr/local/lib/python3.6/dist-packages/sklearn/preprocessing/label.py:151: DeprecationWarning: The truth value of an empty array is ambiguous. Returning False, but in future this will result in an error. Use `array.size > 0` to check that an array is not empty.\n",
            "  if diff:\n",
            "/usr/local/lib/python3.6/dist-packages/sklearn/preprocessing/label.py:151: DeprecationWarning: The truth value of an empty array is ambiguous. Returning False, but in future this will result in an error. Use `array.size > 0` to check that an array is not empty.\n",
            "  if diff:\n",
            "/usr/local/lib/python3.6/dist-packages/sklearn/preprocessing/label.py:151: DeprecationWarning: The truth value of an empty array is ambiguous. Returning False, but in future this will result in an error. Use `array.size > 0` to check that an array is not empty.\n",
            "  if diff:\n",
            "/usr/local/lib/python3.6/dist-packages/sklearn/preprocessing/label.py:151: DeprecationWarning: The truth value of an empty array is ambiguous. Returning False, but in future this will result in an error. Use `array.size > 0` to check that an array is not empty.\n",
            "  if diff:\n",
            "/usr/local/lib/python3.6/dist-packages/sklearn/preprocessing/label.py:151: DeprecationWarning: The truth value of an empty array is ambiguous. Returning False, but in future this will result in an error. Use `array.size > 0` to check that an array is not empty.\n",
            "  if diff:\n",
            "/usr/local/lib/python3.6/dist-packages/sklearn/preprocessing/label.py:151: DeprecationWarning: The truth value of an empty array is ambiguous. Returning False, but in future this will result in an error. Use `array.size > 0` to check that an array is not empty.\n",
            "  if diff:\n",
            "/usr/local/lib/python3.6/dist-packages/sklearn/preprocessing/label.py:151: DeprecationWarning: The truth value of an empty array is ambiguous. Returning False, but in future this will result in an error. Use `array.size > 0` to check that an array is not empty.\n",
            "  if diff:\n",
            "/usr/local/lib/python3.6/dist-packages/sklearn/preprocessing/label.py:151: DeprecationWarning: The truth value of an empty array is ambiguous. Returning False, but in future this will result in an error. Use `array.size > 0` to check that an array is not empty.\n",
            "  if diff:\n",
            "/usr/local/lib/python3.6/dist-packages/sklearn/preprocessing/label.py:151: DeprecationWarning: The truth value of an empty array is ambiguous. Returning False, but in future this will result in an error. Use `array.size > 0` to check that an array is not empty.\n",
            "  if diff:\n"
          ],
          "name": "stderr"
        },
        {
          "output_type": "stream",
          "text": [
            "{'max_depth': 5}\n",
            "Grid scores on development set:\n",
            "\n",
            "0.636 (+/-0.037) for {'max_depth': 3}\n",
            "0.641 (+/-0.062) for {'max_depth': 4}\n",
            "0.649 (+/-0.043) for {'max_depth': 5}\n",
            "0.638 (+/-0.037) for {'max_depth': 6}\n",
            "0.635 (+/-0.050) for {'max_depth': 7}\n",
            "0.628 (+/-0.028) for {'max_depth': 8}\n",
            "0.616 (+/-0.015) for {'max_depth': 9}\n",
            "0.624 (+/-0.051) for {'max_depth': 10}\n",
            "0.624 (+/-0.033) for {'max_depth': 11}\n",
            "0.618 (+/-0.047) for {'max_depth': 12}\n",
            "0.619 (+/-0.046) for {'max_depth': 13}\n",
            "0.627 (+/-0.024) for {'max_depth': 14}\n",
            "0.623 (+/-0.040) for {'max_depth': 15}\n",
            "\n"
          ],
          "name": "stdout"
        }
      ]
    },
    {
      "metadata": {
        "id": "5v1NH5yV6YIs",
        "colab_type": "code",
        "colab": {
          "base_uri": "https://localhost:8080/",
          "height": 376
        },
        "outputId": "53ef60c8-dc3b-4829-8711-af311128e319"
      },
      "cell_type": "code",
      "source": [
        "param_range = np.arange(3,16,1)\n",
        "# param_range = np.logspace(-6, -1, 1)\n",
        "\n",
        "plt.title(\"Macro-Precision Curve with XGBClassifier\")\n",
        "plt.xlabel(\"max depth\")\n",
        "plt.ylabel(\"Macro-Precision\")\n",
        "plt.ylim(0.0, 1.1)\n",
        "lw = 2\n",
        "# plt.semilogx(param_range, train_scores_mean, label=\"Training with cv\",\n",
        "#              color=\"darkorange\", lw=lw)\n",
        "# plt.plot(param_range, np.asarray(mean_list), label=\"Training with cv\",\n",
        "#              color=\"darkorange\", lw=lw)\n",
        "# plt.fill_between(param_range, train_scores_mean - train_scores_std,\n",
        "#                  train_scores_mean + train_scores_std, alpha=0.2,\n",
        "#                  color=\"darkorange\", lw=lw)\n",
        "# plt.semilogx(param_range, test_scores_mean, label=\"Cross-validation score\",\n",
        "#              color=\"navy\", lw=lw)\n",
        "plt.plot(param_range, np.asarray(mean_list), label=\"Cross-validation score\",\n",
        "             color=\"navy\", lw=lw)\n",
        "plt.fill_between(param_range, np.asarray(mean_list) - np.asarray(std_list),\n",
        "                 np.asarray(mean_list) + np.asarray(std_list), alpha=0.2,\n",
        "                 color=\"navy\", lw=lw)\n",
        "plt.legend(loc=\"best\")\n",
        "plt.show()"
      ],
      "execution_count": 150,
      "outputs": [
        {
          "output_type": "display_data",
          "data": {
            "image/png": "[encoded data removed]",
            "text/plain": [
              "<matplotlib.figure.Figure at 0x7f3b643e9320>"
            ]
          },
          "metadata": {
            "tags": []
          }
        }
      ]
    },
    {
      "metadata": {
        "id": "ZUvqrr_P6cXg",
        "colab_type": "code",
        "colab": {
          "base_uri": "https://localhost:8080/",
          "height": 751
        },
        "outputId": "d90bfe59-29bd-4cd9-e41c-90baac84fa4c"
      },
      "cell_type": "code",
      "source": [
        "confusion_matrix_avg=np.zeros((2,2))\n",
        "# accuracy_avg=0.0\n",
        "times=20\n",
        "for i in range(times):\n",
        "  from sklearn.cross_validation import train_test_split\n",
        "  X_train, X_test, y_train, y_test = train_test_split(mov_sel, labels, test_size=0.20, random_state=i)\n",
        "  from sklearn import metrics\n",
        "  RFC = XGBClassifier(max_depth=6)\n",
        "  RFC.fit(X_train, y_train)\n",
        "  y_pred = RFC.predict(X_test)\n",
        "#   print('Accuracy of logistic regression classifier on test set: {:.2f}'.format(RFC.score(X_test, y_test)))\n",
        "  from sklearn.metrics import confusion_matrix\n",
        "  confusion_matrix = confusion_matrix(y_test, y_pred)\n",
        "  confusion_matrix_avg=confusion_matrix_avg+confusion_matrix\n",
        "#   accuracy_avg=(confusion_matrix[0][0]/(confusion_matrix[0][0]+confusion_matrix[0][1])+confusion_matrix[1][1]/(confusion_matrix[1][0]+confusion_matrix[1][1]))/2+accuracy_avg\n",
        "confusion_matrix_avg=confusion_matrix_avg/times\n",
        "# accuracy_avg=accuracy_avg/times\n",
        "print(confusion_matrix_avg)"
      ],
      "execution_count": 154,
      "outputs": [
        {
          "output_type": "stream",
          "text": [
            "/usr/local/lib/python3.6/dist-packages/sklearn/preprocessing/label.py:151: DeprecationWarning: The truth value of an empty array is ambiguous. Returning False, but in future this will result in an error. Use `array.size > 0` to check that an array is not empty.\n",
            "  if diff:\n",
            "/usr/local/lib/python3.6/dist-packages/sklearn/preprocessing/label.py:151: DeprecationWarning: The truth value of an empty array is ambiguous. Returning False, but in future this will result in an error. Use `array.size > 0` to check that an array is not empty.\n",
            "  if diff:\n",
            "/usr/local/lib/python3.6/dist-packages/sklearn/preprocessing/label.py:151: DeprecationWarning: The truth value of an empty array is ambiguous. Returning False, but in future this will result in an error. Use `array.size > 0` to check that an array is not empty.\n",
            "  if diff:\n",
            "/usr/local/lib/python3.6/dist-packages/sklearn/preprocessing/label.py:151: DeprecationWarning: The truth value of an empty array is ambiguous. Returning False, but in future this will result in an error. Use `array.size > 0` to check that an array is not empty.\n",
            "  if diff:\n",
            "/usr/local/lib/python3.6/dist-packages/sklearn/preprocessing/label.py:151: DeprecationWarning: The truth value of an empty array is ambiguous. Returning False, but in future this will result in an error. Use `array.size > 0` to check that an array is not empty.\n",
            "  if diff:\n",
            "/usr/local/lib/python3.6/dist-packages/sklearn/preprocessing/label.py:151: DeprecationWarning: The truth value of an empty array is ambiguous. Returning False, but in future this will result in an error. Use `array.size > 0` to check that an array is not empty.\n",
            "  if diff:\n",
            "/usr/local/lib/python3.6/dist-packages/sklearn/preprocessing/label.py:151: DeprecationWarning: The truth value of an empty array is ambiguous. Returning False, but in future this will result in an error. Use `array.size > 0` to check that an array is not empty.\n",
            "  if diff:\n",
            "/usr/local/lib/python3.6/dist-packages/sklearn/preprocessing/label.py:151: DeprecationWarning: The truth value of an empty array is ambiguous. Returning False, but in future this will result in an error. Use `array.size > 0` to check that an array is not empty.\n",
            "  if diff:\n",
            "/usr/local/lib/python3.6/dist-packages/sklearn/preprocessing/label.py:151: DeprecationWarning: The truth value of an empty array is ambiguous. Returning False, but in future this will result in an error. Use `array.size > 0` to check that an array is not empty.\n",
            "  if diff:\n",
            "/usr/local/lib/python3.6/dist-packages/sklearn/preprocessing/label.py:151: DeprecationWarning: The truth value of an empty array is ambiguous. Returning False, but in future this will result in an error. Use `array.size > 0` to check that an array is not empty.\n",
            "  if diff:\n",
            "/usr/local/lib/python3.6/dist-packages/sklearn/preprocessing/label.py:151: DeprecationWarning: The truth value of an empty array is ambiguous. Returning False, but in future this will result in an error. Use `array.size > 0` to check that an array is not empty.\n",
            "  if diff:\n",
            "/usr/local/lib/python3.6/dist-packages/sklearn/preprocessing/label.py:151: DeprecationWarning: The truth value of an empty array is ambiguous. Returning False, but in future this will result in an error. Use `array.size > 0` to check that an array is not empty.\n",
            "  if diff:\n",
            "/usr/local/lib/python3.6/dist-packages/sklearn/preprocessing/label.py:151: DeprecationWarning: The truth value of an empty array is ambiguous. Returning False, but in future this will result in an error. Use `array.size > 0` to check that an array is not empty.\n",
            "  if diff:\n",
            "/usr/local/lib/python3.6/dist-packages/sklearn/preprocessing/label.py:151: DeprecationWarning: The truth value of an empty array is ambiguous. Returning False, but in future this will result in an error. Use `array.size > 0` to check that an array is not empty.\n",
            "  if diff:\n",
            "/usr/local/lib/python3.6/dist-packages/sklearn/preprocessing/label.py:151: DeprecationWarning: The truth value of an empty array is ambiguous. Returning False, but in future this will result in an error. Use `array.size > 0` to check that an array is not empty.\n",
            "  if diff:\n",
            "/usr/local/lib/python3.6/dist-packages/sklearn/preprocessing/label.py:151: DeprecationWarning: The truth value of an empty array is ambiguous. Returning False, but in future this will result in an error. Use `array.size > 0` to check that an array is not empty.\n",
            "  if diff:\n",
            "/usr/local/lib/python3.6/dist-packages/sklearn/preprocessing/label.py:151: DeprecationWarning: The truth value of an empty array is ambiguous. Returning False, but in future this will result in an error. Use `array.size > 0` to check that an array is not empty.\n",
            "  if diff:\n",
            "/usr/local/lib/python3.6/dist-packages/sklearn/preprocessing/label.py:151: DeprecationWarning: The truth value of an empty array is ambiguous. Returning False, but in future this will result in an error. Use `array.size > 0` to check that an array is not empty.\n",
            "  if diff:\n",
            "/usr/local/lib/python3.6/dist-packages/sklearn/preprocessing/label.py:151: DeprecationWarning: The truth value of an empty array is ambiguous. Returning False, but in future this will result in an error. Use `array.size > 0` to check that an array is not empty.\n",
            "  if diff:\n"
          ],
          "name": "stderr"
        },
        {
          "output_type": "stream",
          "text": [
            "[[503.1   53.8 ]\n",
            " [151.95  70.15]]\n"
          ],
          "name": "stdout"
        },
        {
          "output_type": "stream",
          "text": [
            "/usr/local/lib/python3.6/dist-packages/sklearn/preprocessing/label.py:151: DeprecationWarning: The truth value of an empty array is ambiguous. Returning False, but in future this will result in an error. Use `array.size > 0` to check that an array is not empty.\n",
            "  if diff:\n"
          ],
          "name": "stderr"
        }
      ]
    },
    {
      "metadata": {
        "id": "KxxiRT5d9hZU",
        "colab_type": "code",
        "colab": {
          "base_uri": "https://localhost:8080/",
          "height": 751
        },
        "outputId": "9c6f3ea8-cf2c-4521-fc14-ec26671fbb00"
      },
      "cell_type": "code",
      "source": [
        "confusion_matrix_avg=np.zeros((2,2))\n",
        "# accuracy_avg=0.0\n",
        "times=20\n",
        "for i in range(times):\n",
        "  from sklearn.cross_validation import train_test_split\n",
        "  X_train, X_test, y_train, y_test = train_test_split(mov_pca_Df, labels, test_size=0.20, random_state=i)\n",
        "  from sklearn import metrics\n",
        "  RFC = XGBClassifier()\n",
        "  RFC.fit(X_train, y_train)\n",
        "  y_pred = RFC.predict(X_test)\n",
        "#   print('Accuracy of logistic regression classifier on test set: {:.2f}'.format(RFC.score(X_test, y_test)))\n",
        "  from sklearn.metrics import confusion_matrix\n",
        "  confusion_matrix = confusion_matrix(y_test, y_pred)\n",
        "  confusion_matrix_avg=confusion_matrix_avg+confusion_matrix\n",
        "#   accuracy_avg=(confusion_matrix[0][0]/(confusion_matrix[0][0]+confusion_matrix[0][1])+confusion_matrix[1][1]/(confusion_matrix[1][0]+confusion_matrix[1][1]))/2+accuracy_avg\n",
        "confusion_matrix_avg=confusion_matrix_avg/times\n",
        "# accuracy_avg=accuracy_avg/times\n",
        "print(confusion_matrix_avg)"
      ],
      "execution_count": 145,
      "outputs": [
        {
          "output_type": "stream",
          "text": [
            "/usr/local/lib/python3.6/dist-packages/sklearn/preprocessing/label.py:151: DeprecationWarning: The truth value of an empty array is ambiguous. Returning False, but in future this will result in an error. Use `array.size > 0` to check that an array is not empty.\n",
            "  if diff:\n",
            "/usr/local/lib/python3.6/dist-packages/sklearn/preprocessing/label.py:151: DeprecationWarning: The truth value of an empty array is ambiguous. Returning False, but in future this will result in an error. Use `array.size > 0` to check that an array is not empty.\n",
            "  if diff:\n",
            "/usr/local/lib/python3.6/dist-packages/sklearn/preprocessing/label.py:151: DeprecationWarning: The truth value of an empty array is ambiguous. Returning False, but in future this will result in an error. Use `array.size > 0` to check that an array is not empty.\n",
            "  if diff:\n",
            "/usr/local/lib/python3.6/dist-packages/sklearn/preprocessing/label.py:151: DeprecationWarning: The truth value of an empty array is ambiguous. Returning False, but in future this will result in an error. Use `array.size > 0` to check that an array is not empty.\n",
            "  if diff:\n",
            "/usr/local/lib/python3.6/dist-packages/sklearn/preprocessing/label.py:151: DeprecationWarning: The truth value of an empty array is ambiguous. Returning False, but in future this will result in an error. Use `array.size > 0` to check that an array is not empty.\n",
            "  if diff:\n",
            "/usr/local/lib/python3.6/dist-packages/sklearn/preprocessing/label.py:151: DeprecationWarning: The truth value of an empty array is ambiguous. Returning False, but in future this will result in an error. Use `array.size > 0` to check that an array is not empty.\n",
            "  if diff:\n",
            "/usr/local/lib/python3.6/dist-packages/sklearn/preprocessing/label.py:151: DeprecationWarning: The truth value of an empty array is ambiguous. Returning False, but in future this will result in an error. Use `array.size > 0` to check that an array is not empty.\n",
            "  if diff:\n",
            "/usr/local/lib/python3.6/dist-packages/sklearn/preprocessing/label.py:151: DeprecationWarning: The truth value of an empty array is ambiguous. Returning False, but in future this will result in an error. Use `array.size > 0` to check that an array is not empty.\n",
            "  if diff:\n",
            "/usr/local/lib/python3.6/dist-packages/sklearn/preprocessing/label.py:151: DeprecationWarning: The truth value of an empty array is ambiguous. Returning False, but in future this will result in an error. Use `array.size > 0` to check that an array is not empty.\n",
            "  if diff:\n",
            "/usr/local/lib/python3.6/dist-packages/sklearn/preprocessing/label.py:151: DeprecationWarning: The truth value of an empty array is ambiguous. Returning False, but in future this will result in an error. Use `array.size > 0` to check that an array is not empty.\n",
            "  if diff:\n",
            "/usr/local/lib/python3.6/dist-packages/sklearn/preprocessing/label.py:151: DeprecationWarning: The truth value of an empty array is ambiguous. Returning False, but in future this will result in an error. Use `array.size > 0` to check that an array is not empty.\n",
            "  if diff:\n",
            "/usr/local/lib/python3.6/dist-packages/sklearn/preprocessing/label.py:151: DeprecationWarning: The truth value of an empty array is ambiguous. Returning False, but in future this will result in an error. Use `array.size > 0` to check that an array is not empty.\n",
            "  if diff:\n",
            "/usr/local/lib/python3.6/dist-packages/sklearn/preprocessing/label.py:151: DeprecationWarning: The truth value of an empty array is ambiguous. Returning False, but in future this will result in an error. Use `array.size > 0` to check that an array is not empty.\n",
            "  if diff:\n",
            "/usr/local/lib/python3.6/dist-packages/sklearn/preprocessing/label.py:151: DeprecationWarning: The truth value of an empty array is ambiguous. Returning False, but in future this will result in an error. Use `array.size > 0` to check that an array is not empty.\n",
            "  if diff:\n",
            "/usr/local/lib/python3.6/dist-packages/sklearn/preprocessing/label.py:151: DeprecationWarning: The truth value of an empty array is ambiguous. Returning False, but in future this will result in an error. Use `array.size > 0` to check that an array is not empty.\n",
            "  if diff:\n",
            "/usr/local/lib/python3.6/dist-packages/sklearn/preprocessing/label.py:151: DeprecationWarning: The truth value of an empty array is ambiguous. Returning False, but in future this will result in an error. Use `array.size > 0` to check that an array is not empty.\n",
            "  if diff:\n",
            "/usr/local/lib/python3.6/dist-packages/sklearn/preprocessing/label.py:151: DeprecationWarning: The truth value of an empty array is ambiguous. Returning False, but in future this will result in an error. Use `array.size > 0` to check that an array is not empty.\n",
            "  if diff:\n",
            "/usr/local/lib/python3.6/dist-packages/sklearn/preprocessing/label.py:151: DeprecationWarning: The truth value of an empty array is ambiguous. Returning False, but in future this will result in an error. Use `array.size > 0` to check that an array is not empty.\n",
            "  if diff:\n",
            "/usr/local/lib/python3.6/dist-packages/sklearn/preprocessing/label.py:151: DeprecationWarning: The truth value of an empty array is ambiguous. Returning False, but in future this will result in an error. Use `array.size > 0` to check that an array is not empty.\n",
            "  if diff:\n"
          ],
          "name": "stderr"
        },
        {
          "output_type": "stream",
          "text": [
            "[[534.15  22.75]\n",
            " [193.2   28.9 ]]\n"
          ],
          "name": "stdout"
        },
        {
          "output_type": "stream",
          "text": [
            "/usr/local/lib/python3.6/dist-packages/sklearn/preprocessing/label.py:151: DeprecationWarning: The truth value of an empty array is ambiguous. Returning False, but in future this will result in an error. Use `array.size > 0` to check that an array is not empty.\n",
            "  if diff:\n"
          ],
          "name": "stderr"
        }
      ]
    },
    {
      "metadata": {
        "id": "gBodXop39s38",
        "colab_type": "code",
        "colab": {}
      },
      "cell_type": "code",
      "source": [
        ""
      ],
      "execution_count": 0,
      "outputs": []
    }
  ]
}
